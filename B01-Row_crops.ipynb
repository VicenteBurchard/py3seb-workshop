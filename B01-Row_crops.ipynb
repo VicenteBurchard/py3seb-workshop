{
 "cells": [
  {
   "cell_type": "markdown",
   "metadata": {},
   "source": [
    "---\n",
    "title: TSEB in row crops\n",
    "subject: Tutorial\n",
    "subtitle: Notebook to evaluate the interception and absorption of irradiance in row crops\n",
    "short_title: Row crops\n",
    "authors:\n",
    "  - name: Héctor Nieto\n",
    "    affiliations:\n",
    "      - Instituto de Ciencias Agrarias, ICA\n",
    "      - CSIC\n",
    "    orcid: 0000-0003-4250-6424\n",
    "    email: hector.nieto@ica.csic.es\n",
    "  - name: Benjamin Mary\n",
    "    affiliations:\n",
    "      - Insituto de Ciencias Agrarias\n",
    "      - CSIC\n",
    "    orcid: 0000-0001-7199-2885\n",
    "license: CC-BY-SA-4.0\n",
    "keywords: TSEB, radiation, Beer-Lambert law, albedo\n",
    "---"
   ]
  },
  {
   "cell_type": "markdown",
   "metadata": {},
   "source": [
    "# Summary\n",
    "This interactive Jupyter Notebook has the objective of showing the implemenation of radiation transmission in row crops. It is based on [](https://doi.org/10.1007/s00271-019-00621-x)\n",
    "\n",
    "We will make use of simulation models, particularly radiative transfer models at both leaf and canopy levels."
   ]
  },
  {
   "cell_type": "markdown",
   "metadata": {},
   "source": [
    "# Instructions\n",
    "Read carefully all the text and follow the instructions.\n",
    "\n",
    "Once each section is read, run the jupyter code cell underneath (marked as `In []`) by clicking the icon `Run`, or pressing the keys SHIFT+ENTER of your keyboard. A graphical interface will then display, which allows you to interact with and perform the assigned tasks.\n",
    "\n",
    "To start, please run the following cell to import all the packages required for this notebook. Once you run the cell below, an acknowledgement message, stating all libraries were correctly imported, should be printed on screen."
   ]
  },
  {
   "cell_type": "code",
   "execution_count": null,
   "metadata": {},
   "outputs": [],
   "source": [
    "%matplotlib inline\n",
    "from pathlib import Path\n",
    "from ipywidgets import interact, interactive, fixed, widgets\n",
    "from IPython.display import display\n",
    "from functions import radiation_and_available_energy as fn\n",
    "import numpy as np"
   ]
  },
  {
   "attachments": {},
   "cell_type": "markdown",
   "metadata": {},
   "source": [
    "# Shortwave radiation in row crops\n",
    "So far, all simulations and processes have assumed a horizontally homogeneous canopy or crop, or at least dense enough to approximate a homogeneous crop. However, what happens when one is working with row crops or isolated canopies, such as in vineyards or orchards?\n",
    "\n",
    "The hard fact is that everything is much more complex as on the one hand the canopy is usually clumped around a stem and branches, leaving some parts of the ground fully exposed. On the other hand, in row crops, the dimension of the canopy/trellis system and the orientation of the rows also affect how light is intercepted and transmitted between the crop and the ground.\n",
    "\n",
    "In order to evaluate this situation, we need to consider additional parameters of crop structure:\n",
    "\n",
    "* The canopy height ($h_c$), since higher canopies will cast longer shadows in the interrow.\n",
    "* The fraction of canopy occupied by the ground ($f_c$), or the ratio between the canopy/trellis width ($w_c$) and the row spacing (L).\n",
    "* The azimuth row orientation, with respect to the north. 0º will indicate that the rows are oriented S-N, negative values indicate that the rows go from NW to SE, and positive values from NE to SW, with -90º and/or 90º showing rows oriented E-W.\n",
    "\n",
    ":::{figure} ./input/figures/row_crop_shadowing.webp\n",
    ":alt: Row crop shadowing model\n",
    ":name: row-crop-model\n",
    "Canopy model for estimating the clumping index in row crops, F is the leaf area index, L is the distance between rows, hc is the canopy height, hb is the height of the canopy above ground, and wc is the canopy width\n",
    ":::\n",
    "\n",
    "The approach builds upon the concept of the clumping index, defined as a conversion factor that modifies the leaf area index of a real canopy (F) in a fictitious homogeneous canopy with $LAI_{eff} = \\Omega\\left(\\theta, \\psi\\right) F$, such as its gap fraction ($G\\left(\\theta, \\psi\\right)$) is the same as the gap fraction of the real-world canopy:\n",
    "\n",
    ":::{math}\n",
    ":label:eq-gapfraction\n",
    "\\Omega\\left(\\theta,\\psi\\right) F \\kappa_b\\left(\\theta\\right)= -\\log\\left[G\\left(\\theta,\\psi\\right)\\right]\n",
    ":::\n",
    "with $\\kappa_b\\left(\\theta\\right)$ is the beam extinction cofficient computed for a homogenous canopy (e.g. using [](https://doi.org/10.1007/978-1-4612-1626-1).\n",
    "\n",
    "The real canopy gap fraction is estimated on this simplied model as the sunlit part of the bare soil that is not shaded by the canopy ($1 - f_{sc}$) plus the gaps caused by the solar beam passing through the crop canopy (ignoring mutual shadowing between rows:\n",
    "\n",
    ":::{math}\n",
    "G(\\theta ,\\psi)={f_{sc}}(\\theta ,\\psi )\\exp [ - {\\kappa _{{\\text{b}}}}(\\theta )F]+[1 - {f_{{\\text{sc}}}}(\\theta ,\\phi )].\n",
    ":::\n",
    "\n",
    "and $f_{sc}$ is computed from (#row-crop-model) using trigonometry:\n",
    "\n",
    ":::{math}\n",
    "{f_{{\\text{sc}}}}(\\theta ,\\phi )=\\frac{{{w_{\\text{c}}}+({h_{\\text{c}}} - {h_{\\text{b}}})\\tan \\theta |\\sin \\phi |}}{L}\n",
    ":::\n",
    "\n",
    "In the following interactive plot, we have added these parameters to see their effect on net radiation. In addition, to ease the comparison with previous plot, we have included a second graph that shows the fraction of absorbed radiation for both a horizontally homogeneous crop and a row crop."
   ]
  },
  {
   "cell_type": "code",
   "execution_count": null,
   "metadata": {},
   "outputs": [],
   "source": [
    "w_sn = interactive(fn.plot_net_solar_radiation,\n",
    "                   lai=fn.w_lai, leaf_angle=fn.w_leaf_angle, h_c=fn.w_hc, f_c=fn.w_fc,\n",
    "                   row_distance=fn.w_interrow, row_direction=fn.w_psi, sdn_day=fn.w_sdn, skyl=fn.w_skyl, \n",
    "                   fvis=fixed(0.55), lat=fn.w_lat, cab=fn.w_cab, cw=fn.w_cw, soil_type=fn.w_soil)\n",
    "display(w_sn)"
   ]
  },
  {
   "cell_type": "markdown",
   "metadata": {},
   "source": [
    "* The sun rises from the eastern side, at noon reaches its zenith towards the north (or south depending on whether we are north or south of the equator), and sunset is from the western side. Taking into account these facts, observe the effect of changing the row orientation from E-W to S-N. There should be a drop in canopy net radiation when the sun is parallel to the rows, as in this case there should be lower radiation interception by the canopy.\n",
    "\n",
    "* Observe that with larger canopy fractions ($f_c$, or wider canopies relative to the row spacing), the crop behaves similarly to the homogeneous crops from the previous simulation.\n",
    "\n",
    "* There is an interaction effect between canopy height and row separation (`L`). Narrower rows in lower crops display a similar effect as that of taller crops in wider rows.\n",
    "\n",
    "* Finally, as we have seen in previous interactive plots, these effects are minimized at larger proportion of diffuse radiation.\n",
    "\n",
    ":::{seealso}\n",
    ":class:dropdown\n",
    "Check the code in the [pyTSEB GitHub repository](https://github.com/hectornieto/pyTSEB/blob/9d1f02ec2968bb323c07528ba44144c3733f3737/pyTSEB/clumping_index.py#L124).\n",
    ":::"
   ]
  },
  {
   "cell_type": "markdown",
   "metadata": {},
   "source": [
    "# Implementation with actual data in [pyTSEB](https://github.com/hectornieto/pyTSEB)\n",
    "We will work some of the sites of GRAPEX. There are a few sites with measurements of below canopy radiation that could be used to evaluate the model. In this case we can work with the sites in Sierra Loma and Barrelli, with different row orientations and canopy sctructure.\n",
    "\n",
    ":::{table} Site characteristics\n",
    ":name: site-description\n",
    "Site | Latitude | Longitude | Elevation (m) | Row direction (deg.) | Row spacing (m) | Min. height (m) | Max. height (m) | Min. width (m) | Max. width (m) | TA height (m) | WS height (m)\n",
    ":-- | --: | --: | --: | --: | --: | --: | --: | --: | --: | --: | --:\n",
    "Barrelli_007 | 38.753 | -122.98 | 113 | 135 | 3.35 | 1.25 | 2.3 | 0.5 | 1.8 | 4 | 4\n",
    "Barrelli_012 | 38.751369 | -122.974658 | 112 | 45 | 3.35 | 1.25 | 2.3 | 0.5 | 1.8 | 4.4 | 4.4\n",
    "Sierra Loma-north | 38.289338 | -121.117764 | 38 | 90 | 3.35 | 0.5 | 1.42 | 0.8 | 2.6 | 5 | 5\n",
    "Sierra Loma-south | 38.280488 | -121.117597 | 37 | 90 | 3.35 | 0.5 | 1.42 | 0.8 | 2 | 5 | 5\n",
    ":::\n",
    "\n",
    "The input we will use can be found in [](./input/meteo/) for the micrometeorological data and in [](./input/radiation) for the below canopy radiation measurements.\n",
    "\n",
    "On the other hand, LAI was obtained from Earth Observation data {cite:p}`https://doi.org/10.1007/s00271-022-00798-8`"
   ]
  },
  {
   "cell_type": "markdown",
   "metadata": {},
   "source": [
    "## Select a site"
   ]
  },
  {
   "cell_type": "code",
   "execution_count": null,
   "metadata": {},
   "outputs": [],
   "source": [
    "w_site = widgets.Dropdown(\n",
    "    options=[('Sierra Loma N', \"slmN\"), ('Sierra Loma S', \"slmS\"), ('Barrelli_007', \"bar007\"), ('Barrelli_012', \"bar012\")],\n",
    "    value=\"slmN\",\n",
    "    description='Site:',\n",
    ")\n",
    "display(w_site)"
   ]
  },
  {
   "cell_type": "markdown",
   "metadata": {},
   "source": [
    "## Read the radiation and LAI timeseries"
   ]
  },
  {
   "cell_type": "code",
   "execution_count": null,
   "metadata": {},
   "outputs": [],
   "source": [
    "# Import Python libraries\n",
    "from pathlib import Path\n",
    "import pandas as pd\n",
    "\n",
    "# Set the LAI and readiation folders\n",
    "input_dir = Path().absolute() / \"input\"\n",
    "lai_dir = input_dir / \"canopy\"\n",
    "rad_dir = input_dir / \"radiation\"\n",
    "# Set the input files based on the chosen site\n",
    "lai_filename = lai_dir / f\"FLX_US-{w_site.value}_FLUXNET2015_AUXCANOPY_DD.csv\"\n",
    "rad_filename = rad_dir / f\"FLX_US-{w_site.value}_FLUXNET2015_AUXRADIATION_HH.csv\"\n",
    "print(f\"LAI file path is {lai_filename}\")\n",
    "print(f\"Radiation file path is {rad_filename}\")\n",
    "\n",
    "# Read the LAI and radiation tables\n",
    "lai = pd.read_csv(lai_filename, sep=\";\", na_values=-9999)\n",
    "rad = pd.read_csv(rad_filename, sep=\";\", na_values=-9999)\n",
    "\n",
    "# Merge both tables by date\n",
    "rad[\"TIMESTAMP\"] = pd.to_datetime(rad[\"TIMESTAMP\"], format=\"%Y%m%d%H%M\")\n",
    "lai[\"DATE\"] = pd.to_datetime(lai[\"TIMESTAMP\"], format=\"%Y%m%d\").dt.date\n",
    "lai = lai.drop(labels=[\"TIMESTAMP\"], axis=1)\n",
    "rad[\"DATE\"] = rad[\"TIMESTAMP\"].dt.date\n",
    "rad = rad.merge(lai, on=\"DATE\")\n",
    "\n",
    "# We discard all cases at night (SW_IN <=0)\n",
    "rad = rad[rad[\"SW_IN\"] > 0]\n"
   ]
  },
  {
   "cell_type": "markdown",
   "metadata": {},
   "source": [
    "### Plot the input variables"
   ]
  },
  {
   "cell_type": "code",
   "execution_count": null,
   "metadata": {},
   "outputs": [],
   "source": [
    "from plotly.subplots import make_subplots\n",
    "import plotly.graph_objects as go\n",
    "fig = make_subplots(specs=[[{\"secondary_y\": True}]])\n",
    "\n",
    "fig.add_trace(go.Scatter(x=rad[\"TIMESTAMP\"], y=rad[\"LAI\"], \n",
    "                         name=\"LAI\", \n",
    "                         mode=\"lines\", line={\"color\":\"green\"}),\n",
    "              secondary_y=True)\n",
    "\n",
    "fig.add_trace(go.Scatter(x=rad[\"TIMESTAMP\"], y=rad[\"SW_IN\"], \n",
    "                         name=\"Incoming shortwave irradiance\",\n",
    "                         mode=\"lines\",line={\"color\":\"black\"})\n",
    "             )\n",
    "\n",
    "fig.add_trace(go.Scatter(x=rad[\"TIMESTAMP\"], y=rad[\"SW_BELOW\"],\n",
    "                         name=\"Below-canopy shortwave irradiance\", \n",
    "                         mode=\"lines\", line={\"color\":\"blue\"})\n",
    "             )\n",
    "\n",
    "fig.update_layout(title_text=f\"Radiation measurements at {w_site.label}\",\n",
    "                 hovermode=\"x\")"
   ]
  },
  {
   "cell_type": "markdown",
   "metadata": {},
   "source": [
    "## Get the canopy a priori structural properties"
   ]
  },
  {
   "cell_type": "code",
   "execution_count": null,
   "metadata": {},
   "outputs": [],
   "source": [
    "import yaml\n",
    "yaml_file = input_dir / \"site_description.yaml\"\n",
    "site_dict = yaml.safe_load(yaml_file.read_text())\n",
    "lat = float(site_dict[\"lat\"][w_site.value])\n",
    "lon = float(site_dict[\"lon\"][w_site.value])\n",
    "elev = float(site_dict[\"elev\"][w_site.value])\n",
    "row_direction = float(site_dict[\"row_direction\"][w_site.value])\n",
    "interrow = float(site_dict[\"interrow\"][w_site.value])\n",
    "hc_min = float(site_dict[\"hc_min\"][w_site.value])\n",
    "hc_max = float(site_dict[\"hc_max\"][w_site.value])\n",
    "wc_min = float(site_dict[\"wc_min\"][w_site.value])\n",
    "wc_max = float(site_dict[\"wc_max\"][w_site.value])\n",
    "zh = float(site_dict[\"zh\"][w_site.value])\n",
    "zm = float(site_dict[\"zm\"][w_site.value])\n",
    "\n",
    "print(f\"{w_site.label} has the following site characteristics:\\n\"\n",
    "      f\"\\t Latitude: {lat} deg. \\n\"\n",
    "      f\"\\t Longitude: {lon} deg. \\n\"\n",
    "      f\"\\t Elevation: {elev} m \\n\"\n",
    "      f\"\\t Row direction: {row_direction} deg. \\n\"\n",
    "      f\"\\t Row spacing: {interrow} m \\n\"\n",
    "      f\"\\t Min. canopy height: {hc_min} m \\n\"\n",
    "      f\"\\t Max. canopy height: {hc_max} m \\n\"\n",
    "      f\"\\t Min. canopy width: {wc_min} m \\n\"\n",
    "      f\"\\t Max. canopy width: {wc_max} m \\n\"\n",
    ")"
   ]
  },
  {
   "cell_type": "markdown",
   "metadata": {},
   "source": [
    "## Estimate the structural variables based on Earth Observation LAI timeseries\n",
    "we will estimate timeseries of canopy structural variables based on LAI and empirical observations of trellis development. These relationships were obtained for Sierra Loma {cite:p}`https://doi.org/10.1007/s00271-018-0611-y` so they might be less robust in other sites\n",
    "\n",
    ":::{figure} ./input/figures/vineyard_structural_functions.png\n",
    ":alt: Empirical structural functions\n",
    ":name: structural-functions\n",
    "Empirical models relating canopy height , canopy width and the bottom of the canopy with the fused STARFM LAI. Solid dots represent in situ measured values\n",
    ":::\n",
    "These empirical equations are coded in Python as:"
   ]
  },
  {
   "cell_type": "code",
   "execution_count": null,
   "metadata": {},
   "outputs": [],
   "source": [
    "import numpy as np\n",
    "\n",
    "################################################################################\n",
    "# Empirical equations to generate canopy structural parameters from LAI\n",
    "################################################################################\n",
    "def lai_2_hc(lai, hc_min):\n",
    "    slope = 0.42\n",
    "    hc = hc_min + slope * lai\n",
    "    return hc\n",
    "\n",
    "\n",
    "def lai_2_hbratio(lai, hc_min):\n",
    "    hb_ratio_mean = 0.4848388065\n",
    "    hb_ratio = np.zeros(lai.shape)\n",
    "\n",
    "    hb_ratio[lai < hc_min] = 1. + ((hb_ratio_mean - 1.) / hc_min) * lai[\n",
    "        lai < hc_min]\n",
    "    hb_ratio[lai >= hc_min] = hb_ratio_mean\n",
    "\n",
    "    return hb_ratio\n",
    "\n",
    "\n",
    "def lai_2_width(lai, wc_min, wc_max):\n",
    "    beta = 6.96560056\n",
    "    offset = 1.70825736\n",
    "\n",
    "    width = wc_min + (wc_max - wc_min) / (1.0 + np.exp(-beta * (lai - offset)))\n",
    "\n",
    "    return width\n",
    "\n",
    "\n",
    "def lai_2_fcover(lai, fc_min, fc_max):\n",
    "    beta = 7.0\n",
    "    offset = 1.70\n",
    "\n",
    "    fcover = fc_min + (fc_max - fc_min) / (1.0 + np.exp(-beta * (lai - offset)))\n",
    "\n",
    "    return fcover\n",
    "\n",
    "\n",
    "def lai_2_canopy(lai, hc_min, fc_min, fc_max):\n",
    "    hc = lai_2_hc(lai, hc_min)\n",
    "    hb_ratio = lai_2_hbratio(lai, hc_min)\n",
    "    fcover = lai_2_fcover(lai, fc_min, fc_max)\n",
    "\n",
    "    return hc, hb_ratio, fcover"
   ]
  },
  {
   "cell_type": "markdown",
   "metadata": {},
   "source": [
    "From these empirical functions together with the site description properties described in [](#site-description) we can caluculate the time series of canopy structural variables needed to compute the shadowing as shown in [](#row-crop-model)\n",
    "\n",
    ":::{note}\n",
    ":class: dropdown\n",
    "These equations are site specific and most likely not applicable to other sites and crops. For operational purposes, such as using Earth Observation/satellite data a trade-off must be made between accuracy and applicability.\n",
    ":::"
   ]
  },
  {
   "cell_type": "code",
   "execution_count": null,
   "metadata": {},
   "outputs": [],
   "source": [
    "# Compute the expected minimum and maximum canopy cover based on mininum and maximum canopy width\n",
    "fc_min = wc_min / interrow\n",
    "fc_max = wc_max / interrow\n",
    "h_c, hb_ratio, f_c = lai_2_canopy(rad[\"LAI\"].values,\n",
    "                                  hc_min,\n",
    "                                  fc_min,\n",
    "                                  fc_max)\n",
    "\n",
    "# Ensure that both canopy height and cover are within the limits\n",
    "h_c = np.clip(h_c, hc_min, hc_max)\n",
    "f_c = np.clip(f_c, 0, 1)"
   ]
  },
  {
   "cell_type": "markdown",
   "metadata": {},
   "source": [
    "## We can define the spectral properties of our leaves and soil"
   ]
  },
  {
   "cell_type": "code",
   "execution_count": null,
   "metadata": {},
   "outputs": [],
   "source": [
    "style = {'description_width': 'initial'}\n",
    "w_rho_leaf_vis = widgets.BoundedFloatText(min=0, max=1, value=0.05, description='Leaf PAR reflectance', step=0.01, style=style)\n",
    "w_rho_leaf_nir = widgets.BoundedFloatText(min=0, max=1, value=0.35, description='Leaf NIR reflectance', step=0.01, style=style)\n",
    "w_tau_leaf_vis = widgets.BoundedFloatText(min=0, max=1, value=0.05, description='Leaf PAR transmittance', step=0.01, style=style)\n",
    "w_tau_leaf_nir = widgets.BoundedFloatText(min=0, max=1, value=0.35, description='Leaf NIR transmittance', step=0.01, style=style)\n",
    "w_rho_soil_vis = widgets.BoundedFloatText(min=0, max=1, value=0.15, description='Soil PAR reflectance', step=0.01, style=style)\n",
    "w_rho_soil_nir = widgets.BoundedFloatText(min=0, max=1, value=0.25, description='Soil NIR reflectance', step=0.01, style=style)\n",
    "display(w_rho_leaf_vis, w_rho_leaf_nir, w_tau_leaf_vis, w_tau_leaf_nir, w_rho_soil_vis, w_rho_soil_nir)"
   ]
  },
  {
   "cell_type": "markdown",
   "metadata": {},
   "source": [
    "## Now parse the spectral propoerties and also compute illumination angles"
   ]
  },
  {
   "cell_type": "code",
   "execution_count": null,
   "metadata": {},
   "outputs": [],
   "source": [
    "from pyTSEB import TSEB\n",
    "\n",
    "# We can get the leaf and soil spectral from the values above, or hard code the corresponding values\n",
    "rho_leaf_vis = w_rho_leaf_vis.value\n",
    "rho_leaf_nir = w_rho_leaf_nir.value\n",
    "tau_leaf_vis = w_tau_leaf_vis.value\n",
    "tau_leaf_nir = w_tau_leaf_nir.value\n",
    "rho_soil_vis = w_rho_soil_vis.value\n",
    "rho_soil_nir = w_rho_soil_nir.value\n",
    "\n",
    "# We also need to compute the solar angles\n",
    "# The time zone is PST, which corresponds to -120 deg, time longitude\n",
    "stdlon = -120\n",
    "# Call calc_sun_angles based on site coordinates and timestamp\n",
    "sza, saa = TSEB.met.calc_sun_angles(\n",
    "    np.full_like(rad['LAI'].values, lat),\n",
    "    np.full_like(rad[\"LAI\"].values, lon),\n",
    "    np.full_like(rad[\"LAI\"].values, stdlon),\n",
    "    rad['TIMESTAMP'].dt.dayofyear.values,\n",
    "    rad['TIMESTAMP'].dt.hour.values + rad['TIMESTAMP'].dt.minute.values / 60.)\n"
   ]
  },
  {
   "cell_type": "markdown",
   "metadata": {},
   "source": [
    "## We compute the clumping index and effective LAI for row crops"
   ]
  },
  {
   "cell_type": "code",
   "execution_count": null,
   "metadata": {},
   "outputs": [],
   "source": [
    "# canopy width\n",
    "w_c = f_c * interrow\n",
    "# Canopy width to height ratio\n",
    "w_c_ratio = w_c / (h_c - hb_ratio * h_c)\n",
    "# Local LAI\n",
    "F = rad[\"LAI\"].values / f_c\n",
    "\n",
    "# Compute the relative sun-row azimuth angle\n",
    "psi = row_direction - saa\n",
    "# Compute the clumping index for row crops\n",
    "# Calculate the zenith angle of incidence towards the normal of the row direction\n",
    "tan_alpha_x = np.tan(np.radians(sza)) * abs(np.sin(np.radians(psi)))\n",
    "# Calculate the fraction that is transmitted trough vegetation\n",
    "f_sc = np.asarray(f_c * (1.0 + (tan_alpha_x / w_c)))\n",
    "f_sc = np.minimum(f_sc, 1.0)\n",
    "# Estimate the beam extinction coefficient based on a elipsoidal LAD function\n",
    "# Eq. 15.4 of Campbell and Norman (1998)\n",
    "k_be = TSEB.rad.calc_K_be_Campbell(sza, x_lad=1)\n",
    "# Calculate the real gap fraction of our canopy\n",
    "trans = f_sc * np.exp(-k_be * F) + (1.0 - f_sc)\n",
    "# and then the clumping factor\n",
    "omega = np.zeros(F.shape)\n",
    "omega[trans > 0] = -np.log(trans[trans > 0]) / (F[trans > 0] * k_be[trans > 0])\n",
    "# And the effective LAI is the product of local LAI and the clumping index\n",
    "lai_eff = F * omega"
   ]
  },
  {
   "cell_type": "markdown",
   "metadata": {},
   "source": [
    "## We can run get the shortwave radiation below canopy using [](https://doi.org/10.1007/978-1-4612-1626-1)"
   ]
  },
  {
   "cell_type": "code",
   "execution_count": null,
   "metadata": {
    "editable": true,
    "slideshow": {
     "slide_type": ""
    },
    "tags": []
   },
   "outputs": [],
   "source": [
    "# Estimates the direct and diffuse solar radiation\n",
    "difvis, difnir, fvis, fnir = TSEB.rad.calc_difuse_ratio(rad[\"SW_IN\"].values,\n",
    "                                                        sza,\n",
    "                                                        press=np.full_like(sza, 1013.15))\n",
    "par_dir = fvis * (1. - difvis) * rad[\"SW_IN\"].values\n",
    "nir_dir = fnir * (1. - difnir) * rad[\"SW_IN\"].values\n",
    "par_dif = fvis * difvis * rad[\"SW_IN\"].values\n",
    "nir_dif = fnir * difnir * rad[\"SW_IN\"].values\n",
    "\n",
    "# Compute the tramistted beam and diffuse radiation at both the PAR and NIR regions\n",
    "_, _, taubt, taudt = TSEB.rad.calc_spectra_Cambpell(\n",
    "                    rad[\"LAI\"].values,\n",
    "                    sza,\n",
    "                    np.array([np.full_like(sza, rho_leaf_vis), np.full_like(sza, rho_leaf_nir)]),\n",
    "                    np.array([np.full_like(sza, tau_leaf_vis), np.full_like(sza, tau_leaf_nir)]),\n",
    "                    np.array([np.full_like(sza, rho_soil_vis), np.full_like(sza, rho_soil_nir)]),\n",
    "                    lai_eff=lai_eff)\n",
    "\n",
    "# Compute the below canopy radiation as product of spectral tranmisttances and PAR and NIR irradiance\n",
    "sw_below = np.maximum(taubt[0] * par_dir + taubt[1] * nir_dir + taudt[0] * par_dif + taudt[1] * nir_dif, \n",
    "                      0)"
   ]
  },
  {
   "cell_type": "markdown",
   "metadata": {},
   "source": [
    "## We now estimate the radiation below canopy using the original clumplend and non-clumped formulation"
   ]
  },
  {
   "cell_type": "code",
   "execution_count": null,
   "metadata": {},
   "outputs": [],
   "source": [
    "omega_0 = TSEB.CI.calc_omega0_Kustas(rad[\"LAI\"].values, f_c, x_LAD=1, isLAIeff=True)\n",
    "omega = TSEB.CI.calc_omega_Kustas(omega_0, sza, w_C=w_c_ratio)\n",
    "# And the effective LAI is the product of local LAI and the clumping index\n",
    "lai_eff = F * omega\n",
    "albb, albd, taubt, taudt = TSEB.rad.calc_spectra_Cambpell(\n",
    "                    rad[\"LAI\"].values,\n",
    "                    sza,\n",
    "                    np.array([np.full_like(sza, rho_leaf_vis), np.full_like(sza, rho_leaf_nir)]),\n",
    "                    np.array([np.full_like(sza, tau_leaf_vis), np.full_like(sza, tau_leaf_nir)]),\n",
    "                    np.array([np.full_like(sza, rho_soil_vis), np.full_like(sza, rho_soil_nir)]),\n",
    "                    lai_eff=lai_eff)\n",
    "\n",
    "sw_below_orig_clumped = np.maximum(taubt[0] * par_dir + taubt[1] * nir_dir + taudt[0] * par_dif + taudt[1] * nir_dif, \n",
    "                           0)\n",
    "\n",
    "# Homogeneous (non-clumped) vegetation\n",
    "albb, albd, taubt, taudt = TSEB.rad.calc_spectra_Cambpell(\n",
    "                    rad[\"LAI\"].values,\n",
    "                    sza,\n",
    "                    np.array([np.full_like(sza, rho_leaf_vis), np.full_like(sza, rho_leaf_nir)]),\n",
    "                    np.array([np.full_like(sza, tau_leaf_vis), np.full_like(sza, tau_leaf_nir)]),\n",
    "                    np.array([np.full_like(sza, rho_soil_vis), np.full_like(sza, rho_soil_nir)]),\n",
    "                    lai_eff=rad[\"LAI\"].values)\n",
    "\n",
    "sw_below_orig = np.maximum(taubt[0] * par_dir + taubt[1] * nir_dir + taudt[0] * par_dif + taudt[1] * nir_dif, \n",
    "                           0)"
   ]
  },
  {
   "cell_type": "markdown",
   "metadata": {},
   "source": [
    "## Finally we compare the different retrievals"
   ]
  },
  {
   "cell_type": "code",
   "execution_count": null,
   "metadata": {},
   "outputs": [],
   "source": [
    "from model_evaluation import double_collocation as dc\n",
    "from tabulate import tabulate\n",
    "\n",
    "fig = make_subplots(rows=1, cols=3,\n",
    "                    shared_yaxes=True,\n",
    "                    horizontal_spacing=0.01,\n",
    "                   subplot_titles=[\"Row clumped\", \"Original clumped\", \"Non-clumped\"])\n",
    "\n",
    "\n",
    "fig.add_trace(go.Scattergl(x=sw_below, y=rad[\"SW_BELOW\"], \n",
    "                         name=\"Clumpling index for row crops\", mode=\"markers\"),\n",
    "             row=1, col=1)\n",
    "\n",
    "fig.add_trace(go.Scattergl(x=sw_below_orig_clumped, y=rad[\"SW_BELOW\"], \n",
    "                         name=\"Original clumpling index\", mode=\"markers\"),\n",
    "             row=1, col=2)\n",
    "\n",
    "fig.add_trace(go.Scattergl(x=sw_below_orig, y=rad[\"SW_BELOW\"], \n",
    "                         name=\"Non clumped\", mode=\"markers\"),\n",
    "             row=1, col=3)\n",
    "\n",
    "fig.add_trace(go.Scatter(x=[0, 800], y=[0, 800], mode=\"lines\", name=\"1:1 line\", line={\"color\": \"black\", \"dash\": \"dash\"}),\n",
    "             row=1, col=1)\n",
    "fig.add_trace(go.Scatter(x=[0, 800], y=[0, 800], mode=\"lines\", name=\"1:1 line\", line={\"color\": \"black\", \"dash\": \"dash\"}),\n",
    "             row=1, col=2)\n",
    "fig.add_trace(go.Scatter(x=[0, 800], y=[0, 800], mode=\"lines\", name=\"1:1 line\", line={\"color\": \"black\", \"dash\": \"dash\"}),\n",
    "             row=1, col=3)\n",
    "\n",
    "fig.update_layout(title_text=f\"Observed vs. Estimated below canopy radiation at {w_site.label}\",\n",
    "                 hovermode=\"y\", yaxis_range=[0, 800], xaxis_range=[0, 800])\n"
   ]
  },
  {
   "cell_type": "code",
   "execution_count": null,
   "metadata": {},
   "outputs": [],
   "source": [
    "mean_bias, mae, rmse = dc.error_metrics(rad[\"SW_BELOW\"].values, sw_below)\n",
    "mean_bias_orig_clumped, mae_orig_clumped, rmse_orig_clumped = dc.error_metrics(rad[\"SW_BELOW\"].values, sw_below_orig_clumped)\n",
    "mean_bias_orig, mae_orig, rmse_orig = dc.error_metrics(rad[\"SW_BELOW\"].values, sw_below_orig)\n",
    "cor, p_value, slope, intercept, d = dc.agreement_metrics(rad[\"SW_BELOW\"].values, sw_below)\n",
    "cor_orig_clumped, p_value_orig_clumped, slope_orig_clumped, intercept_orig_clumped, d_orig_clumped = dc.agreement_metrics(rad[\"SW_BELOW\"].values, sw_below_orig_clumped)\n",
    "cor_orig, p_value_orig, slope_orig, intercept_orig, d_orig = dc.agreement_metrics(rad[\"SW_BELOW\"].values, sw_below_orig)\n",
    "\n",
    "table = [[\"bias\", mean_bias, mean_bias_orig_clumped,mean_bias_orig],\n",
    "         [\"RMSE\", rmse, rmse_orig_clumped, rmse_orig],\n",
    "         [\"MAE\",mae, mae_orig_clumped, mae_orig],\n",
    "         [\"Pearson\", cor, cor_orig_clumped, cor_orig],\n",
    "         [\"Willmot's d\", d, d_orig_clumped, d_orig]]\n",
    "\n",
    "print(tabulate(table, headers=[\"Metric\", \"Row Crop\", \"Original CI\", \"Non clumped\"]))"
   ]
  },
  {
   "cell_type": "markdown",
   "metadata": {},
   "source": [
    "## Save the results to an ASCII table"
   ]
  },
  {
   "cell_type": "code",
   "execution_count": null,
   "metadata": {},
   "outputs": [],
   "source": [
    "# Define the output filename\n",
    "out_dir = Path().absolute() / \"output\"\n",
    "outfile = out_dir / f\"FLX_US-{w_site.value}_FLUXNET2015_SW-BELOW_HR.csv\"\n",
    "\n",
    "# Create the output folder in case it does not exist\n",
    "if not out_dir.exists():\n",
    "    out_dir.mkdir(parents=True)\n",
    "\n",
    "# Convert the outputs to a Python dictionary\n",
    "outdict = {\"TIMESTAMP\": rad[\"TIMESTAMP\"].dt.strftime(\"%Y%m%d%H%M\"),\n",
    "           \"SW_BELOW_ROWS\": sw_below, \n",
    "           \"SW_BELOW_ORIG-CLUMPED\": sw_below_orig_clumped, \n",
    "           \"SW_BELOW_NON-CLUMPED\": sw_below_orig,}\n",
    "\n",
    "# Crete the output dataframe and save it to csv\n",
    "pd.DataFrame(outdict).to_csv(outfile, sep=\";\", na_rep=-9999, index=False)\n",
    "print(f\"Saved to {outfile}\")"
   ]
  },
  {
   "cell_type": "markdown",
   "metadata": {},
   "source": [
    "# Conclusions\n",
    "\n",
    "However several model model limitations can be discussed based on the assumptions made in this approach:\n",
    "\n",
    "* leaves are small, negligible in size as compared to the canopy size. \n",
    "* leaves absorb all incident radiation (i.e. no scattering or transmission) while computing the shadowing for the clumping index.\n",
    "* Canopy resembles a prism\n",
    "* [...]\n",
    "\n",
    ":::{note}\n",
    "Please feel free comment any thoughts. This is work in progress!!!\n",
    ":::"
   ]
  },
  {
   "cell_type": "code",
   "execution_count": null,
   "metadata": {},
   "outputs": [],
   "source": []
  }
 ],
 "metadata": {
  "celltoolbar": "Edit Metadata",
  "kernelspec": {
   "display_name": "Python 3 (ipykernel)",
   "language": "python",
   "name": "python3"
  },
  "language_info": {
   "codemirror_mode": {
    "name": "ipython",
    "version": 3
   },
   "file_extension": ".py",
   "mimetype": "text/x-python",
   "name": "python",
   "nbconvert_exporter": "python",
   "pygments_lexer": "ipython3",
   "version": "3.13.5"
  },
  "toc": {
   "base_numbering": 0
  }
 },
 "nbformat": 4,
 "nbformat_minor": 4
}
