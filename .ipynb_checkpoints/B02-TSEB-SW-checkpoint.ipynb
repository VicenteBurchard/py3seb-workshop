{
 "cells": [
  {
   "cell_type": "markdown",
   "metadata": {},
   "source": [
    "---\n",
    "title: Shuttleworth-Wallace TSEB in advective conditions\n",
    "subject: Tutorial\n",
    "subtitle: Notebook to evaluate the new TSEB version initialized by the Shuttleworth & Wallace energy combination model\n",
    "short_title: TSEB-SW\n",
    "authors:\n",
    "  - name: Héctor Nieto\n",
    "    affiliations:\n",
    "      - Instituto de Ciencias Agrarias, ICA\n",
    "      - CSIC\n",
    "    orcid: 0000-0003-4250-6424\n",
    "    email: hector.nieto@ica.csic.es\n",
    "  - name: Benjamin Mary\n",
    "    affiliations:\n",
    "      - Insituto de Ciencias Agrarias\n",
    "      - CSIC\n",
    "    orcid: 0000-0001-7199-2885\n",
    "license: CC-BY-SA-4.0\n",
    "keywords: TSEB, radiation, Beer-Lambert law, albedo\n",
    "---"
   ]
  },
  {
   "cell_type": "markdown",
   "metadata": {},
   "source": [
    "# Summary\n",
    "This interactive Jupyter Notebook has the objective of showing the implemenation of TSEB-SW under advective conditions. It is based on [](https://doi.org/10.1007/s00271-022-00778-y) and [](https://doi.org/10.1007/s00271-022-00790-2)."
   ]
  },
  {
   "cell_type": "markdown",
   "metadata": {},
   "source": [
    "# Instructions\n",
    "Read carefully all the text and follow the instructions.\n",
    "\n",
    "Once each section is read, run the jupyter code cell underneath (marked as `In []`) by clicking the icon `Run`, or pressing the keys SHIFT+ENTER of your keyboard. A graphical interface will then display, which allows you to interact with and perform the assigned tasks.\n",
    "\n",
    "To start, please run the following cell to import all the packages required for this notebook. Once you run the cell below, an acknowledgement message, stating all libraries were correctly imported, should be printed on screen."
   ]
  },
  {
   "cell_type": "code",
   "execution_count": null,
   "metadata": {},
   "outputs": [],
   "source": [
    "%matplotlib inline\n",
    "from pathlib import Path\n",
    "from ipywidgets import interact, interactive, fixed, widgets\n",
    "from IPython.display import display\n",
    "from functions import radiation_and_available_energy as fn\n",
    "import numpy as np"
   ]
  },
  {
   "attachments": {},
   "cell_type": "markdown",
   "metadata": {},
   "source": [
    "# Shuttleworth-Wallace model\n",
    "\n",
    "The two-source Shuttleworth-Wallace energy combination model {cite:p}`https://doi.org/10.1002/qj.49711146910` was specifically designed to account for evapotranspiration partitioning in sparse crops. Therefore, both the heat and water fluxes are separated into a soil and canopy layer, with a series of resistances set in series).\n",
    "    \n",
    ":::{figure} ./input/figures/shuttleworth_wallace_model.png\n",
    ":alt:Shuttleworth & Wallace energy combination model\n",
    ":name:shuttleworth-wallace-model\n",
    "Two-Source energy balance scheme including the transport of both heat (H) and water vapour ($\\lambda E$). Adapted from [](https://doi.org/10.1002/qj.49711146910).\n",
    ":::\n",
    "\n",
    "Energy fluxes are therefore split into soil and canopy, considering the conservation of energy:\n",
    "    \n",
    ":::{math}\n",
    "  R_{n} & \\approx H + \\lambda E + G\\\\\n",
    "  R_{n,S} & \\approx H_{S} + \\lambda E_{S} + G\\\\\n",
    "  R_{n,C} & \\approx H_{C} + \\lambda E_{C}\\label{eq:Energy_Balance_TSEB}\n",
    ":::\n",
    "\n",
    "with $R_n$ being the net radiation, $H$ the sensible heat flux, $\\lambda E$ the latent heat flux or evapotranspiration, and $G$ the soil heat flux (all fluxes are expressed in W m$^{-2}$. The approximation in Eq. \\ref{eq:Energy_Balance} reflects additional components of the energy balance that are usually neglected, such as heat advection, storage of energy in the canopy layer or energy for the fixation of CO$_2$ \\citep{Hillel1998, Baldocchi1991}, which are not computed by the model.\n",
    "    \n",
    "Canopy latent heat flux (or transpiration) is computed as\n",
    "     \n",
    ":::{math}\n",
    " \\lambda E_C = \\frac{\\Delta R_{n.C} + \\rho_a c_p \\frac{VPD_0}{R_x}}{\\Delta + \\gamma  \\left(1 + \\frac{R_c}{R_x}\\right)}\n",
    ":::\n",
    "\n",
    "where $\\rho_a$ is the air density; $c_p$ the heat capacity of air, $VPD_0$ is the air vapour pressure deficit at the canopy-air interface; $R_x$ is the canopy boundary resistance to momentum, heat and vapour transport; and $R_c$ is related to the leaf stomatal conductance $g_{s}$ as we will see later in section [](#gs-header)\n",
    "    \n",
    "The vapor pressure deficit at the canopy-air interface ($VPD_0$) is computed as\n",
    "     \n",
    ":::{math}\n",
    " VPD_0 = VPD + R_a \\frac{\\Delta \\left(R_n - G\\right) - \\left(\\Delta + \\gamma\\right) \\lambda E} {\\rho_a c_p}\n",
    ":::\n",
    "\n",
    "where $VPD$ is the measured atmospheric vapour pressure deficit, $R_a$ is the aerodynamic resistance to turbulent transport, $R_n$ is the surface net radiation, $G$ is the soil heat flux, and $\\lambda E$ is the surface bulk (soil + canopy) latent heat flux, estimated as:\n",
    "     \n",
    ":::{math}\n",
    " \\lambda E = C_c PM_C + C_s PM_S \\label{eq:sw_weight}\n",
    ":::\n",
    "\n",
    "$PM_C$ and $PM_S$ are the estimates of an infinite deep canopy and bare soil latent heat fluxes, respectively using the Penman-Monteith equation:\n",
    "\n",
    ":::{math}\n",
    "  PM_C & = \\frac{\\Delta  \\left(R_n - G\\right) + \\frac{\\rho_a c_p VPD - \\Delta  R_x \\left(R_{n,S} - G\\right)}{\n",
    "      R_a + R_x}}{\\Delta + \\gamma \\left(1 + \\frac{R_c}{R_a + R_x}\\right)}\\\\\n",
    "  PM_S & = \\frac{\\Delta  \\left(R_n - G\\right) + \\frac{\\rho_a c_p VPD - \\Delta R_s R_{n,C}}{R_a + R_s}}{\\Delta + \\gamma \\left(1 + \\frac{R_{ss}} {R_a + R_s}\\right)}\n",
    "::::\n",
    "    \n",
    "where $R_s$ is the soil boundary layer resistance to turbulent transport and $R_{ss}$ is the near-surface soil resistance to vapour transport. The latter is set to a fixed value of $R_{ss}=2000$ s m$^{-1}$ considering a rather dry soil surface, in order to be consistent with the definition of potential ET adopted with the Penman-Monteith approach.\n",
    "\n",
    ":::{seealso}\n",
    ":class:dropdown\n",
    "The full code for the Shuttleworth and Wallace model is at the [pyTSEB GitHub repository](https://github.com/hectornieto/pyTSEB/blob/382e4fc01e965143ebafdaefe5be9b45c737455a/pyTSEB/energy_combination_ET.py#L277)\n",
    ":::"
   ]
  },
  {
   "cell_type": "markdown",
   "metadata": {},
   "source": [
    "(gs-header)=\n",
    "## Sensitivity of stomatal conductance to vapour pressure deficit\n",
    "\n",
    "[](https://doi.org/10.1007/s00271-022-00778-y) showed the advantages of accounting for the sensitivity of stomatal closure at higher VPD in canopies highly coupled with the atmosphere {cite:p}`https://doi.org/10.1016/S0065-2504(08)60119-1`. \n",
    "\n",
    "We are going to evaluate the sensitivity of leaf stomata to VPD using estimates of transpiration derived from the Eddy Covariance. This approach is based on the method proposed by [](https://doi.org/10.1111/j.1365-3040.1995.tb00371.x) \n",
    "    \n",
    "The canopy stomatal resistance ($R_c$), dependent of VPD variations, is then computed as. \n",
    ":::{math}\n",
    ":label: R_c\n",
    "R_c = \\frac{1}{g_{s,0} f_s f_g LAI}\n",
    ":::\n",
    "\n",
    "where $LAI$ is the leaf area index, defined as half of the total leaf area, and $f_s$ is a factor representing the distribution of stomata in the leaf ($f_s=1$ for hypostomatous leaves and $f_s=2$ for amphistomatous leaves) and $f_g$ is the fraction of LAI that is green and hence actively transpiring.\n",
    "\n",
    "Accounting for the negative feedback observed between transpiration (T) rates and stomatal closure based on a wide variety of plant level measurements, [](https://doi.org/10.1111/j.1365-3040.1995.tb00371.x) proposed a method to parameterize the relationship between leaf stomatal conductance ($g_s$) and $VPD$, based on measurements of transpiration as follows:\n",
    "\n",
    ":::{math}\n",
    ":label: monteith1995\n",
    "g_{s} = \\frac{g_m}{1 + g_m VPD/T_m}\n",
    ":::\n",
    "\n",
    "Values of $g_m$ and $T_m$ will be empirically derived by plotting observations of $T$ and $VPD$, and building a linear regression:\n",
    "\n",
    ":::{math}\n",
    ":label: vpd-linear\n",
    "1/T = \\frac{1}{a{VPD}} + b\n",
    ":::\n",
    "\n",
    "from which $g_m = a$ and $T_m = 1/b$. Finally, from these metrics qe can derive the [](https://doi.org/10.1111/j.1365-3040.1995.tb00370.x) stomatal conductance model:\n",
    "    \n",
    ":::{math}\n",
    ":label: leuning1995\n",
    "g_{s,0} = \\frac{g_m}{1 + VPD / D_0}\n",
    ":::"
   ]
  },
  {
   "cell_type": "markdown",
   "metadata": {},
   "source": [
    "### Application with actual data\n",
    "To build the linear regression of Eq. [](#vpd-linear) we need work at leaf scale. Therefore, the estimated canopy transpiration from the eddy covariance tower is (TEC) first downscaled to an effective leaf transpiration rate using the satellite LAI ($T_{leaf} = T/LAI$). \n",
    "\n",
    "First select the sites that you want to use to derived the $g_m$, $T_m$ and $D_0$ metrics. You can select one or several sites and see how sensitive are these parameters to the grape varieties."
   ]
  },
  {
   "cell_type": "code",
   "execution_count": null,
   "metadata": {},
   "outputs": [],
   "source": [
    "w_site_list = widgets.SelectMultiple(\n",
    "    options=[('Sierra Loma N', \"slmN\"), ('Sierra Loma S', \"slmS\"), \n",
    "             ('Barrelli 007', \"bar007\"), ('Barrelli 012', \"bar012\"),\n",
    "             ('Ripperdan 760', \"rip760\"), \n",
    "             ('Ripperdan 720-1', \"rip720_1\"),  ('Ripperdan 720-2', \"rip720_2\"),  ('Ripperdan 720-3', \"rip720_3\"),  ('Ripperdan 720-4', \"rip720_4\")],\n",
    "    value=[\"rip720_1\", \"rip720_2\", \"rip760\"],\n",
    "    description='Sites',\n",
    "    rows=9\n",
    ")\n",
    "display(w_site_list)"
   ]
  },
  {
   "cell_type": "markdown",
   "metadata": {},
   "source": [
    "#### Read the EC and LAI data files"
   ]
  },
  {
   "cell_type": "code",
   "execution_count": null,
   "metadata": {},
   "outputs": [],
   "source": [
    "# Import Python libraries\n",
    "from pathlib import Path\n",
    "import pandas as pd\n",
    "from pyTSEB import TSEB\n",
    "\n",
    "# Set the LAI and readiation folders\n",
    "input_dir = Path().absolute() / \"input\"\n",
    "lai_dir = input_dir / \"canopy\"\n",
    "rad_dir = input_dir / \"meteo\"\n",
    "\n",
    "# Append all tables in a single merged table\n",
    "ec_all = pd.DataFrame()\n",
    "for site in w_site_list.value:\n",
    "    # Set the input files based on the chosen site\n",
    "    lai_filename = lai_dir / f\"FLX_US-{site}_FLUXNET2015_AUXCANOPY_DD.csv\"\n",
    "    ec_filename = rad_dir / f\"FLX_US-{site}_FLUXNET2015_SUBSET_HR.csv\"\n",
    "    print(f\"LAI file path is {lai_filename}\")\n",
    "    print(f\"Micrometeorogy file path is {ec_filename}\")\n",
    "    \n",
    "    # Read the LAI and radiation tables\n",
    "    lai = pd.read_csv(lai_filename, sep=\";\", na_values=-9999)\n",
    "    ec = pd.read_csv(ec_filename, sep=\";\", na_values=-9999)\n",
    "    \n",
    "    # Merge both tables by date\n",
    "    ec[\"TIMESTAMP\"] = pd.to_datetime(ec[\"TIMESTAMP\"], format=\"%Y%m%d%H%M\")\n",
    "    lai[\"DATE\"] = pd.to_datetime(lai[\"TIMESTAMP\"], format=\"%Y%m%d\").dt.date\n",
    "    lai = lai.drop(labels=[\"TIMESTAMP\"], axis=1)\n",
    "    ec[\"DATE\"] = ec[\"TIMESTAMP\"].dt.date\n",
    "    ec = ec.merge(lai, on=\"DATE\")\n",
    "    ec[\"SITE\"] = site\n",
    "    \n",
    "\n",
    "    ec_all = pd.concat([ec_all, ec], ignore_index=True, axis=0)"
   ]
  },
  {
   "cell_type": "markdown",
   "metadata": {},
   "source": [
    "::::{seealso}\n",
    ":class:dropdown\n",
    "This is a full description of the EC column fields:\n",
    "\n",
    "[](./fluxnet2015_variables.md)\n",
    "::::"
   ]
  },
  {
   "cell_type": "markdown",
   "metadata": {},
   "source": [
    "The values of $T$ are estimated using a several methods based on relaxed-eddy accumulation and quadrant analysis {cite:p}`https://doi.org/10.1016%2Fj.agrformet.2008.03.002;https://doi.org/10.1016/j.agrformet.2021.108790`. We compute the average of the three methods (CEC, REA, and FVS). Then we convert those values expressed in energy units into mole fractions:"
   ]
  },
  {
   "cell_type": "code",
   "execution_count": null,
   "metadata": {},
   "outputs": [],
   "source": [
    "from pyTSEB import physiology as lf\n",
    "\n",
    "# Only derive the parameters when grapevine in active\n",
    "DOY_LIMS = (120, 246)\n",
    "\n",
    "ec_all[\"LE_C\"] = np.nanmean(ec_all[[\"LE_C_ECC\", \"LE_C_REA\", \"LE_C_FVS\"]], axis=1)\n",
    "# Convert Celsius to Kelvin\n",
    "ec_all[\"TA\"] = ec_all[\"TA\"] + 273.15\n",
    "# Convert kPa to hPa\n",
    "ec_all[\"PA\"] = 10 * ec_all[\"PA\"]\n",
    "\n",
    "# Work only under daytime conditions and positive LE fluxes\n",
    "valid = np.logical_and.reduce((ec_all[\"SW_IN\"] > 100,\n",
    "                               ec_all[\"VPD\"] > 0,\n",
    "                               np.isfinite(ec_all[\"LE_C\"]),\n",
    "                               ec_all[\"TIMESTAMP\"].dt.dayofyear >= DOY_LIMS[0],\n",
    "                               ec_all[\"TIMESTAMP\"].dt.dayofyear <= DOY_LIMS[1],\n",
    "                               ec_all[\"LE_C\"] > 0))\n",
    "\n",
    "ec_all = ec_all.loc[valid, :]\n",
    "# Monteith approach needs to convert units to millimoles\n",
    "ec_all[\"VPD_MMOL\"] = 1e3 * ec_all[\"VPD\"].values / ec_all[\"PA\"].values\n",
    "ec_all[\"LE_C_MMOL\"] = ec_all[\"LE_C\"].values / (ec_all[\"LAI\"].values * lf.mmolh20_2_wm2(ec_all[\"TA\"].values))"
   ]
  },
  {
   "cell_type": "markdown",
   "metadata": {},
   "source": [
    "The linear relationship between the reciprocals of VPD and maximum T only appears when VPD is the main limiting factor to stomata closure {cite:p}`https://doi.org/10.1111/j.1365-3040.1995.tb00371.x`. Therefore, this linear relationship is derived from the lower envelope of the 1/T vs. 1/VPD scatterplot for all daytime EC observations under relatively high VPD values.\n",
    "\n",
    "We create the following helper functions to get the lower envelope of the vpd vs. T relationship and the stomatal metrics:"
   ]
  },
  {
   "cell_type": "code",
   "execution_count": null,
   "metadata": {},
   "outputs": [],
   "source": [
    "def get_envelope(x_array, y_array, percentile=0.95, n_bins=30):\n",
    "    # Bin x_array\n",
    "    _, bin_edges = np.histogram(x_array, bins=n_bins)\n",
    "\n",
    "    x_values = []\n",
    "    y_values = []\n",
    "    for i, edge in enumerate(bin_edges[:-1]):\n",
    "        valid = np.logical_and(x_array >= edge, x_array < bin_edges[i + 1])\n",
    "        if np.any(valid):\n",
    "            x_values.append(np.mean(x_array[valid]))\n",
    "            if percentile == \"minimum\":\n",
    "                y_values.append(np.nanmin(y_array[valid]))\n",
    "            elif percentile == \"maximum\":\n",
    "                y_values.append(np.nanmax(y_array[valid]))\n",
    "            else:\n",
    "                y_values.append(np.percentile(y_array[valid], 100 * percentile))\n",
    "\n",
    "    return np.asarray(x_values), np.asarray(y_values)\n",
    "\n",
    "    \n",
    "def monteith_2_leuning(g_m, t_m, p=1013.15):\n",
    "    \"\"\"\n",
    "\n",
    "    :param g_m: mol m$^{{-2}}$ s$^{{-1}}$\n",
    "    :param t_m: mmol m$^{{-2}}$ s$^{{-1}}$\n",
    "    :return:\n",
    "    d_0: hPa\n",
    "    \"\"\"\n",
    "    d_0 = t_m / g_m  # mmol mol-1\n",
    "    # Convert from mmol mol-1 to mb\n",
    "    d_0 *= 1e-3 * p\n",
    "    return d_0\n",
    "\n",
    "\n",
    "def leuning_stress(vpd, d_0):\n",
    "\n",
    "    stress = 1. / (1. + vpd / d_0)\n",
    "    return stress\n"
   ]
  },
  {
   "cell_type": "markdown",
   "metadata": {},
   "source": [
    "... and with these helper functions we are ready to estimate the stomatal parameters"
   ]
  },
  {
   "cell_type": "code",
   "execution_count": null,
   "metadata": {},
   "outputs": [],
   "source": [
    "import scipy.stats as st\n",
    "from plotly.subplots import make_subplots\n",
    "import plotly.graph_objects as go\n",
    "\n",
    "# Set the criteria for the envelope search\n",
    "MIN_PERCENTILE = 0.01\n",
    "N_BINS = \"auto\"\n",
    "\n",
    "# We first dervive the parameters based on all the selected sites together\n",
    "valid = 1. / ec_all[\"VPD_MMOL\"] < 0.08\n",
    "\n",
    "print(f\"Finding stomatal parameters for all sites together\")\n",
    "# Find the lower envelope                         \n",
    "xs, ys = get_envelope(1. / ec_all.loc[valid, \"VPD_MMOL\"], 1. / ec_all.loc[valid, \"LE_C_MMOL\"],\n",
    "                      percentile=MIN_PERCENTILE,\n",
    "                      n_bins=N_BINS)\n",
    "\n",
    "# Adjust a linear model from the lower envelope\n",
    "lm = st.linregress(xs, ys)\n",
    "# Plot the linear model\n",
    "fig = go.Figure()\n",
    "fig.add_trace(go.Scatter(x=xs, y=lm.intercept + lm.slope * xs, name=\"Fit ALL\", mode=\"lines\", line={\"color\":\"black\"}))\n",
    "\n",
    "# We will store each parameter in a Python dictionary\n",
    "n_cases = {}\n",
    "gm = {}\n",
    "t_m = {}\n",
    "d_0 = {}\n",
    "\n",
    "# Derive the Monteith and Leuning stomata parameters\n",
    "n_cases[\"ALL\"] = np.sum(valid)\n",
    "gm[\"ALL\"] = 1. / lm.slope\n",
    "t_m[\"ALL\"] = 1. / lm.intercept\n",
    "d_0[\"ALL\"] = monteith_2_leuning(gm[\"ALL\"], t_m[\"ALL\"], p=np.nanmean(ec_all.loc[valid, \"PA\"]))\n",
    "\n",
    "# We now repeat the same procedure for each site individually\n",
    "for site, site_label in zip(w_site_list.value, w_site_list.label):\n",
    "    print(f\"Finding stomatal parameters for {site_label}\")\n",
    "    valid = np.logical_and(1. / ec_all[\"VPD_MMOL\"] < 0.08, ec_all[\"SITE\"] == site)\n",
    "    \n",
    "    # Find the lower envelope                         \n",
    "    xs, ys = get_envelope(1. / ec_all.loc[valid, \"VPD_MMOL\"], 1. / ec_all.loc[valid, \"LE_C_MMOL\"],\n",
    "                          percentile=MIN_PERCENTILE,\n",
    "                          n_bins=N_BINS)\n",
    "    # Adjust a linear model from the lower envelope\n",
    "    lm = st.linregress(xs, ys)\n",
    "    # Plot the linear model\n",
    "    fig.add_trace(go.Scatter(x=xs, y=lm.intercept + lm.slope * xs, name=f\"Fit {site}\", mode=\"lines\")) \n",
    "\n",
    "    # Derive the Monteith and Leuning stomata parameters\n",
    "    n_cases[site] = np.sum(valid)\n",
    "    gm[site] = 1. / lm.slope\n",
    "    t_m[site] = 1. / lm.intercept\n",
    "    d_0[site] = monteith_2_leuning(gm[site], t_m[site], p=np.nanmean(ec_all.loc[valid, \"PA\"]))\n",
    "    fig.add_trace(go.Scatter(x=1. / ec_all.loc[valid, \"VPD_MMOL\"], y=1. / ec_all.loc[valid, \"LE_C_MMOL\"], name=site, mode=\"markers\"))  \n",
    "\n",
    "fig.update_layout(title_text=f\"Derivation of Stomata parameters\", \n",
    "                  xaxis_title=\"1/VPD (mol mmol-1)\", yaxis_title=\"1/T (s m2 mmol-1)\",\n",
    "                  yaxis_range=[0, 0.5], xaxis_range=[0.01, 0.1])\n",
    "\n"
   ]
  },
  {
   "cell_type": "code",
   "execution_count": null,
   "metadata": {},
   "outputs": [],
   "source": [
    "from tabulate import tabulate\n",
    "table = [#[\"N cases\"] + [value for key, value in n_cases.items()],\n",
    "         [\"$g_m$ mol m$^{{-2}}$ s$^{{-1}}$\"] + [value for key, value in gm.items()],\n",
    "         [\"$T_m$ mmol m$^{{-2}}$ s$^{{-1}}\"] + [value for key, value in t_m.items()],\n",
    "         [\"$D_0$ hPa\"] + [value for key, value in d_0.items()]]\n",
    "\n",
    "print(tabulate(table, headers=[\"Parameter\"] + [i for i in gm.keys()]))"
   ]
  },
  {
   "cell_type": "markdown",
   "metadata": {},
   "source": [
    "# Implementation with actual data in [pyTSEB](https://github.com/hectornieto/pyTSEB)\n",
    "\n",
    "As with the previous exercices, we will work with any of the sites of GRAPEX, using the micrometeorological measurements and Earth Observation LAI.\n",
    "\n",
    ":::{table}\n",
    ":name: tab-site-description\n",
    "Description of GRAPEX sites\n",
    "\n",
    "Site | Latitude | Longitude | Elevation (m) | Row direction (deg.) | Row spacing (m) | Min. height (m) | Max. height (m) | Min. width (m) | Max. width (m) | TA height (m) | WS height (m)\n",
    ":-- | --: | --: | --: | --: | --: | --: | --: | --: | --: | --: | --:\n",
    "Ripperdan 720-1 | 36.849 | -120.176 | 61 | 90 | 3.35 | 1.2 | 2.2 | 0.5 | 2.25 | 4 | 4\n",
    "Ripperdan 720-2 | 36.849 | -120.174 | 61 | 90 | 3.35 | 1.2 | 2.2 | 0.5 | 2.25 | 4 | 4\n",
    "Ripperdan 720-3 | 36.848 | -120.176 | 61 | 90 | 3.35 | 1.2 | 2.2 | 0.5 | 2.25 | 4 | 4\n",
    "Ripperdan 720-4 | 36.848 | -120.174 | 61 | 90 | 3.35 | 1.2 | 2.2 | 0.5 | 2.25 | 4 | 4\n",
    "Barrelli_007 | 38.753 | -122.98 | 113 | 135 | 3.35 | 1.25 | 2.3 | 0.5 | 1.8 | 4 | 4\n",
    "Barrelli_012 | 38.751369 | -122.974658 | 112 | 45 | 3.35 | 1.25 | 2.3 | 0.5 | 1.8 | 4.4 | 4.4\n",
    "Sierra Loma-north | 38.289338 | -121.117764 | 38 | 90 | 3.35 | 1.42 | 2.25 | 0.5 | 2.6 | 5 | 5\n",
    "Sierra Loma-south | 38.280488 | -121.117597 | 37 | 90 | 3.35 | 1-42 | 2.25 | 0.5 | 2 | 5 | 5\n",
    "Ripperdan 760 | 36.839025 | -120.21014 | 58 | 90 | 2.74 | 1.2 | 2.5 | 0.5 | 1.8 | 5.5 | 5\n",
    "Barrelli_016 | 38.747 | -122.963 | 112 | 135 | 3.35 | 1.25 | 2.3 | 0.5 | 1.8 | 4 | 4\n",
    ":::\n",
    "\n",
    "## Select a site"
   ]
  },
  {
   "cell_type": "code",
   "execution_count": null,
   "metadata": {},
   "outputs": [],
   "source": [
    "w_site = widgets.Dropdown(\n",
    "    options=[('Sierra Loma N', \"slmN\"), ('Sierra Loma S', \"slmS\"), \n",
    "             ('Barrelli 007', \"bar007\"), ('Barrelli 012', \"bar012\"),\n",
    "             ('Ripperdan 760', \"rip760\"), \n",
    "             ('Ripperdan 720-1', \"rip720_1\"),  ('Ripperdan 720-2', \"rip720_2\"),  ('Ripperdan 720-3', \"rip720_3\"),  ('Ripperdan 720-4', \"rip720_4\")],\n",
    "    value=\"rip760\",\n",
    "    description='Site:',\n",
    ")\n",
    "display(w_site)"
   ]
  },
  {
   "cell_type": "markdown",
   "metadata": {},
   "source": [
    "## Read the LAI and Micrometeorology data"
   ]
  },
  {
   "cell_type": "code",
   "execution_count": null,
   "metadata": {},
   "outputs": [],
   "source": [
    "# Import Python libraries\n",
    "from pathlib import Path\n",
    "import pandas as pd\n",
    "\n",
    "# Set the LAI and readiation folders\n",
    "input_dir = Path().absolute() / \"input\"\n",
    "lai_dir = input_dir / \"canopy\"\n",
    "ec_dir = input_dir / \"meteo\"\n",
    "# Set the input files based on the chosen site\n",
    "lai_filename = lai_dir / f\"FLX_US-{w_site.value}_FLUXNET2015_AUXCANOPY_DD.csv\"\n",
    "ec_filename = ec_dir / f\"FLX_US-{w_site.value}_FLUXNET2015_SUBSET_HR.csv\"\n",
    "print(f\"LAI file path is {lai_filename}\")\n",
    "print(f\"EC file path is {ec_filename}\")\n",
    "\n",
    "# Read the LAI and radiation tables\n",
    "lai = pd.read_csv(lai_filename, sep=\";\", na_values=-9999)\n",
    "ec = pd.read_csv(ec_filename, sep=\";\", na_values=-9999)\n",
    "\n",
    "# Merge both tables by date\n",
    "ec[\"TIMESTAMP\"] = pd.to_datetime(ec[\"TIMESTAMP\"], format=\"%Y%m%d%H%M\")\n",
    "lai[\"DATE\"] = pd.to_datetime(lai[\"TIMESTAMP\"], format=\"%Y%m%d\").dt.date\n",
    "lai = lai.drop(labels=[\"TIMESTAMP\"], axis=1)\n",
    "ec[\"DATE\"] = ec[\"TIMESTAMP\"].dt.date\n",
    "ec = ec.merge(lai, on=\"DATE\")\n",
    "\n",
    "# We discard all cases at night (SW_IN <=0)\n",
    "ec = ec[ec[\"SW_IN\"] > 0]\n",
    "\n",
    "# Convert Celsius to Kelvin\n",
    "ec[\"TA\"] = ec[\"TA\"] + 273.15\n",
    "# Convert kPa to hPa\n",
    "ec[\"PA\"] = 10 * ec[\"PA\"]\n",
    "\n",
    "# Evaluate different energy balance closure corrections\n",
    "ec[\"H_RES\"] = ec[\"NETRAD\"] - ec[\"G\"] - ec[\"LE\"]\n",
    "ec['LE_RES'] = ec['NETRAD'] - ec['G'] - ec['H']\n",
    "ec[\"LE_BR\"], ec[\"H_BR\"] = TSEB.met.bowen_ratio_closure(ec[\"NETRAD\"], ec[\"G\"],\n",
    "                                                       ec[\"H\"], ec[\"LE\"])\n",
    "# Mean of uncorrected, ressidual and Bowen Ratio\n",
    "ec[\"H_ENS\"] = np.nanmean([ec[\"H_RES\"], ec[\"H_BR\"], ec['H']], axis=0)\n",
    "ec[\"LE_ENS\"] = np.nanmean([ec[\"LE_RES\"], ec[\"LE_BR\"], ec['LE']], axis=0)"
   ]
  },
  {
   "cell_type": "markdown",
   "metadata": {},
   "source": [
    "## Set the stomata sensitivty to VPD"
   ]
  },
  {
   "cell_type": "code",
   "execution_count": null,
   "metadata": {},
   "outputs": [],
   "source": [
    "style = {'description_width': 'initial'}\n",
    "w_d_0 = widgets.BoundedFloatText(min=0.01, max=20, value=16.93, description=\"$D_0$ (hPa)\", step=0.1, style=style)\n",
    "w_g_m = widgets.BoundedFloatText(min=0.01, max=1, value=0.53, description=\"$g_m$ (mol m$^{-2}$ s$^{-1}$)\", step=0.01, style=style)\n",
    "display(w_d_0, w_g_m)"
   ]
  },
  {
   "cell_type": "markdown",
   "metadata": {},
   "source": [
    "## Get the canopy a priori structural properties"
   ]
  },
  {
   "cell_type": "code",
   "execution_count": null,
   "metadata": {},
   "outputs": [],
   "source": [
    "import yaml\n",
    "yaml_file = input_dir / \"site_description.yaml\"\n",
    "site_dict = yaml.safe_load(yaml_file.read_text())\n",
    "lat = float(site_dict[\"lat\"][w_site.value])\n",
    "lon = float(site_dict[\"lon\"][w_site.value])\n",
    "elev = float(site_dict[\"elev\"][w_site.value])\n",
    "row_direction = float(site_dict[\"row_direction\"][w_site.value])\n",
    "interrow = float(site_dict[\"interrow\"][w_site.value])\n",
    "hc_min = float(site_dict[\"hc_min\"][w_site.value])\n",
    "hc_max = float(site_dict[\"hc_max\"][w_site.value])\n",
    "wc_min = float(site_dict[\"wc_min\"][w_site.value])\n",
    "wc_max = float(site_dict[\"wc_max\"][w_site.value])\n",
    "zh = float(site_dict[\"zh\"][w_site.value])\n",
    "zm = float(site_dict[\"zm\"][w_site.value])\n",
    "\n",
    "print(f\"{w_site.label} has the following site characteristics:\\n\"\n",
    "      f\"\\t Latitude: {lat} deg. \\n\"\n",
    "      f\"\\t Longitude: {lon} deg. \\n\"\n",
    "      f\"\\t Elevation: {elev} m \\n\"\n",
    "      f\"\\t Row direction: {row_direction} deg. \\n\"\n",
    "      f\"\\t Row spacing: {interrow} m \\n\"\n",
    "      f\"\\t Min. canopy height: {hc_min} m \\n\"\n",
    "      f\"\\t Max. canopy height: {hc_max} m \\n\"\n",
    "      f\"\\t Min. canopy width: {wc_min} m \\n\"\n",
    "      f\"\\t Max. canopy width: {wc_max} m \\n\"\n",
    "      f\"\\t Air temperature measurement height: {zh} m \\n\"\n",
    "      f\"\\t Wind speed temperature measurement height: {zh} m\"\n",
    ")"
   ]
  },
  {
   "cell_type": "markdown",
   "metadata": {},
   "source": [
    "## Estimate the structural variables based on Earth Observation LAI timeseries\n",
    "As with the previous exercise, we will estimate timeseries of canopy structural variables based on LAI and empirical observations of trellis development.\n",
    "\n",
    ":::{figure} ./input/figures/vineyard_structural_functions.png\n",
    ":alt: Empirical structural functions\n",
    ":name: structural-functions\n",
    "Empirical models relating canopy height , canopy width and the bottom of the canopy with the fused STARFM LAI. Solid dots represent in situ measured values\n",
    ":::\n",
    "These empirical equations are coded in Python as:"
   ]
  },
  {
   "cell_type": "code",
   "execution_count": null,
   "metadata": {},
   "outputs": [],
   "source": [
    "import numpy as np\n",
    "\n",
    "################################################################################\n",
    "# Empirical equations to generate canopy structural parameters from LAI\n",
    "################################################################################\n",
    "def lai_2_hc(lai, hc_min):\n",
    "    slope = 0.42\n",
    "    hc = hc_min + slope * lai\n",
    "    return hc\n",
    "\n",
    "\n",
    "def lai_2_hbratio(lai, hc_min):\n",
    "    hb_ratio_mean = 0.4848388065\n",
    "    hb_ratio = np.zeros(lai.shape)\n",
    "\n",
    "    hb_ratio[lai < hc_min] = 1. + ((hb_ratio_mean - 1.) / hc_min) * lai[\n",
    "        lai < hc_min]\n",
    "    hb_ratio[lai >= hc_min] = hb_ratio_mean\n",
    "\n",
    "    return hb_ratio\n",
    "\n",
    "\n",
    "def lai_2_width(lai, wc_min, wc_max):\n",
    "    beta = 6.96560056\n",
    "    offset = 1.70825736\n",
    "\n",
    "    width = wc_min + (wc_max - wc_min) / (1.0 + np.exp(-beta * (lai - offset)))\n",
    "\n",
    "    return width\n",
    "\n",
    "\n",
    "def lai_2_fcover(lai, fc_min, fc_max):\n",
    "    beta = 7.0\n",
    "    offset = 1.70\n",
    "\n",
    "    fcover = fc_min + (fc_max - fc_min) / (1.0 + np.exp(-beta * (lai - offset)))\n",
    "\n",
    "    return fcover\n",
    "\n",
    "\n",
    "def lai_2_canopy(lai, hc_min, fc_min, fc_max):\n",
    "    hc = lai_2_hc(lai, hc_min)\n",
    "    hb_ratio = lai_2_hbratio(lai, hc_min)\n",
    "    fcover = lai_2_fcover(lai, fc_min, fc_max)\n",
    "\n",
    "    return hc, hb_ratio, fcover"
   ]
  },
  {
   "cell_type": "markdown",
   "metadata": {},
   "source": [
    "From these empirical functions together with the site description properties described in [](#site-description) we can caluculate the time series of canopy structural variables needed to compute the shadowing as shown in [](#row-crop-model)\n",
    "\n",
    ":::{note}\n",
    ":class: dropdown\n",
    "These equations are site specific and most likely not applicable to other sites and crops. For operational purposes, such as using Earth Observation/satellite data a trade-off must be made between accuracy and applicability.\n",
    ":::"
   ]
  },
  {
   "cell_type": "code",
   "execution_count": null,
   "metadata": {},
   "outputs": [],
   "source": [
    "# Compute the expected minimum and maximum canopy cover based on mininum and maximum canopy width\n",
    "fc_min = wc_min / interrow\n",
    "fc_max = wc_max / interrow\n",
    "h_c, hb_ratio, f_c = lai_2_canopy(ec[\"LAI\"].values,\n",
    "                                  hc_min,\n",
    "                                  fc_min,\n",
    "                                  fc_max)\n",
    "\n",
    "# Ensure that both canopy height and cover are within the limits\n",
    "h_c = np.clip(h_c, hc_min, hc_max)\n",
    "f_c = np.clip(f_c, 0, 1)"
   ]
  },
  {
   "cell_type": "markdown",
   "metadata": {},
   "source": [
    "## We can get the shortwave net radiation for row crops"
   ]
  },
  {
   "cell_type": "code",
   "execution_count": null,
   "metadata": {
    "editable": true,
    "slideshow": {
     "slide_type": ""
    },
    "tags": []
   },
   "outputs": [],
   "source": [
    "from pyTSEB import TSEB\n",
    "\n",
    "# We can get the leaf and soil spectral from the values above, or hard code the corresponding values\n",
    "rho_leaf_vis = 0.054\n",
    "rho_leaf_nir = 0.262\n",
    "tau_leaf_vis = 0.038\n",
    "tau_leaf_nir = 0.333\n",
    "rho_soil_vis = 0.07\n",
    "rho_soil_nir = 0.32\n",
    "\n",
    "# canopy width\n",
    "w_c = f_c * interrow\n",
    "# Canopy width to height ratio\n",
    "w_c_ratio = w_c / (h_c - hb_ratio * h_c)\n",
    "# Local LAI\n",
    "F = ec[\"LAI\"].values / f_c\n",
    "\n",
    "# The time zone is PST, which corresponds to -120 deg, time longitude\n",
    "stdlon = -120\n",
    "# Call calc_sun_angles based on site coordinates and timestamp\n",
    "sza, saa = TSEB.met.calc_sun_angles(\n",
    "    np.full_like(ec['LAI'].values, lat),\n",
    "    np.full_like(ec[\"LAI\"].values, lon),\n",
    "    np.full_like(ec[\"LAI\"].values, stdlon),\n",
    "    ec['TIMESTAMP'].dt.dayofyear.values,\n",
    "    ec['TIMESTAMP'].dt.hour.values + ec['TIMESTAMP'].dt.minute.values / 60.)\n",
    "\n",
    "# Compute the relative sun-row azimuth angle\n",
    "psi = row_direction - saa\n",
    "# Compute the clumping index for row crops\n",
    "omega = TSEB.CI.calc_omega_rows(ec[\"LAI\"], f_c, theta=sza,\n",
    "                                psi=psi, w_c=w_c_ratio)\n",
    "\n",
    "# And the effective LAI is the product of local LAI and the clumping index\n",
    "lai_eff = F * omega\n",
    "\n",
    "# Estimates the direct and diffuse solar radiation\n",
    "difvis, difnir, fvis, fnir = TSEB.rad.calc_difuse_ratio(ec[\"SW_IN\"].values,\n",
    "                                                        sza,\n",
    "                                                        press=np.full_like(sza, 1013.15))\n",
    "par_dir = fvis * (1. - difvis) * ec[\"SW_IN\"].values\n",
    "nir_dir = fnir * (1. - difnir) * ec[\"SW_IN\"].values\n",
    "par_dif = fvis * difvis * ec[\"SW_IN\"].values\n",
    "nir_dif = fnir * difnir * ec[\"SW_IN\"].values\n",
    "\n",
    "# Compute the canopy and soil net radiation using Cambpell RTM\n",
    "sn_c, sn_s = TSEB.rad.calc_Sn_Campbell(ec[\"LAI\"].values,\n",
    "                                       sza,\n",
    "                                       par_dir + nir_dir,\n",
    "                                       par_dif + nir_dif,\n",
    "                                       fvis,\n",
    "                                       fnir,\n",
    "                                       np.full_like(sza, rho_leaf_vis),\n",
    "                                       np.full_like(sza, tau_leaf_vis),\n",
    "                                       np.full_like(sza, rho_leaf_nir),\n",
    "                                       np.full_like(sza, tau_leaf_nir),\n",
    "                                       np.full_like(sza, rho_soil_vis),\n",
    "                                       np.full_like(sza, rho_soil_nir),\n",
    "                                       x_LAD=1,\n",
    "                                       LAI_eff=lai_eff)\n",
    "\n",
    "sn_c[~np.isfinite(sn_c)] = 0\n",
    "sn_s[~np.isfinite(sn_s)] = 0"
   ]
  },
  {
   "cell_type": "markdown",
   "metadata": {},
   "source": [
    "### Evaluate the shortwave net radiation estimates"
   ]
  },
  {
   "cell_type": "code",
   "execution_count": null,
   "metadata": {
    "editable": true,
    "slideshow": {
     "slide_type": ""
    },
    "tags": []
   },
   "outputs": [],
   "source": [
    "from model_evaluation import double_collocation as dc\n",
    "daytime = ec[\"SW_IN\"] > 100\n",
    "\n",
    "sn_model = sn_c + sn_s\n",
    "sn_obs = ec[\"SW_IN\"].values - ec[\"SW_OUT\"].values\n",
    "\n",
    "fig = go.Figure()\n",
    "fig.add_trace(go.Scattergl(x=sn_model[daytime], y=sn_obs[daytime], \n",
    "                         name=\"Sn for row crops\", mode=\"markers\"))\n",
    "fig.add_trace(go.Scatter(x=[0, 1000], y=[0, 1000], mode=\"lines\", name=\"1:1 line\", line={\"color\": \"black\", \"dash\": \"dash\"}))\n",
    "fig.update_layout(title_text=f\"Observed vs. Estimated below net radiation at {w_site.label}\",\n",
    "                  yaxis_range=[0, 1000], xaxis_range=[0, 1000],\n",
    "                  xaxis_title=\"Estimated (W m-2)\", yaxis_title=\"Observed (W m-2)\")"
   ]
  },
  {
   "cell_type": "markdown",
   "metadata": {},
   "source": [
    "## Set additional site parameters needed for TSEB"
   ]
  },
  {
   "cell_type": "code",
   "execution_count": null,
   "metadata": {
    "editable": true,
    "slideshow": {
     "slide_type": ""
    },
    "tags": []
   },
   "outputs": [],
   "source": [
    "# Grapevine leaf width\n",
    "leaf_width = 0.10\n",
    "\n",
    "# Roughness for bare soil\n",
    "z0_soil = 0.15\n",
    "\n",
    "# Kustas and Norman boundary layer resistance parameters\n",
    "roil_resistance_c_param = 0.0038\n",
    "roil_resistance_b_param = 0.012\n",
    "roil_resistance_cprime_param = 90.\n",
    "# Thermal spectra\n",
    "e_v = 0.99  # Leaf emissivity\n",
    "e_s = 0.94  # Soil emissivity\n",
    "\n",
    "# Resistance for soil evaporation of a well watered situation\n",
    "rss_min = 0  # Asumme initial free water evaporation"
   ]
  },
  {
   "cell_type": "markdown",
   "metadata": {},
   "source": [
    "## Estimate surface aerodynamic roughness\n",
    "We estimate aerodynamic roughness for tall canopies based on [](https://doi.org/10.1007/BF00709229) and [](http://dx.doi.org/10.1016/S0168-1923(00)00153-2.):"
   ]
  },
  {
   "cell_type": "code",
   "execution_count": null,
   "metadata": {
    "editable": true,
    "slideshow": {
     "slide_type": ""
    },
    "tags": []
   },
   "outputs": [],
   "source": [
    "z_0m, d_0 = TSEB.res.calc_roughness(ec[\"LAI\"], h_c, w_c_ratio, np.full_like(ec[\"LAI\"], TSEB.res.BROADLEAVED_D), f_c=f_c)\n",
    "# Ensure realistic values\n",
    "d_0[d_0 < 0] = 0\n",
    "z_0m[np.isnan(z_0m)] = z0_soil\n",
    "z_0m[z_0m < z0_soil] = z0_soil"
   ]
  },
  {
   "cell_type": "markdown",
   "metadata": {
    "editable": true,
    "slideshow": {
     "slide_type": ""
    },
    "tags": []
   },
   "source": [
    "## We derive the half-hourly LST based on pyrgeomters on the EC tower"
   ]
  },
  {
   "cell_type": "code",
   "execution_count": null,
   "metadata": {
    "editable": true,
    "slideshow": {
     "slide_type": ""
    },
    "tags": []
   },
   "outputs": [],
   "source": [
    "# Surface emissivity\n",
    "e_surf = f_c * e_v + (1. - f_c) * e_s\n",
    "\n",
    "# LST from longwave radiometers\n",
    "lst = ((ec['LW_OUT'].values - (1. - e_surf) * ec['LW_IN'].values) / (\n",
    "        TSEB.rad.SB * e_surf)) ** 0.25\n",
    "\n",
    "# And it is assuming that the radiometer is looking at nadir\n",
    "vza = np.zeros_like(lst)"
   ]
  },
  {
   "cell_type": "markdown",
   "metadata": {},
   "source": [
    "## We run now TSEB-SW\n",
    "\n",
    ":::{seealso}\n",
    ":class:dropdown\n",
    "The full code for the Shuttleworth and Wallace model is at the [pyTSEB GitHub repository](https://github.com/hectornieto/pyTSEB/blob/382e4fc01e965143ebafdaefe5be9b45c737455a/pyTSEB/TSEB.py#L946)\n",
    ":::"
   ]
  },
  {
   "cell_type": "code",
   "execution_count": null,
   "metadata": {
    "editable": true,
    "slideshow": {
     "slide_type": ""
    },
    "tags": []
   },
   "outputs": [],
   "source": [
    "# Initialize the potential stomtal conductance by a minimum value\n",
    "gs = np.full_like(lst, 0.01)\n",
    "\n",
    "# Update the  potential stomtal conductance for daytime\n",
    "gs[daytime] = w_g_m.value * leuning_stress(ec[\"VPD\"][daytime],  w_d_0.value)\n",
    "\n",
    "# Convert stomtata conductance to resistance (s m-1)\n",
    "rst_min = 1. / (TSEB.res.molm2s1_2_ms1(ec[\"TA\"].values, ec[\"PA\"].values) * gs)\n",
    "rst_min[rst_min < 0] = np.nan\n",
    "\n",
    "resistance_flag = [0, {\"KN_c\": np.full_like(lst, roil_resistance_c_param),\n",
    "                       \"KN_b\": np.full_like(lst, roil_resistance_b_param),\n",
    "                       \"KN_C_dash\": np.full_like(lst, roil_resistance_cprime_param)}]\n",
    "\n",
    "# Run TSEB-SW\n",
    "[flag_sw, ts_sw, tc_sw, t_ac_sw, ln_s_sw, ln_c_sw, le_c_sw, h_c_sw, le_s_sw, h_s_sw, g_sw,\n",
    " r_s_sw, r_x_sw, r_a_sw, rss_sw, rst_sw, u_friction_sw, lmo_sw, n_iterations_sw] = TSEB.TSEB_SW(                                                     \n",
    "     lst,\n",
    "     vza,\n",
    "     ec[\"TA\"].values,\n",
    "     ec[\"WS\"].values,\n",
    "     ec[\"EA\"].values,\n",
    "     ec[\"PA\"].values,\n",
    "     sn_c,\n",
    "     sn_s,\n",
    "     ec[\"LW_IN\"].values,\n",
    "     ec[\"LAI\"].values,\n",
    "     h_c,\n",
    "     e_v,\n",
    "     e_s,\n",
    "     z_0m,\n",
    "     d_0,\n",
    "     zm,\n",
    "     zh,\n",
    "     x_LAD=np.ones_like(lst),\n",
    "     f_c=f_c,\n",
    "     f_g=np.ones_like(lst),\n",
    "     w_C=w_c_ratio,\n",
    "     leaf_width=leaf_width,\n",
    "     z0_soil=z0_soil,\n",
    "     Rst_min=rst_min,\n",
    "     Rss_min=rss_min,\n",
    "     resistance_form=resistance_flag,\n",
    "     calcG_params=[[1], 0.35])\n",
    "\n",
    "# ... and finally we compute the bulk fluxes\n",
    "le_sw = le_c_sw + le_s_sw\n",
    "h_sw = h_c_sw + h_s_sw\n",
    "netrad_sw = sn_c + sn_s + ln_c_sw + ln_s_sw"
   ]
  },
  {
   "cell_type": "markdown",
   "metadata": {},
   "source": [
    "### ... and to compare we also run TSEB-PT"
   ]
  },
  {
   "cell_type": "code",
   "execution_count": null,
   "metadata": {
    "editable": true,
    "slideshow": {
     "slide_type": ""
    },
    "tags": []
   },
   "outputs": [],
   "source": [
    "# Run TSEB-PT\n",
    "alpha_PT_0 = 1.26\n",
    "[flag_pt, ts_pt, tc_pt, t_ac_pt, ln_s_pt, ln_c_pt, le_c_pt, h_c_pt, le_s_pt, h_s_pt, g_pt,\n",
    " r_s_pt, r_x_pt, r_a_pt, u_friction_pt, lmo_pt, n_iterations_pt] = TSEB.TSEB_PT(                                                     \n",
    "     lst,\n",
    "     vza,\n",
    "     ec[\"TA\"].values,\n",
    "     ec[\"WS\"].values,\n",
    "     ec[\"EA\"].values,\n",
    "     ec[\"PA\"].values,\n",
    "     sn_c,\n",
    "     sn_s,\n",
    "     ec[\"LW_IN\"].values,\n",
    "     ec[\"LAI\"].values,\n",
    "     h_c,\n",
    "     e_v,\n",
    "     e_s,\n",
    "     z_0m,\n",
    "     d_0,\n",
    "     zm,\n",
    "     zh,\n",
    "     x_LAD=np.ones_like(lst),\n",
    "     f_c=f_c,\n",
    "     f_g=np.ones_like(lst),\n",
    "     w_C=w_c_ratio,\n",
    "     leaf_width=leaf_width,\n",
    "     z0_soil=z0_soil,\n",
    "     alpha_PT=alpha_PT_0,\n",
    "     resistance_form=resistance_flag,\n",
    "     calcG_params=[[1], 0.35])\n",
    "\n",
    "# ... and we compute the bulk fluxes\n",
    "le_pt = le_c_pt + le_s_pt\n",
    "h_pt = h_c_pt + h_s_pt\n",
    "netrad_pt = sn_c + sn_s + ln_c_pt + ln_s_pt"
   ]
  },
  {
   "cell_type": "markdown",
   "metadata": {},
   "source": [
    "### ... and with TSEB-PM"
   ]
  },
  {
   "cell_type": "code",
   "execution_count": null,
   "metadata": {},
   "outputs": [],
   "source": [
    "# Run TSEB-PT\n",
    "r_c_min = rst_min / ec[\"LAI\"].values\n",
    "[flag_pm, ts_pm, tc_pm, t_ac_pm, ln_s_pm, ln_c_pm, le_c_pm, h_c_pm, le_s_pm, h_s_pm, g_pm,\n",
    " r_s_pm, r_x_pm, r_a_pm, u_friction_pm, lmo_pm, n_iterations_pm] = TSEB.TSEB_PM(                                                     \n",
    "     lst,\n",
    "     vza,\n",
    "     ec[\"TA\"].values,\n",
    "     ec[\"WS\"].values,\n",
    "     ec[\"EA\"].values,\n",
    "     ec[\"PA\"].values,\n",
    "     sn_c,\n",
    "     sn_s,\n",
    "     ec[\"LW_IN\"].values,\n",
    "     ec[\"LAI\"].values,\n",
    "     h_c,\n",
    "     e_v,\n",
    "     e_s,\n",
    "     z_0m,\n",
    "     d_0,\n",
    "     zm,\n",
    "     zh,\n",
    "     x_LAD=np.ones_like(lst),\n",
    "     f_c=f_c,\n",
    "     f_g=np.ones_like(lst),\n",
    "     w_C=w_c_ratio,\n",
    "     leaf_width=leaf_width,\n",
    "     z0_soil=z0_soil,\n",
    "     r_c_min=r_c_min,\n",
    "     resistance_form=resistance_flag,\n",
    "     calcG_params=[[1], 0.35])\n",
    "\n",
    "# ... and we compute the bulk fluxes\n",
    "le_pm = le_c_pm + le_s_pm\n",
    "h_pm = h_c_pm + h_s_pm\n",
    "netrad_pm = sn_c + sn_s + ln_c_pm + ln_s_pm"
   ]
  },
  {
   "cell_type": "markdown",
   "metadata": {
    "editable": true,
    "slideshow": {
     "slide_type": ""
    },
    "tags": []
   },
   "source": [
    "## Finally we compare the different retrievals\n",
    "Select which method of EB correction you want to apply during the validation:"
   ]
  },
  {
   "cell_type": "code",
   "execution_count": null,
   "metadata": {
    "editable": true,
    "slideshow": {
     "slide_type": ""
    },
    "tags": []
   },
   "outputs": [],
   "source": [
    "w_ebc = widgets.Dropdown(\n",
    "    options=[('No EB correction', (\"LE\", \"H\")), \n",
    "             ('Residual to LE', (\"LE_RES\", \"H\")), \n",
    "             ('Residual to H', (\"LE_RES\", \"H\")), \n",
    "             ('Bowen Ratio', (\"LE_BR\", \"H_BR\")),\n",
    "             ('Ensemble correction', (\"LE_ENS\", \"H_ENS\"))],\n",
    "    value=(\"LE_ENS\", \"H_ENS\"),\n",
    "    description='EBC method:',\n",
    ")\n",
    "display(w_ebc)"
   ]
  },
  {
   "cell_type": "code",
   "execution_count": null,
   "metadata": {
    "editable": true,
    "slideshow": {
     "slide_type": ""
    },
    "tags": []
   },
   "outputs": [],
   "source": [
    "from model_evaluation import double_collocation as dc\n",
    "from tabulate import tabulate\n",
    "LE_OBS, H_OBS = w_ebc.value\n",
    "print(f\"Using {LE_OBS} and {H_OBS} fields for validating respectively  LE and H\")\n",
    "\n",
    "le_marker = {\"color\": \"blue\", \"size\": 3}\n",
    "h_marker = {\"color\": \"red\", \"size\": 3}\n",
    "g_marker = {\"color\": \"green\", \"size\": 3}\n",
    "rn_marker = {\"color\": \"black\", \"size\": 3}\n",
    "\n",
    "fig = make_subplots(rows=1, cols=3,\n",
    "                    shared_yaxes=True,\n",
    "                    horizontal_spacing=0.01,\n",
    "                   subplot_titles=(\"TSEB-SW\", \"TSEB-PT\", \"TSEB-PM\"))\n",
    "\n",
    "valid_sw = np.logical_and(flag_sw < 5, daytime)\n",
    "valid_pt = np.logical_and(flag_pt < 5, daytime)\n",
    "valid_pm = np.logical_and(flag_pm < 5, daytime)\n",
    "\n",
    "\n",
    "fig.add_trace(go.Scattergl(x=netrad_sw[valid_sw], y=ec.loc[valid_sw, \"NETRAD\"], \n",
    "                         name=\"Rn TSEB-SW\", mode=\"markers\", marker=rn_marker),\n",
    "             row=1, col=1)\n",
    "\n",
    "fig.add_trace(go.Scattergl(x=netrad_pt[valid_pt], y=ec.loc[valid_pt, \"NETRAD\"], \n",
    "                         name=\"Rn TSEB-PT\", mode=\"markers\", marker=rn_marker),\n",
    "             row=1, col=2)\n",
    "\n",
    "fig.add_trace(go.Scattergl(x=netrad_pm[valid_pm], y=ec.loc[valid_pm, \"NETRAD\"], \n",
    "                         name=\"Rn TSEB-Pm\", mode=\"markers\", marker=rn_marker),\n",
    "             row=1, col=3)\n",
    "\n",
    "fig.add_trace(go.Scattergl(x=g_sw[valid_sw], y=ec.loc[valid_sw, \"G\"], \n",
    "                         name=\"G TSEB-SW\", mode=\"markers\", marker=g_marker),\n",
    "             row=1, col=1)\n",
    "\n",
    "fig.add_trace(go.Scattergl(x=g_pt[valid_pt], y=ec.loc[valid_pt, \"G\"], \n",
    "                         name=\"G TSEB-PT\", mode=\"markers\", marker=g_marker),\n",
    "             row=1, col=2)\n",
    "\n",
    "fig.add_trace(go.Scattergl(x=g_pm[valid_pm], y=ec.loc[valid_pm, \"G\"], \n",
    "                         name=\"G TSEB-PM\", mode=\"markers\", marker=g_marker),\n",
    "             row=1, col=3)\n",
    "\n",
    "fig.add_trace(go.Scattergl(x=le_sw[valid_sw], y=ec.loc[valid_sw, LE_OBS], \n",
    "                         name=\"LE TSEB-SW\", mode=\"markers\", marker=le_marker),\n",
    "             row=1, col=1)\n",
    "\n",
    "fig.add_trace(go.Scattergl(x=le_pt[valid_pt], y=ec.loc[valid_pt, LE_OBS], \n",
    "                         name=\"LE TSEB-PT\", mode=\"markers\", marker=le_marker),\n",
    "             row=1, col=2)\n",
    "\n",
    "fig.add_trace(go.Scattergl(x=le_pm[valid_pm], y=ec.loc[valid_pm, LE_OBS], \n",
    "                         name=\"LE TSEB-Pm\", mode=\"markers\", marker=le_marker),\n",
    "             row=1, col=3)\n",
    "\n",
    "fig.add_trace(go.Scattergl(x=h_sw[valid_sw], y=ec.loc[valid_sw, H_OBS], \n",
    "                         name=\"H TSEB-SW\", mode=\"markers\", marker=h_marker),\n",
    "             row=1, col=1)\n",
    "\n",
    "fig.add_trace(go.Scattergl(x=h_pt[valid_pt], y=ec.loc[valid_pt, H_OBS], \n",
    "                         name=\"H TSEB-PT\", mode=\"markers\", marker=h_marker),\n",
    "             row=1, col=2)\n",
    "\n",
    "fig.add_trace(go.Scattergl(x=h_pm[valid_pm], y=ec.loc[valid_pm, H_OBS], \n",
    "                         name=\"H TSEB-PM\", mode=\"markers\", marker=h_marker),\n",
    "             row=1, col=3)\n",
    "\n",
    "fig.add_trace(go.Scatter(x=[-200, 800], y=[-200, 800], mode=\"lines\", name=\"1:1 line\", line={\"color\": \"black\", \"dash\": \"dash\"}),\n",
    "             row=1, col=1)\n",
    "fig.add_trace(go.Scatter(x=[-200, 800], y=[-200, 800], mode=\"lines\", name=\"1:1 line\", line={\"color\": \"black\", \"dash\": \"dash\"}),\n",
    "             row=1, col=2)\n",
    "fig.add_trace(go.Scatter(x=[-200, 800], y=[-200, 800], mode=\"lines\", name=\"1:1 line\", line={\"color\": \"black\", \"dash\": \"dash\"}),\n",
    "             row=1, col=3)\n",
    "\n",
    "\n",
    "fig.update_layout(title_text=f\"Observed vs. Estimated fluxes at {w_site.label}\",\n",
    "                  yaxis_range=[-200, 800], xaxis_range=[-200, 800], \n",
    "                  xaxis_title=\"Estimated (W m-2)\", yaxis_title=\"Observed (W m-2)\")\n"
   ]
  },
  {
   "cell_type": "markdown",
   "metadata": {},
   "source": [
    "### Evaluate the errors in H and LE\n",
    "In this last step you can evaluate the error metric for both TSEB-SW and TSEB-PT models. In addition, you can filter by observed values of sensible heat flux to see better the performance of both models under advective condition, such as negative H at daytime."
   ]
  },
  {
   "cell_type": "code",
   "execution_count": null,
   "metadata": {},
   "outputs": [],
   "source": [
    "w_h_lims = widgets.IntRangeSlider(value=[-200, 800], min=-200, max=800, step=1, description='Validate on a range for H:', \n",
    "                                  style={'description_width': 'auto'}, layout=widgets.Layout(width='50%'))\n",
    "display(w_h_lims)"
   ]
  },
  {
   "cell_type": "code",
   "execution_count": null,
   "metadata": {
    "editable": true,
    "slideshow": {
     "slide_type": ""
    },
    "tags": []
   },
   "outputs": [],
   "source": [
    "\n",
    "valid_sw_2 = np.logical_and.reduce((valid_sw, ec[H_OBS] >= w_h_lims.value[0], ec[H_OBS] <= w_h_lims.value[1]))\n",
    "valid_pt_2 = np.logical_and.reduce((valid_pt, ec[H_OBS] >= w_h_lims.value[0], ec[H_OBS] <= w_h_lims.value[1]))\n",
    "valid_pm_2 = np.logical_and.reduce((valid_pm, ec[H_OBS] >= w_h_lims.value[0], ec[H_OBS] <= w_h_lims.value[1]))\n",
    "\n",
    "\n",
    "h_sw_bias, h_sw_mae, h_sw_rmse = dc.error_metrics(ec.loc[valid_sw_2, H_OBS].values, h_sw[valid_sw_2])\n",
    "h_pt_bias, h_pt_mae, h_pt_rmse = dc.error_metrics(ec.loc[valid_pt_2, H_OBS].values, h_pt[valid_pt_2])\n",
    "h_pm_bias, h_pm_mae, h_pm_rmse = dc.error_metrics(ec.loc[valid_pm_2, H_OBS].values, h_pm[valid_pm_2])\n",
    "le_sw_bias, le_sw_mae, le_sw_rmse = dc.error_metrics(ec.loc[valid_sw_2, LE_OBS].values, le_sw[valid_sw_2])\n",
    "le_pt_bias, le_pt_mae, le_pt_rmse = dc.error_metrics(ec.loc[valid_pt_2, LE_OBS].values,le_pt[valid_pt_2])\n",
    "le_pm_bias, le_pm_mae, le_pm_rmse = dc.error_metrics(ec.loc[valid_pm_2, LE_OBS].values,le_pm[valid_pm_2])\n",
    "\n",
    "h_sw_cor, h_sw_p_value, h_sw_slope, h_sw_intercept, h_sw_d = dc.agreement_metrics(ec.loc[valid_sw_2, H_OBS].values, \n",
    "                                                                                  h_sw[valid_sw_2])\n",
    "h_pt_cor, h_pt_p_value, h_pt_slope, h_pt_intercept, h_pt_d = dc.agreement_metrics(ec.loc[valid_pt_2, H_OBS].values, \n",
    "                                                                                  h_pt[valid_pt_2])\n",
    "h_pm_cor, h_pm_p_value, h_pm_slope, h_pm_intercept, h_pm_d = dc.agreement_metrics(ec.loc[valid_pm_2, H_OBS].values, \n",
    "                                                                                  h_pm[valid_pm_2])\n",
    "\n",
    "le_sw_cor, le_sw_p_value, le_sw_slope, le_sw_intercept, le_sw_d = dc.agreement_metrics(ec.loc[valid_sw_2, LE_OBS].values, \n",
    "                                                                                       le_sw[valid_sw_2])\n",
    "le_pt_cor, le_pt_p_value, le_pt_slope, le_pt_intercept, le_pt_d = dc.agreement_metrics(ec.loc[valid_pt_2, LE_OBS].values, \n",
    "                                                                                       le_pt[valid_pt_2])\n",
    "le_pm_cor, le_pm_p_value, le_pm_slope, le_pm_intercept, le_pm_d = dc.agreement_metrics(ec.loc[valid_pm_2, LE_OBS].values, \n",
    "                                                                                       le_pm[valid_pm_2])\n",
    "\n",
    "table_h = [[\"bias\", h_sw_bias, h_pt_bias, h_pm_bias],\n",
    "         [\"RMSE\", h_sw_rmse, h_pt_rmse, h_pm_rmse],\n",
    "         [\"MAE\", h_sw_mae, h_pt_mae, h_pm_mae],\n",
    "         [\"Pearson\", h_sw_cor, h_pt_cor, h_pm_cor],\n",
    "         [\"Willmot's d\", h_sw_d, h_pt_d, h_pm_d]]\n",
    "print(\"Error metrics for sensible heat flux\")\n",
    "print(tabulate(table_h, headers=[\"Metric\", \"TSEB-SW\", \"TSEB-PT\", \"TSEB-PM\"]))\n",
    "\n",
    "table_le = [[\"bias\", le_sw_bias, le_pt_bias, le_pm_bias],\n",
    "         [\"RMSE\", le_sw_rmse, le_pt_rmse, le_pm_rmse],\n",
    "         [\"MAE\", le_sw_mae, le_pt_mae, le_pm_mae],\n",
    "         [\"Pearson\", le_sw_cor, le_pt_cor, le_pm_cor],\n",
    "         [\"Willmot's d\", le_sw_d, le_pt_d, le_pm_d]]\n",
    "\n",
    "print(\"\\n=======================================\\n\")\n",
    "print(\"Error metrics for latent heat flux\")\n",
    "print(tabulate(table_le, headers=[\"Metric\", \"TSEB-SW\", \"TSEB-PT\", \"TSEB-PM\"]))"
   ]
  },
  {
   "cell_type": "markdown",
   "metadata": {},
   "source": [
    "## We save the results to ASCII tables"
   ]
  },
  {
   "cell_type": "code",
   "execution_count": null,
   "metadata": {},
   "outputs": [],
   "source": [
    "# Define the output filename\n",
    "out_dir = Path().absolute() / \"output\"\n",
    "outfile = out_dir / f\"FLX_US-{w_site.value}_FLUXNET2015_TSEB-PT-ROWS_HR.csv\"\n",
    "\n",
    "# Create the output folder in case it does not exist\n",
    "if not out_dir.exists():\n",
    "    out_dir.mkdir(parents=True)\n",
    "\n",
    "# Convert the outputs to a Python dictionary\n",
    "outdict = {\"TIMESTAMP\": ec[\"TIMESTAMP\"].dt.strftime(\"%Y%m%d%H%M\"),\n",
    "           \"FLAG_TSEBPT\": flag_pt, \"LE_TSEBPT\": le_pt, \"H_TSEBPT\": h_pt, \"NETRAD_TSEBPT\": netrad_pt, \"G_TSEBPT\": g_pt, \n",
    "           \"T_S_TSEBPT\": ts_pt, \"T_C_TSEBPT\": tc_pt, \"T_AC_TSEBPT\": t_ac_pt, \"LN_S_TSEBPT\": ln_s_pt, \"LN_C_TSEBPT\": ln_c_pt, \n",
    "           \"LE_C_TSEBPT\": le_c_pt, \"H_C_TSEBPT\": h_c_pt, \"LE_S_TSEBPT\": le_s_pt, \"H_S_TSEBPT\": h_s_pt, \"R_S_TSEBPT\": r_s_pt, \n",
    "           \"R_X_TSEBPT\": r_x_pt, \"R_A_TSEBPT\": r_a_pt, \"USTAR_TSEBPT\": u_friction_pt, \"L_MO_TSEBPT\":lmo_pt, \n",
    "           \"ITERATIONS_TSEBPT\": n_iterations_pt}\n",
    "\n",
    "# Crete the output dataframe and save it to csv\n",
    "pd.DataFrame(outdict).to_csv(outfile, sep=\";\", na_rep=-9999, index=False)\n",
    "print(f\"Saved to {outfile}\")\n",
    "\n",
    "# Define the output filename\n",
    "outfile = out_dir / f\"FLX_US-{w_site.value}_FLUXNET2015_TSEB-SW-ROWS_HR.csv\"\n",
    "\n",
    "# Convert the outputs to a Python dictionary\n",
    "outdict = {\"TIMESTAMP\": ec[\"TIMESTAMP\"].dt.strftime(\"%Y%m%d%H%M\"),\n",
    "           \"FLAG_TSEBSW\": flag_sw, \"LE_TSEBSW\": le_sw, \"H_TSEBSW\": h_sw, \"NETRAD_TSEBSW\": netrad_sw, \"G_TSEBSW\": g_sw, \n",
    "           \"T_S_TSEBSW\": ts_sw, \"T_C_TSEBSW\": tc_sw, \"T_AC_TSEBSW\": t_ac_sw, \"LN_S_TSEBSW\": ln_s_sw, \"LN_C_TSEBSW\": ln_c_sw, \n",
    "           \"LE_C_TSEBSW\": le_c_sw, \"H_C_TSEBSW\": h_c_sw, \"LE_S_TSEBSW\": le_s_sw, \"H_S_TSEBSW\": h_s_sw, \"R_S_TSEBSW\": r_s_sw, \n",
    "           \"R_X_TSEBSW\": r_x_sw, \"R_A_TSEBSW\": r_a_sw, \"USTAR_TSEBSW\": u_friction_sw, \"L_MO_TSEBSW\":lmo_sw, \n",
    "           \"ITERATIONS_TSEBSW\": n_iterations_sw}\n",
    "\n",
    "# Crete the output dataframe and save it to csv\n",
    "pd.DataFrame(outdict).to_csv(outfile, sep=\";\", na_rep=-9999, index=False)\n",
    "print(f\"Saved to {outfile}\")\n",
    "\n",
    "# Define the output filename\n",
    "outfile = out_dir / f\"FLX_US-{w_site.value}_FLUXNET2015_TSEB-PM-ROWS_HR.csv\"\n",
    "\n",
    "# Convert the outputs to a Python dictionary\n",
    "outdict = {\"TIMESTAMP\": ec[\"TIMESTAMP\"].dt.strftime(\"%Y%m%d%H%M\"),\n",
    "           \"FLAG_TSEBPM\": flag_pm, \"LE_TSEBPM\": le_pm, \"H_TSEBPM\": h_pm, \"NETRAD_TSEBPM\": netrad_pm, \"G_TSEBPM\": g_pm, \n",
    "           \"T_S_TSEBPM\": ts_pm, \"T_C_TSEBPM\": tc_pm, \"T_AC_TSEBPM\": t_ac_pm, \"LN_S_TSEBPM\": ln_s_pm, \"LN_C_TSEBPM\": ln_c_pm, \n",
    "           \"LE_C_TSEBPM\": le_c_pm, \"H_C_TSEBPM\": h_c_pm, \"LE_S_TSEBPM\": le_s_pm, \"H_S_TSEBPM\": h_s_pm, \"R_S_TSEBPM\": r_s_pm, \n",
    "           \"R_X_TSEBPM\": r_x_pm, \"R_A_TSEBPM\": r_a_pm, \"USTAR_TSEBPM\": u_friction_pm, \"L_MO_TSEBPM\":lmo_pm, \n",
    "           \"ITERATIONS_TSEBPM\": n_iterations_pm}\n",
    "\n",
    "# Crete the output dataframe and save it to csv\n",
    "pd.DataFrame(outdict).to_csv(outfile, sep=\";\", na_rep=-9999, index=False)\n",
    "print(f\"Saved to {outfile}\")"
   ]
  },
  {
   "cell_type": "markdown",
   "metadata": {},
   "source": [
    "# Conclusions\n",
    "\n",
    "* TSEB-SW seems to outperform TSEB-PT under advective conditions/sites with negative sensible heat fluxes at daytime\n",
    "* However, TSEB-SW requires additional parametrization: minimuim stomata resistance and its relationship to the environmental conditions\n",
    "* Both TSEB-PT and TSEB-SW seems to produce larger errors in Barelli 007, and Barelli 012* \n",
    "* [...]\n",
    "\n",
    ":::{note}\n",
    "Please feel free comment any thoughts. This is work in progress!!!\n",
    ":::"
   ]
  }
 ],
 "metadata": {
  "celltoolbar": "Edit Metadata",
  "kernelspec": {
   "display_name": "Python 3 (ipykernel)",
   "language": "python",
   "name": "python3"
  },
  "language_info": {
   "codemirror_mode": {
    "name": "ipython",
    "version": 3
   },
   "file_extension": ".py",
   "mimetype": "text/x-python",
   "name": "python",
   "nbconvert_exporter": "python",
   "pygments_lexer": "ipython3",
   "version": "3.13.5"
  },
  "toc": {
   "base_numbering": 0
  }
 },
 "nbformat": 4,
 "nbformat_minor": 4
}
