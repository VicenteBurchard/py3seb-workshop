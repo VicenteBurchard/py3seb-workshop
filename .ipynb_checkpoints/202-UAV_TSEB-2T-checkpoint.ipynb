{
 "cells": [
  {
   "cell_type": "markdown",
   "metadata": {},
   "source": [
    "---\n",
    "title: TSEB running with component Tc and Ts temperatures\n",
    "subject: Tutorial\n",
    "subtitle: Notebook to evaluate the TSEB-2T version that uses directly soil and canopy temperatures retrieved from very high TIR imagery\n",
    "short_title: TSEB-2T\n",
    "authors:\n",
    "  - name: Héctor Nieto\n",
    "    affiliations:\n",
    "      - Instituto de Ciencias Agrarias, ICA\n",
    "      - CSIC\n",
    "    orcid: 0000-0003-4250-6424\n",
    "    email: hector.nieto@ica.csic.es\n",
    "  - name: Benjamin Mary\n",
    "    affiliations:\n",
    "      - Insituto de Ciencias Agrarias\n",
    "      - CSIC\n",
    "    orcid: 0000-0001-7199-2885\n",
    "license: CC-BY-SA-4.0\n",
    "keywords: TSEB, TSEB-2T, component temperatures\n",
    "---"
   ]
  },
  {
   "cell_type": "markdown",
   "metadata": {},
   "source": [
    "# Summary\n",
    "This interactive Jupyter Notebook has the objective of showing the implemenation of TSEB-2T with UAV imagery, which is based on  [](https://doi.org/10.1007/s00271-018-0585-9)."
   ]
  },
  {
   "cell_type": "markdown",
   "metadata": {},
   "source": [
    "# Instructions\n",
    "Read carefully all the text and follow the instructions.\n",
    "\n",
    "Once each section is read, run the jupyter code cell underneath (marked as `In []`) by clicking the icon `Run`, or pressing the keys SHIFT+ENTER of your keyboard. A graphical interface will then display, which allows you to interact with and perform the assigned tasks.\n",
    "\n",
    "To start, please run the following cell to import all the packages required for this notebook. Once you run the cell below, an acknowledgement message, stating all libraries were correctly imported, should be printed on screen."
   ]
  },
  {
   "cell_type": "code",
   "execution_count": null,
   "metadata": {},
   "outputs": [],
   "source": [
    "%matplotlib inline\n",
    "from ipywidgets import interact, interactive, fixed, widgets\n",
    "from IPython.display import display\n",
    "import numpy as np\n",
    "print(\"Libraries imported, you can continue!\")"
   ]
  },
  {
   "attachments": {},
   "cell_type": "markdown",
   "metadata": {},
   "source": [
    "# TSEB-2T\n",
    "The component temperature TSEB-2T {cite:p}`https://doi.org/10.1002/qj.49711146910` was specifically designed to run TSEB when having already retrieved the soil ($T_S$) and canopy ($T_C$) temeperatures. Therefore, TSEB-2T does not need to realy on an initial guess of potential transpiration and avoids the iterative reduction of canopy transpiration until realistic fluxes are obtained. Instead it computes soil and canopy sensible heat fluxes directly from the soil and canopy temperatures parsed into the model:\n",
    "\n",
    ":::{math}\n",
    "H_C & = \\rho C_p \\frac{T_C - T_{AC}}{R_x}\\\\\n",
    "H_S & = \\rho C_p \\frac{T_S - T_{AC}}{R_s}\n",
    ":::\n",
    "\n",
    "with\n",
    ":::{math}\n",
    "T_{AC} = \\frac{R_a/T_A + R_x/T_C + R_S/T_S}{1/T_A + 1/T_C + 1 T_S}\n",
    ":::    \n",
    "\n",
    ":::{seealso}\n",
    ":class:dropdown\n",
    "The full code for the TSEB-2T is at the [pyTSEB GitHub repository](https://github.com/hectornieto/pyTSEB/blob/382e4fc01e965143ebafdaefe5be9b45c737455a/pyTSEB/TSEB.py#L144)\n",
    ":::"
   ]
  },
  {
   "cell_type": "markdown",
   "metadata": {},
   "source": [
    "# Application with UAV data\n",
    "For this exercise we will implmenent a code to run TSEB-2T with UAV imagery. We will use the canopy and soil temperatures that we derived in the [501-canopy_and_soil_temperatures](./501-canopy_and_soil_temperatures.ipynb) notebook, which corresponds to the save UAV acquisition stored in the subfolder [./input/pyTSEB](./input/pyTSEB])\n",
    "\n",
    ":::{note}\n",
    "You will also see that running TSEB with an image is very similar to what we did in previous exercises when running the models with ASCII tables. The only differences will be on the way we read the inputs and save the outputs.\n",
    ":::\n",
    "\n",
    "As with the previous exercices, we will work with the sites of GRAPEX, in this case since the UAV is over Sierra Loma we will use the informatio from that site.\n",
    "\n",
    ":::{table} Site characteristics\n",
    ":name: site-description\n",
    "\n",
    "Site | Latitude | Longitude | Elevation (m) | Row direction (deg.) | Row spacing (m) | Min. height (m) | Max. height (m) | Min. width (m) | Max. width (m) | TA height (m) | WS height (m)\n",
    ":-- | --: | --: | --: | --: | --: | --: | --: | --: | --: | --: | --:\n",
    "Sierra Loma-north | 38.289338 | -121.117764 | 38 | 90 | 3.35 | 0.5 | 1.42 | 0.8 | 2.6 | 5 | 5\n",
    "Sierra Loma-south | 38.280488 | -121.117597 | 37 | 90 | 3.35 | 0.5 | 1.42 | 0.8 | 2   | 5 | 5\n",
    ":::\n",
    "\n",
    "## Define working folders"
   ]
  },
  {
   "cell_type": "code",
   "execution_count": null,
   "metadata": {},
   "outputs": [],
   "source": [
    "from pathlib import Path\n",
    "site = \"slmN\"\n",
    "# Define the working directories\n",
    "workdir = Path()\n",
    "input_dir = workdir / \"input\" / \"pyTSEB\"  # here we have LAI, fc and TC_TS imagery that we will use\n",
    "print(f\"Input folder is {input_dir}\")"
   ]
  },
  {
   "cell_type": "markdown",
   "metadata": {},
   "source": [
    "## Read the LAI and $f_c$ imagery"
   ]
  },
  {
   "cell_type": "code",
   "execution_count": null,
   "metadata": {},
   "outputs": [],
   "source": [
    "# Import Python libraries\n",
    "from osgeo import gdal\n",
    "\n",
    "lai_image = input_dir / \"ExampleImage_LAI.tif\"\n",
    "fc_image = input_dir / \"ExampleImage_Fc.tif\"\n",
    "\n",
    "# Read the LAI GDAL file and store it in a numpy array\n",
    "fid = gdal.Open(str(lai_image), gdal.GA_ReadOnly)\n",
    "lai = fid.GetRasterBand(1).ReadAsArray()\n",
    "# Get also the geotransform and projection as it is the same for all the products\n",
    "gt = fid.GetGeoTransform()\n",
    "proj = fid.GetProjection()\n",
    "\n",
    "# Read the fc GDAL file and store it in a numpy array\n",
    "fid = gdal.Open(str(fc_image), gdal.GA_ReadOnly)\n",
    "f_c = fid.GetRasterBand(1).ReadAsArray()\n",
    "del fid\n",
    "print(\"Read fractional cover and LAI\")"
   ]
  },
  {
   "cell_type": "markdown",
   "metadata": {},
   "source": [
    "## Get the canopy a priori structural properties"
   ]
  },
  {
   "cell_type": "code",
   "execution_count": null,
   "metadata": {},
   "outputs": [],
   "source": [
    "import yaml\n",
    "yaml_file = input_dir.parent / \"site_description.yaml\"\n",
    "site_dict = yaml.safe_load(yaml_file.read_text())\n",
    "lat = float(site_dict[\"lat\"][site])\n",
    "lon = float(site_dict[\"lon\"][site])\n",
    "elev = float(site_dict[\"elev\"][site])\n",
    "row_direction = float(site_dict[\"row_direction\"][site])\n",
    "interrow = float(site_dict[\"interrow\"][site])\n",
    "hc_min = float(site_dict[\"hc_min\"][site])\n",
    "hc_max = float(site_dict[\"hc_max\"][site])\n",
    "wc_min = float(site_dict[\"wc_min\"][site])\n",
    "wc_max = float(site_dict[\"wc_max\"][site])\n",
    "zh = float(site_dict[\"zh\"][site])\n",
    "zm = float(site_dict[\"zm\"][site])\n",
    "\n",
    "print(f\"{site} has the following site characteristics:\\n\"\n",
    "      f\"\\t Latitude: {lat} deg. \\n\"\n",
    "      f\"\\t Longitude: {lon} deg. \\n\"\n",
    "      f\"\\t Elevation: {elev} m \\n\"\n",
    "      f\"\\t Row direction: {row_direction} deg. \\n\"\n",
    "      f\"\\t Row spacing: {interrow} m \\n\"\n",
    "      f\"\\t Min. canopy height: {hc_min} m \\n\"\n",
    "      f\"\\t Max. canopy height: {hc_max} m \\n\"\n",
    "      f\"\\t Min. canopy width: {wc_min} m \\n\"\n",
    "      f\"\\t Max. canopy width: {wc_max} m \\n\"\n",
    "      f\"\\t Air temperature measurement height: {zh} m \\n\"\n",
    "      f\"\\t Wind speed temperature measurement height: {zh} m\"\n",
    ")"
   ]
  },
  {
   "cell_type": "markdown",
   "metadata": {},
   "source": [
    "## Estimate the structural variables based on Earth Observation LAI timeseries\n",
    "As with the previous exercise, we could estimate the canopy structural variables based on LAI and empirical observations of trellis development.\n",
    "\n",
    ":::{figure} ./input/figures/vineyard_structural_functions.png\n",
    ":alt: Empirical structural functions\n",
    ":name: structural-functions\n",
    "Empirical models relating canopy height , canopy width and the bottom of the canopy with the fused STARFM LAI. Solid dots represent in situ measured values\n",
    ":::\n",
    "These empirical equations are coded in Python as:"
   ]
  },
  {
   "cell_type": "code",
   "execution_count": null,
   "metadata": {},
   "outputs": [],
   "source": [
    "import numpy as np\n",
    "\n",
    "################################################################################\n",
    "# Empirical equations to generate canopy structural parameters from LAI\n",
    "################################################################################\n",
    "def lai_2_hc(lai, hc_min):\n",
    "    slope = 0.42\n",
    "    hc = hc_min + slope * lai\n",
    "    return hc\n",
    "\n",
    "\n",
    "def lai_2_hbratio(lai, hc_min):\n",
    "    hb_ratio_mean = 0.4848388065\n",
    "    hb_ratio = np.zeros(lai.shape)\n",
    "\n",
    "    hb_ratio[lai < hc_min] = 1. + ((hb_ratio_mean - 1.) / hc_min) * lai[\n",
    "        lai < hc_min]\n",
    "    hb_ratio[lai >= hc_min] = hb_ratio_mean\n",
    "\n",
    "    return hb_ratio\n",
    "\n",
    "\n",
    "def lai_2_width(lai, wc_min, wc_max):\n",
    "    beta = 6.96560056\n",
    "    offset = 1.70825736\n",
    "\n",
    "    width = wc_min + (wc_max - wc_min) / (1.0 + np.exp(-beta * (lai - offset)))\n",
    "\n",
    "    return width\n",
    "\n",
    "\n",
    "def lai_2_fcover(lai, fc_min, fc_max):\n",
    "    beta = 7.0\n",
    "    offset = 1.70\n",
    "\n",
    "    fcover = fc_min + (fc_max - fc_min) / (1.0 + np.exp(-beta * (lai - offset)))\n",
    "\n",
    "    return fcover\n",
    "\n",
    "\n",
    "def lai_2_canopy(lai, hc_min, fc_min, fc_max):\n",
    "    hc = lai_2_hc(lai, hc_min)\n",
    "    hb_ratio = lai_2_hbratio(lai, hc_min)\n",
    "    fcover = lai_2_fcover(lai, fc_min, fc_max)\n",
    "\n",
    "    return hc, hb_ratio, fcover"
   ]
  },
  {
   "cell_type": "markdown",
   "metadata": {},
   "source": [
    "From these empirical functions together with the site description properties described in [](#site-description) we can caluculate the time series of canopy structural variables needed to compute the shadowing as shown in [](#row-crop-model)\n",
    "\n",
    ":::{note}\n",
    ":class: dropdown\n",
    "These equations are site specific and most likely not applicable to other sites and crops. For operational purposes, such as using Earth Observation/satellite data a trade-off must be made between accuracy and applicability.\n",
    ":::\n",
    "\n",
    "We already have a $f_c$ map we can skip such computation:"
   ]
  },
  {
   "cell_type": "code",
   "execution_count": null,
   "metadata": {},
   "outputs": [],
   "source": [
    "# Compute the expected minimum and maximum canopy cover based on mininum and maximum canopy width\n",
    "fc_min = wc_min / interrow\n",
    "fc_max = wc_max / interrow\n",
    "h_c, hb_ratio, _ = lai_2_canopy(lai,\n",
    "                                hc_min,\n",
    "                                fc_min,\n",
    "                                fc_max)\n",
    "# Ensure that both canopy height and cover are within the limits\n",
    "h_c = np.clip(h_c, hc_min, hc_max)\n",
    "print(\"Computed canopy height\")"
   ]
  },
  {
   "cell_type": "markdown",
   "metadata": {},
   "source": [
    "## We can get the shortwave net radiation for row crops\n",
    "This step is very similar to previous exercies, but since we are working with a single scene of small extension, we can assume a constant value for the weather forcing:\n",
    "\n",
    ":::{table}\n",
    ":name: Weater forcing at the UAV overpass. Info can be obtained from the pyTSEB local image configuration file at [](./input/pytseb_config_LocalImage.txt)\n",
    "TA (K)  | WS (m s$^{-1}$)| EA (kPa) | PA (kPa) | SW_IN (W m$^{-2}$) | SW_IN_DD (W m$^{-2}$) \n",
    ":---    | :---           | :---     | :---     | :---               | :---\n",
    "291.11  | 2.15           | 13.4     | 1011     | 861.74             | 304.97\n",
    ":::\n"
   ]
  },
  {
   "cell_type": "code",
   "execution_count": null,
   "metadata": {},
   "outputs": [],
   "source": [
    "from pyTSEB import TSEB\n",
    "\n",
    "# Define the date and acquisiton time\n",
    "doy = 221\t\n",
    "time = 10.9992\t\n",
    "sdtlon = -105\n",
    "\n",
    "# Define the weather forcing, and broacast the value to a numpy array of same size as the inputs\n",
    "# Shortwave irradiance\n",
    "sw_in = 861.74 \n",
    "sw_in = np.full_like(lai, sw_in)\n",
    "\n",
    "# Air temperature\n",
    "ta = 299.18\n",
    "ta = np.full_like(lai, ta)\n",
    "\n",
    "# Amospheric vapour pressure\n",
    "ea = 13.4\n",
    "ea = np.full_like(lai, ea)\n",
    "\n",
    "# Surface pressure\n",
    "pa = 1011.\n",
    "pa = np.full_like(lai, pa)\n",
    "\n",
    "# Wind speed\n",
    "ws = 2.15\n",
    "ws = np.full_like(ws, ws)\n",
    "\n",
    "# And we compute the downwelling longwave irradiance\n",
    "e_atm = TSEB.rad.calc_emiss_atm(ea, ta)\n",
    "lw_in = e_atm * TSEB.met.calc_stephan_boltzmann(ta)\n",
    "\n",
    "print(\"Retrieved all the required weather forcint\")"
   ]
  },
  {
   "cell_type": "markdown",
   "metadata": {},
   "source": [
    "...and now we get the shorwave net radioation\n",
    "\n",
    ":::{note}\n",
    "check that the code is the same as when we worked with a timeseries of in situ observations\n",
    ":::"
   ]
  },
  {
   "cell_type": "code",
   "execution_count": null,
   "metadata": {
    "editable": true,
    "slideshow": {
     "slide_type": ""
    },
    "tags": []
   },
   "outputs": [],
   "source": [
    "from pyTSEB import TSEB\n",
    "\n",
    "# We can get the leaf and soil spectral from the values above, or hard code the corresponding values\n",
    "rho_leaf_vis = 0.054\n",
    "rho_leaf_nir = 0.262\n",
    "tau_leaf_vis = 0.038\n",
    "tau_leaf_nir = 0.333\n",
    "rho_soil_vis = 0.07\n",
    "rho_soil_nir = 0.32\n",
    "\n",
    "# canopy width\n",
    "w_c = f_c * interrow\n",
    "# Canopy width to height ratio\n",
    "w_c_ratio = w_c / (h_c - hb_ratio * h_c)\n",
    "# Local LAI\n",
    "F = lai / f_c\n",
    "\n",
    "# The time zone is PST, which corresponds to -120 deg, time longitude\n",
    "stdlon = -120\n",
    "# Call calc_sun_angles based on site coordinates and timestamp\n",
    "sza, saa = TSEB.met.calc_sun_angles(\n",
    "    np.full_like(lai, lat),\n",
    "    np.full_like(lai, lon),\n",
    "    np.full_like(lai, stdlon),\n",
    "    doy,\n",
    "    time)\n",
    "\n",
    "# Compute the relative sun-row azimuth angle\n",
    "psi = row_direction - saa\n",
    "# Compute the clumping index for row crops\n",
    "omega = TSEB.CI.calc_omega_rows(lai, f_c, theta=sza,\n",
    "                                psi=psi, w_c=w_c_ratio)\n",
    "\n",
    "# And the effective LAI is the product of local LAI and the clumping index\n",
    "lai_eff = F * omega\n",
    "\n",
    "# Estimates the direct and diffuse solar radiation\n",
    "difvis, difnir, fvis, fnir = TSEB.rad.calc_difuse_ratio(sw_in,\n",
    "                                                        sza,\n",
    "                                                        press=np.full_like(sza, 1013.15))\n",
    "par_dir = fvis * (1. - difvis) * sw_in\n",
    "nir_dir = fnir * (1. - difnir) * sw_in\n",
    "par_dif = fvis * difvis * sw_in\n",
    "nir_dif = fnir * difnir * sw_in\n",
    "\n",
    "# Compute the canopy and soil net radiation using Cambpell RTM\n",
    "sn_c, sn_s = TSEB.rad.calc_Sn_Campbell(lai,\n",
    "                                       sza,\n",
    "                                       par_dir + nir_dir,\n",
    "                                       par_dif + nir_dif,\n",
    "                                       fvis,\n",
    "                                       fnir,\n",
    "                                       np.full_like(sza, rho_leaf_vis),\n",
    "                                       np.full_like(sza, tau_leaf_vis),\n",
    "                                       np.full_like(sza, rho_leaf_nir),\n",
    "                                       np.full_like(sza, tau_leaf_nir),\n",
    "                                       np.full_like(sza, rho_soil_vis),\n",
    "                                       np.full_like(sza, rho_soil_nir),\n",
    "                                       x_LAD=1,\n",
    "                                       LAI_eff=lai_eff)\n",
    "\n",
    "sn_c[~np.isfinite(sn_c)] = 0\n",
    "sn_s[~np.isfinite(sn_s)] = 0\n",
    "print(\"Finished computing net shortwave radiation\")"
   ]
  },
  {
   "cell_type": "markdown",
   "metadata": {},
   "source": [
    "## Set additional site parameters needed for TSEB"
   ]
  },
  {
   "cell_type": "code",
   "execution_count": null,
   "metadata": {
    "editable": true,
    "slideshow": {
     "slide_type": ""
    },
    "tags": []
   },
   "outputs": [],
   "source": [
    "# Grapevine leaf width\n",
    "leaf_width = 0.10\n",
    "\n",
    "# Roughness for bare soil\n",
    "z0_soil = 0.15\n",
    "\n",
    "# Kustas and Norman boundary layer resistance parameters\n",
    "roil_resistance_c_param = 0.0038\n",
    "roil_resistance_b_param = 0.012\n",
    "roil_resistance_cprime_param = 90.\n",
    "# Thermal spectra\n",
    "e_v = 0.99  # Leaf emissivity\n",
    "e_s = 0.94  # Soil emissivity\n",
    "\n",
    "print(\"TSEB parameters registered in memory\")"
   ]
  },
  {
   "cell_type": "markdown",
   "metadata": {},
   "source": [
    "## Estimate surface aerodynamic roughness\n",
    "We estimate aerodynamic roughness for tall canopies based on [](https://doi.org/10.1007/BF00709229) and [](http://dx.doi.org/10.1016/S0168-1923(00)00153-2.):"
   ]
  },
  {
   "cell_type": "code",
   "execution_count": null,
   "metadata": {
    "editable": true,
    "slideshow": {
     "slide_type": ""
    },
    "tags": []
   },
   "outputs": [],
   "source": [
    "z_0m, d_0 = TSEB.res.calc_roughness(lai, h_c, w_c_ratio, np.full_like(lai, TSEB.res.BROADLEAVED_D), f_c=f_c)\n",
    "# Ensure realistic values\n",
    "d_0[d_0 < 0] = 0\n",
    "z_0m[np.isnan(z_0m)] = z0_soil\n",
    "z_0m[z_0m < z0_soil] = z0_soil\n",
    "print(f\"Computed aerodynamic roughness\")"
   ]
  },
  {
   "cell_type": "markdown",
   "metadata": {
    "editable": true,
    "slideshow": {
     "slide_type": ""
    },
    "tags": []
   },
   "source": [
    "## We read the canopy and soil temperatures\n",
    "The canopy and soil temperatures were created in exercise [501-canopy_and_soil_temperatures](./501-canopy_and_soil_temperatures.ipynb). As reminder these data were stored in a 3-band GeoTIFF file, with bands:\n",
    "1. Leaf Temperature (K)\n",
    "2. Soil Temperature (K)\n",
    "3. Local correlation between lst and vnir inputs\n",
    "\n",
    "So we will need to read the first two bands and stored them in two variables, `t_c` and `t_s`:"
   ]
  },
  {
   "cell_type": "code",
   "execution_count": null,
   "metadata": {
    "editable": true,
    "slideshow": {
     "slide_type": ""
    },
    "tags": []
   },
   "outputs": [],
   "source": [
    "# Define the input canopy and soil temperature rater\n",
    "uav_dir = workdir / \"input\" / \"UAV\" \n",
    "\n",
    "tc_ts_file = uav_dir / \"SLM_001_002_20140809_1041_TC-TS.tif\"\n",
    "\n",
    "fid = gdal.Open(str(tc_ts_file), gdal.GA_ReadOnly)\n",
    "# Read and store the 1st band (canopy temperature) in a numpy array\n",
    "t_c = fid.GetRasterBand(1).ReadAsArray()\n",
    "# Read and store the 2nd band (soil temperature) in a numpy array\n",
    "t_s = fid.GetRasterBand(2).ReadAsArray()\n",
    "del fid\n",
    "\n",
    "# And it is assuming that the UAV mosaci is mostly looking at nadir\n",
    "vza = np.zeros_like(t_c)\n",
    "print(\"Read the t_c and t_s temperatures\")"
   ]
  },
  {
   "cell_type": "code",
   "execution_count": null,
   "metadata": {},
   "outputs": [],
   "source": [
    "print(t_s)"
   ]
  },
  {
   "cell_type": "markdown",
   "metadata": {},
   "source": [
    "## We run now TSEB-2T\n",
    "\n",
    ":::{seealso}\n",
    ":class:dropdown\n",
    "The full code for the TSEB-2T is at the [pyTSEB GitHub repository](https://github.com/hectornieto/pyTSEB/blob/382e4fc01e965143ebafdaefe5be9b45c737455a/pyTSEB/TSEB.py#L144)\n",
    ":::"
   ]
  },
  {
   "cell_type": "code",
   "execution_count": null,
   "metadata": {
    "editable": true,
    "slideshow": {
     "slide_type": ""
    },
    "tags": []
   },
   "outputs": [],
   "source": [
    "resistance_flag = [0, {\"KN_c\": np.full_like(t_c, roil_resistance_c_param),\n",
    "                       \"KN_b\": np.full_like(t_c, roil_resistance_b_param),\n",
    "                       \"KN_C_dash\": np.full_like(t_c, roil_resistance_cprime_param)}]\n",
    "\n",
    "# Run TSEB-2T\n",
    "[flag_2t, t_ac_2t, ln_s_2t, ln_c_2t, le_c_2t, h_c_2t, le_s_2t, h_s_2t, g_2t,\n",
    " r_s_2t, r_x_2t, r_a_2t, u_friction_2t, lmo_2t, n_iterations_2t] = TSEB.TSEB_2T(                                                     \n",
    "     t_c,\n",
    "     t_s,\n",
    "     ta,\n",
    "     ws,\n",
    "     ea,\n",
    "     pa,\n",
    "     sn_c,\n",
    "     sn_s,\n",
    "     lw_in,\n",
    "     lai,\n",
    "     h_c,\n",
    "     e_v,\n",
    "     e_s,\n",
    "     z_0m,\n",
    "     d_0,\n",
    "     zm,\n",
    "     zh,\n",
    "     x_LAD=np.ones_like(t_c),\n",
    "     f_c=f_c,\n",
    "     f_g=np.ones_like(t_c),\n",
    "     w_C=w_c_ratio,\n",
    "     leaf_width=leaf_width,\n",
    "     z0_soil=z0_soil,\n",
    "     resistance_form=resistance_flag,\n",
    "     calcG_params=[[1], 0.35])\n",
    "\n",
    "# ... and finally we compute the bulk fluxes\n",
    "le_2t = le_c_2t + le_s_2t\n",
    "h_2t = h_c_2t + h_s_2t\n",
    "netrad_2t = sn_c + sn_s + ln_c_2t + ln_s_2t"
   ]
  },
  {
   "cell_type": "markdown",
   "metadata": {},
   "source": [
    "### ... and to compare we also run TSEB-PT"
   ]
  },
  {
   "cell_type": "code",
   "execution_count": null,
   "metadata": {
    "editable": true,
    "slideshow": {
     "slide_type": ""
    },
    "tags": []
   },
   "outputs": [],
   "source": [
    "# Define the input composte radiometric temperature\n",
    "lst_file = input_dir / \"ExampleImage_Trad_pm.tif\"\n",
    "\n",
    "fid = gdal.Open(str(lst_file), gdal.GA_ReadOnly)\n",
    "# Read and store the 1st band (canopy temperature) in a numpy array\n",
    "lst = fid.GetRasterBand(1).ReadAsArray()\n",
    "\n",
    "\n",
    "# Run TSEB-PT\n",
    "alpha_PT_0 = 1.26\n",
    "[flag_pt, ts_pt, tc_pt, t_ac_pt, ln_s_pt, ln_c_pt, le_c_pt, h_c_pt, le_s_pt, h_s_pt, g_pt,\n",
    " r_s_pt, r_x_pt, r_a_pt, u_friction_pt, lmo_pt, n_iterations_pt] = TSEB.TSEB_PT(                                                     \n",
    "     lst,\n",
    "     vza,\n",
    "     ta,\n",
    "     ws,\n",
    "     ea,\n",
    "     pa,\n",
    "     sn_c,\n",
    "     sn_s,\n",
    "     lw_in,\n",
    "     lai,\n",
    "     h_c,\n",
    "     e_v,\n",
    "     e_s,\n",
    "     z_0m,\n",
    "     d_0,\n",
    "     zm,\n",
    "     zh,\n",
    "     x_LAD=np.ones_like(lst),\n",
    "     f_c=f_c,\n",
    "     f_g=np.ones_like(lst),\n",
    "     w_C=w_c_ratio,\n",
    "     leaf_width=leaf_width,\n",
    "     z0_soil=z0_soil,\n",
    "     alpha_PT=alpha_PT_0,\n",
    "     resistance_form=resistance_flag,\n",
    "     calcG_params=[[1], 0.35])\n",
    "\n",
    "# ... and we compute the bulk fluxes\n",
    "le_pt = le_c_pt + le_s_pt\n",
    "h_pt = h_c_pt + h_s_pt\n",
    "netrad_pt = sn_c + sn_s + ln_c_pt + ln_s_pt"
   ]
  },
  {
   "cell_type": "markdown",
   "metadata": {
    "editable": true,
    "slideshow": {
     "slide_type": ""
    },
    "tags": []
   },
   "source": [
    "### We compare both models"
   ]
  },
  {
   "cell_type": "code",
   "execution_count": null,
   "metadata": {
    "editable": true,
    "slideshow": {
     "slide_type": ""
    },
    "tags": []
   },
   "outputs": [],
   "source": [
    "# Change to have a different colour stretch\n",
    "high_flux=600 # Maximum flux value in the display\n",
    "low_flux=0 # Minimum flux value in the display\n",
    "\n",
    "from bokeh.plotting import *\n",
    "from bokeh.palettes import RdYlBu11 as colortable\n",
    "from bokeh.models.mappers import LinearColorMapper\n",
    "from bokeh.io import output_notebook\n",
    "from bokeh.resources import INLINE\n",
    "output_notebook(resources=INLINE)\n",
    "\n",
    "colortable = list(reversed(colortable))\n",
    "map_le = LinearColorMapper(palette=colortable,high=high_flux,low=low_flux)\n",
    "rows, cols = le_2t.shape\n",
    "\n",
    "# Setup the figure\n",
    "s1 = figure(title=\"TSEB-PT LE\",width=cols, height=rows, x_range=[0, cols], y_range=[0, rows])\n",
    "s1.axis.visible = False\n",
    "s1.image(image=[np.flipud(le_pt)],x=[0],y=[0],dw=cols,dh=rows,color_mapper=map_le)\n",
    "s2 = figure(title=\"TSEB-2T LE\",width=cols, height=rows, x_range=s1.x_range, y_range=s1.y_range)\n",
    "s2.axis.visible = False\n",
    "s2.image(image=[np.flipud(le_2t)],x=[0],y=[0],dw=[cols],dh=[rows],color_mapper=map_le)\n",
    "s3 = figure(title=\"TSEB-PT H\",width=cols, height=rows, x_range=s1.x_range, y_range=s1.y_range)\n",
    "s3.image(image=[np.flipud(h_pt)],x=[0],y=[0],dw=[cols],dh=[rows],color_mapper=map_le)\n",
    "s3.axis.visible = False\n",
    "s4 = figure(title=\"TSEB-2T H\",width=cols, height=rows, x_range=s1.x_range, y_range=s1.y_range)\n",
    "s4.image(image=[np.flipud(h_2t)],x=[0],y=[0],dw=[cols],dh=[rows],color_mapper=map_le)\n",
    "s4.axis.visible = False\n",
    "p = gridplot([[s1, s2],[s3,s4]], toolbar_location='above')\n",
    "\n",
    "# Add a colormap legend\n",
    "y = np.linspace(low_flux,high_flux,len(colortable))\n",
    "dy = y[1]-y[0]\n",
    "ramp = figure(tools=\"\", y_range = [0, 1], x_range = [low_flux,high_flux], width = 650, height=100)\n",
    "ramp.toolbar_location = None\n",
    "ramp.yaxis.visible = False\n",
    "ramp.rect(x=y, y=0.5, color=colortable, width=dy, height = 1)\n",
    "\n",
    "show(p)\n",
    "show(ramp);"
   ]
  },
  {
   "cell_type": "markdown",
   "metadata": {},
   "source": [
    "## Save the TSEB-2T outputs\n",
    "To conclude we will save our TSEB outputs to single band GeoTIFF files:"
   ]
  },
  {
   "cell_type": "code",
   "execution_count": null,
   "metadata": {
    "editable": true,
    "slideshow": {
     "slide_type": ""
    },
    "tags": []
   },
   "outputs": [],
   "source": [
    "# Set the output \n",
    "outdir = workdir / \"output\"\n",
    "if not outdir.exists():\n",
    "    outdir.mkdir()\n",
    "    \n",
    "driver = gdal.GetDriverByName(\"GTiff\")\n",
    "\n",
    "# Latent heat flux\n",
    "out_file = outdir / \"SLM_001_002_20140809_1041_LE.tif\"\n",
    "fid = driver.Create(str(out_file), t_c.shape[1], t_c.shape[0], 1,\n",
    "                    gdal.GDT_Float32)\n",
    "fid.SetProjection(proj)\n",
    "fid.SetGeoTransform(gt)\n",
    "fid.GetRasterBand(1).WriteArray(le_2t)\n",
    "\n",
    "# Sensible heat flux\n",
    "out_file = outdir / \"SLM_001_002_20140809_1041_H.tif\"\n",
    "fid = driver.Create(str(out_file), t_c.shape[1], t_c.shape[0], 1,\n",
    "                    gdal.GDT_Float32)\n",
    "fid.SetProjection(proj)\n",
    "fid.SetGeoTransform(gt)\n",
    "fid.GetRasterBand(1).WriteArray(h_2t)\n",
    "\n",
    "# Net Radiation\n",
    "out_file = outdir / \"SLM_001_002_20140809_1041_NETRAD.tif\"\n",
    "fid = driver.Create(str(out_file), t_c.shape[1], t_c.shape[0], 1,\n",
    "                    gdal.GDT_Float32)\n",
    "fid.SetProjection(proj)\n",
    "fid.SetGeoTransform(gt)\n",
    "fid.GetRasterBand(1).WriteArray(netrad_2t)\n",
    "\n",
    "# Ground heat flux\n",
    "out_file = outdir / \"SLM_001_002_20140809_1041_G.tif\"\n",
    "fid = driver.Create(str(out_file), t_c.shape[1], t_c.shape[0], 1,\n",
    "                    gdal.GDT_Float32)\n",
    "fid.SetProjection(proj)\n",
    "fid.SetGeoTransform(gt)\n",
    "fid.GetRasterBand(1).WriteArray(g_2t)\n",
    "\n",
    "del fid\n",
    "\n",
    "print(f\"TSEB-2T fluxes saved at {out_file}\")"
   ]
  },
  {
   "cell_type": "markdown",
   "metadata": {},
   "source": [
    "# Conclusions\n",
    "\n",
    "* In this exercise we learned a new TSEB version available in pyTSEB\n",
    "* In addition, we saw that running the model over an image insteaf of a timeseries is practically the same\n",
    "* [...]\n",
    "\n",
    ":::{note}\n",
    "Please feel free comment any thoughts. This is work in progress!!!\n",
    ":::"
   ]
  }
 ],
 "metadata": {
  "celltoolbar": "Edit Metadata",
  "kernelspec": {
   "display_name": "Python 3 (ipykernel)",
   "language": "python",
   "name": "python3"
  },
  "language_info": {
   "codemirror_mode": {
    "name": "ipython",
    "version": 3
   },
   "file_extension": ".py",
   "mimetype": "text/x-python",
   "name": "python",
   "nbconvert_exporter": "python",
   "pygments_lexer": "ipython3",
   "version": "3.13.5"
  },
  "toc": {
   "base_numbering": 0
  }
 },
 "nbformat": 4,
 "nbformat_minor": 4
}
