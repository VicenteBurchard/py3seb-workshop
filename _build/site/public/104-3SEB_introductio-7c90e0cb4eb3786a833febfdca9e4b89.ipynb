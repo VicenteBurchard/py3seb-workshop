{
 "cells": [
  {
   "cell_type": "markdown",
   "id": "88604814-6013-48ac-a5c0-160bb0281c04",
   "metadata": {},
   "source": [
    "---\n",
    "title: How 3SEB works?\n",
    "subject: Tutorial\n",
    "subtitle: Quick overview of 3SEB and and its py3SEB code implementation\n",
    "short_title: 3SEB\n",
    "authors:\n",
    "  - name: Vicente Burchard-Levine\n",
    "    affiliation:\n",
    "      - Insituto de Ciencias Agrarias\n",
    "      - CSIC\n",
    "    orcid: 0000-0003-0222-8706\n",
    "    email: vburchard@ica.csic.es\n",
    "  - name: Héctor Nieto\n",
    "    affiliations:\n",
    "      - Instituto de Ciencias Agrarias, ICA\n",
    "      - CSIC\n",
    "    orcid: 0000-0003-4250-6424\n",
    "    email: hector.nieto@ica.csic.es\n",
    "  - name: Benjamin Mary\n",
    "    affiliations:\n",
    "      - Insituto de Ciencias Agrarias\n",
    "      - CSIC\n",
    "    orcid: 0000-0001-7199-2885\n",
    "license: CC-BY-SA-4.0\n",
    "keywords: TSEB, radiation, Beer-Lambert law, albedo\n",
    "---"
   ]
  },
  {
   "cell_type": "markdown",
   "id": "e2d2fef6-b8ef-468e-90b9-292273d68bc2",
   "metadata": {},
   "source": [
    "# Summary\n",
    "This interactive Jupyter Notebook has the objective of showing the implemenation of 3SEB-PT model in the [**py3SEB package**](https://github.com/VicenteBurchard/py3SEB)."
   ]
  },
  {
   "cell_type": "markdown",
   "id": "ac97b061-1c1c-4c03-a255-26cdf65a8084",
   "metadata": {},
   "source": [
    "# Instructions\n",
    "Read carefully all the text and follow the instructions.\n",
    "\n",
    "Once each section is read, run the jupyter code cell underneath (marked as `In []`) by clicking the icon `Run`, or pressing the keys SHIFT+ENTER of your keyboard. A graphical interface will then display, which allows you to interact with and perform the assigned tasks.\n",
    "\n",
    "To start, please run the following cell to import all the packages required for this notebook. Once you run the cell below, an acknowledgement message, stating all libraries were correctly imported, should be printed on screen."
   ]
  },
  {
   "cell_type": "code",
   "execution_count": 1,
   "id": "52ac21d9-a9f6-4768-bd1f-902500f91a60",
   "metadata": {},
   "outputs": [
    {
     "name": "stdout",
     "output_type": "stream",
     "text": [
      "libraries imported correctly\n"
     ]
    }
   ],
   "source": [
    "from pathlib import Path\n",
    "from ipywidgets import interact, interactive, fixed, widgets\n",
    "from IPython.display import display\n",
    "import numpy as np\n",
    "from pyTSEB import TSEB\n",
    "from py3seb import py3seb\n",
    "\n",
    "print('libraries imported correctly')"
   ]
  },
  {
   "cell_type": "markdown",
   "id": "37ff2a8e-36d2-4970-94a3-7b67103bc5c9",
   "metadata": {},
   "source": [
    "# The 3SEB model\n",
    "\n",
    "The 3SEB model ([**Burchard-Levine et al. 2022**](https://doi.org/10.1111/gcb.16002)) is an adapted version of the TSEB model [**Norman et al. (1995)**](https://doi.org/10.1016/0168-1923(95)02265-Y), where an additional vegetation source is incorporated into TSEB to better characterize agro-ecosystems with multiple vegetation layers that have distinct structural and physiological features. This adaptation was initially envisioned for savanna-like ecosystems which are characterized by the co-existence of trees and herbaceous species with very different structural and phenological dynamics. \n",
    "\n",
    "However, the 3SEB model structure is also well adapted for perennial tree crops that have cover crops in the interrow, such as vineyards, olive orchards, almonds etc. In principle, the 3SEB model is more suited to represent the complex interactions between a clumped vegetation source planted in rows with an additional herbaceous vegetation source located in the interrows. \n",
    "\n",
    ":::{figure} ./input/figures/ThreeSource_scheme_v3_highres.png\n",
    ":alt: 3SEB resistances scheme\n",
    ":name: 3seb-scheme\n",
    "Three-Source energy balance scheme for transport sensible heat (H). From [**Burchard-Levine et al. 2022**](https://doi.org/10.1111/gcb.16002)\n",
    ":::\n",
    "\n",
    "In 3SEB, the energy balance is therefore separated between the vegetation overstory (ov), vegetation understory (un) and soil (s) sources as: \n",
    "\n",
    ":::{math}\n",
    ":label:eq-eb\n",
    "  R_{n} & \\approx H + \\lambda E + G\\\\\n",
    "  R_{n,ov} & \\approx H_{ov} + \\lambda E_{ov}\\label{eq:Energy_Balance_TSEB}\\\\\n",
    "  R_{n,un} & \\approx H_{un} + \\lambda E_{un}\\label{eq:Energy_Balance_TSEB}\\\\\n",
    "  R_{n,s} & \\approx H_{s} + \\lambda E_{s} + G\n",
    ":::\n",
    "\n",
    "The energy balance equations are simplified as they neglect additional components of the energy balance that are usually neglected, such as heat advection, storage of energy in the canopy layer or energy for the fixation of CO2, which are not computed by the model. \n",
    "\n",
    "As such, Remote sensing-based Energy Balance Models rely on the ability of the radiometric information to estimate, net radiation, soil heat flux and sensible heat flux to estiamte LE or ET as the residual of the energy balance. \n",
    "\n",
    "To see how py3SEB works we will run several pieces of code to estimate each of the components of the energy balance.\n",
    "\n",
    "\n",
    "\n"
   ]
  },
  {
   "cell_type": "markdown",
   "id": "aee1a6b6-f089-4c65-be0b-ea04edb13903",
   "metadata": {},
   "source": [
    "# Summary\n",
    "\n",
    "This notebook will introduce users on how to run the three-source energy balance (3SEB) model in a vineyard site with the presence of cover crops in the interrow. The 3SEB model is more suited to represent the complex interactions between a clumped vegetation source planted in rows with an additional herbaceous vegetation source located in the interrows. \n",
    "\n",
    ":::{figure}./input/figures/vineyard.png\n",
    ":alt: vineyard\n",
    ":name: vineyard\n",
    "\n",
    "Source elements in a vineyard with cover crop. Similar structure can be found in other perennial crops such as olive orchards, almonods, pistachio, as well as agroforestry systems and savannas.\n",
    ":::\n",
    "\n",
    "This exercise will use the 3SEB Python implementation ([**py3SEB**](https://github.com/VicenteBurchard/py3SEB)), which essentially adds an aditional vegetation source to the well-known TSEB model. The code is largely based on [**pyTSEB**](https://github.com/hectornieto/pyTSEB).\n",
    " \n",
    "This exercise will make use of data acquired in the context of the GRAPEX project and will replicate some of the results of the analysis performed in [**Burchard-Levine et al. 2022**](https://doi.org/10.1007/s00271-022-00787-x) published in Irrigation Science. \n",
    "\n",
    "For additional information on the 3SEB model, please refer to [**Burchard-Levine et al. 2022**](https://doi.org/10.1111/gcb.16002), published in Global Change Biology, which introduced this model.\n"
   ]
  },
  {
   "cell_type": "markdown",
   "id": "aa6aa892-a3c3-4c58-b5d5-d52487a70ada",
   "metadata": {},
   "source": [
    "# Running [py3SEB](https://github.com/hectornieto/3SEB)\n",
    "\n",
    "The first step is to open all relevant files with the necesary data and information to run 3SEB. Basically 3SEB requires the same input forcing as TSEB, and can found in [./input/meteo/](./input/meteo/) folder. In addition we will also use the same time series of the daily LAI product, stored in  [./input/canopy/](./input/canopy/).\n",
    "\n",
    ":::{important}\n",
    "In the article [**Burchard-Levine et al. 2022**](https://doi.org/10.1007/s00271-022-00787-x), the study concentrated on the Ripperdan 720 sites. It should be noted that only **Ripperdan 720-3** and **720-4** had the presence of cover crops during years 2019 and 2020\n",
    ":::\n",
    "\n",
    ":::{table}\n",
    ":name: tab-site-description\n",
    "Description of GRAPEX sites\n",
    "\n",
    "Site | Latitude | Longitude | Elevation (m) | Row direction (deg.) | Row spacing (m) | Min. height (m) | Max. height (m) | Min. width (m) | Max. width (m) | TA height (m) | WS height (m)\n",
    ":-- | --: | --: | --: | --: | --: | --: | --: | --: | --: | --: | --:\n",
    "Ripperdan 720-1 | 36.849 | -120.176 | 61 | 90 | 3.35 | 1.2 | 2.2 | 0.5 | 2.25 | 4 | 4\n",
    "Ripperdan 720-2 | 36.849 | -120.174 | 61 | 90 | 3.35 | 1.2 | 2.2 | 0.5 | 2.25 | 4 | 4\n",
    "Ripperdan 720-3 | 36.848 | -120.176 | 61 | 90 | 3.35 | 1.2 | 2.2 | 0.5 | 2.25 | 4 | 4\n",
    "Ripperdan 720-4 | 36.848 | -120.174 | 61 | 90 | 3.35 | 1.2 | 2.2 | 0.5 | 2.25 | 4 | 4\n",
    "Barrelli_007 | 38.753 | -122.98 | 113 | 135 | 3.35 | 1.25 | 2.3 | 0.5 | 1.8 | 4 | 4\n",
    "Barrelli_012 | 38.751369 | -122.974658 | 112 | 45 | 3.35 | 1.25 | 2.3 | 0.5 | 1.8 | 4.4 | 4.4\n",
    "Sierra Loma-north | 38.289338 | -121.117764 | 38 | 90 | 3.35 | 1.42 | 2.25 | 0.5 | 2.6 | 5 | 5\n",
    "Sierra Loma-south | 38.280488 | -121.117597 | 37 | 90 | 3.35 | 1-42 | 2.25 | 0.5 | 2 | 5 | 5\n",
    "Ripperdan 760 | 36.839025 | -120.21014 | 58 | 90 | 2.74 | 1.2 | 2.5 | 0.5 | 1.8 | 5.5 | 5\n",
    "Barrelli_016 | 38.747 | -122.963 | 112 | 135 | 3.35 | 1.25 | 2.3 | 0.5 | 1.8 | 4 | 4\n",
    ":::\n",
    "\n",
    "## Select a site\n",
    "As an example, we suggest to work with data collected over **Block 3** of the **Ripperdam** site from **2019**, as this site had a cover crop present during this year. But you can select any other site for comparison."
   ]
  },
  {
   "cell_type": "code",
   "execution_count": 3,
   "id": "978406ad-9c59-4d31-a1da-6e7102c17b6b",
   "metadata": {
    "editable": true,
    "slideshow": {
     "slide_type": ""
    },
    "tags": []
   },
   "outputs": [
    {
     "data": {
      "application/vnd.jupyter.widget-view+json": {
       "model_id": "030d089986614a2180af2cb144fb05e5",
       "version_major": 2,
       "version_minor": 0
      },
      "text/plain": [
       "Dropdown(description='Site:', index=7, options=(('Sierra Loma N', 'slmN'), ('Sierra Loma S', 'slmS'), ('Barrel…"
      ]
     },
     "metadata": {},
     "output_type": "display_data"
    }
   ],
   "source": [
    "w_site = widgets.Dropdown(\n",
    "    options=[('Sierra Loma N', \"slmN\"), ('Sierra Loma S', \"slmS\"), \n",
    "             ('Barrelli 007', \"bar007\"), ('Barrelli 012', \"bar012\"),\n",
    "             ('Ripperdan 760', \"rip760\"), \n",
    "             ('Ripperdan 720-1', \"rip720_1\"),  ('Ripperdan 720-2', \"rip720_2\"),  ('Ripperdan 720-3', \"rip720_3\"),  ('Ripperdan 720-4', \"rip720_4\")],\n",
    "    value=\"rip720_3\",\n",
    "    description='Site:',\n",
    ")\n",
    "display(w_site)"
   ]
  },
  {
   "cell_type": "markdown",
   "id": "78b9060d-6e8a-4cbd-8def-d27442314d57",
   "metadata": {},
   "source": [
    "## We read and merge the micrometeorology and LAI tables"
   ]
  },
  {
   "cell_type": "code",
   "execution_count": 4,
   "id": "e25f639f-16ea-4c39-9b7a-77282841a567",
   "metadata": {},
   "outputs": [
    {
     "name": "stdout",
     "output_type": "stream",
     "text": [
      "LAI file path is /Users/vicenteburchard/Nextcloud/1_Projects/ILINK24/Workshop_3SEB_UCDavis/py3SEB-workshop/input/canopy/FLX_US-rip720_3_FLUXNET2015_AUXCANOPY_DD.csv\n",
      "EC file path is /Users/vicenteburchard/Nextcloud/1_Projects/ILINK24/Workshop_3SEB_UCDavis/py3SEB-workshop/input/meteo/FLX_US-rip720_3_FLUXNET2015_SUBSET_HR.csv\n"
     ]
    },
    {
     "name": "stderr",
     "output_type": "stream",
     "text": [
      "/var/folders/1_/y0yzlfqx3m75gf1153l99fv00000gn/T/ipykernel_4245/20355468.py:40: RuntimeWarning: Mean of empty slice\n",
      "  ec[\"H_ENS\"] = np.nanmean([ec[\"H_RES\"], ec[\"H_BR\"], ec['H']], axis=0)\n",
      "/var/folders/1_/y0yzlfqx3m75gf1153l99fv00000gn/T/ipykernel_4245/20355468.py:41: RuntimeWarning: Mean of empty slice\n",
      "  ec[\"LE_ENS\"] = np.nanmean([ec[\"LE_RES\"], ec[\"LE_BR\"], ec['LE']], axis=0)\n"
     ]
    }
   ],
   "source": [
    "# Import Python libraries\n",
    "from pathlib import Path\n",
    "import pandas as pd\n",
    "\n",
    "# Set the LAI and readiation folders\n",
    "input_dir = Path().absolute() / \"input\"\n",
    "lai_dir = input_dir / \"canopy\"\n",
    "ec_dir = input_dir / \"meteo\"\n",
    "# Set the input files based on the chosen site\n",
    "lai_filename = lai_dir / f\"FLX_US-{w_site.value}_FLUXNET2015_AUXCANOPY_DD.csv\"\n",
    "ec_filename = ec_dir / f\"FLX_US-{w_site.value}_FLUXNET2015_SUBSET_HR.csv\"\n",
    "print(f\"LAI file path is {lai_filename}\")\n",
    "print(f\"EC file path is {ec_filename}\")\n",
    "\n",
    "# Read the LAI and radiation tables\n",
    "lai = pd.read_csv(lai_filename, sep=\";\", na_values=-9999)\n",
    "ec = pd.read_csv(ec_filename, sep=\";\", na_values=-9999)\n",
    "\n",
    "# Merge both tables by date\n",
    "ec[\"TIMESTAMP\"] = pd.to_datetime(ec[\"TIMESTAMP\"], format=\"%Y%m%d%H%M\")\n",
    "lai[\"DATE\"] = pd.to_datetime(lai[\"TIMESTAMP\"], format=\"%Y%m%d\").dt.date\n",
    "lai = lai.drop(labels=[\"TIMESTAMP\"], axis=1)\n",
    "ec[\"DATE\"] = ec[\"TIMESTAMP\"].dt.date\n",
    "ec = ec.merge(lai, on=\"DATE\")\n",
    "\n",
    "# We discard all cases at night (SW_IN <=0)\n",
    "ec = ec[ec[\"SW_IN\"] > 0]\n",
    "\n",
    "# Convert Celsius to Kelvin\n",
    "ec[\"TA\"] = ec[\"TA\"] + 273.15\n",
    "# Convert kPa to hPa\n",
    "ec[\"PA\"] = 10 * ec[\"PA\"]\n",
    "\n",
    "# Evaluate different energy balance closure corrections\n",
    "ec[\"H_RES\"] = ec[\"NETRAD\"] - ec[\"G\"] - ec[\"LE\"]\n",
    "ec['LE_RES'] = ec['NETRAD'] - ec['G'] - ec['H']\n",
    "ec[\"LE_BR\"], ec[\"H_BR\"] = TSEB.met.bowen_ratio_closure(ec[\"NETRAD\"], ec[\"G\"],\n",
    "                                                       ec[\"H\"], ec[\"LE\"])\n",
    "# Mean of uncorrected, ressidual and Bowen Ratio\n",
    "ec[\"H_ENS\"] = np.nanmean([ec[\"H_RES\"], ec[\"H_BR\"], ec['H']], axis=0)\n",
    "ec[\"LE_ENS\"] = np.nanmean([ec[\"LE_RES\"], ec[\"LE_BR\"], ec['LE']], axis=0)"
   ]
  },
  {
   "cell_type": "markdown",
   "id": "20938489-d920-489e-9a04-8c32c0e6a662",
   "metadata": {},
   "source": [
    "## Site Description \n",
    "Here we initialize relevant information related to the site characteristics including geographical position (lat/lon) and vineyard row direction/dimensions"
   ]
  },
  {
   "cell_type": "code",
   "execution_count": 5,
   "id": "6936eee5-73e1-4e77-bf50-406e99506192",
   "metadata": {},
   "outputs": [
    {
     "name": "stdout",
     "output_type": "stream",
     "text": [
      "Ripperdan 720-3 has the following site characteristics:\n",
      "\t Latitude: 36.848 deg. \n",
      "\t Longitude: -120.176 deg. \n",
      "\t Elevation: 61.0 m \n",
      "\t Row direction: 90.0 deg. \n",
      "\t Row spacing: 3.35 m \n",
      "\t Min. canopy height: 1.2 m \n",
      "\t Max. canopy height: 2.2 m \n",
      "\t Min. canopy width: 0.5 m \n",
      "\t Max. canopy width: 2.25 m \n",
      "\t Air temperature measurement height: 4.0 m \n",
      "\t Wind speed temperature measurement height: 4.0 m\n"
     ]
    }
   ],
   "source": [
    "import yaml\n",
    "yaml_file = input_dir / \"site_description.yaml\"\n",
    "site_dict = yaml.safe_load(yaml_file.read_text())\n",
    "lat = float(site_dict[\"lat\"][w_site.value])\n",
    "lon = float(site_dict[\"lon\"][w_site.value])\n",
    "elev = float(site_dict[\"elev\"][w_site.value])\n",
    "row_direction = float(site_dict[\"row_direction\"][w_site.value])\n",
    "interrow = float(site_dict[\"interrow\"][w_site.value])\n",
    "hc_min = float(site_dict[\"hc_min\"][w_site.value])\n",
    "hc_max = float(site_dict[\"hc_max\"][w_site.value])\n",
    "wc_min = float(site_dict[\"wc_min\"][w_site.value])\n",
    "wc_max = float(site_dict[\"wc_max\"][w_site.value])\n",
    "zh = float(site_dict[\"zh\"][w_site.value])\n",
    "zm = float(site_dict[\"zm\"][w_site.value])\n",
    "\n",
    "print(f\"{w_site.label} has the following site characteristics:\\n\"\n",
    "      f\"\\t Latitude: {lat} deg. \\n\"\n",
    "      f\"\\t Longitude: {lon} deg. \\n\"\n",
    "      f\"\\t Elevation: {elev} m \\n\"\n",
    "      f\"\\t Row direction: {row_direction} deg. \\n\"\n",
    "      f\"\\t Row spacing: {interrow} m \\n\"\n",
    "      f\"\\t Min. canopy height: {hc_min} m \\n\"\n",
    "      f\"\\t Max. canopy height: {hc_max} m \\n\"\n",
    "      f\"\\t Min. canopy width: {wc_min} m \\n\"\n",
    "      f\"\\t Max. canopy width: {wc_max} m \\n\"\n",
    "      f\"\\t Air temperature measurement height: {zh} m \\n\"\n",
    "      f\"\\t Wind speed temperature measurement height: {zh} m\")"
   ]
  },
  {
   "cell_type": "markdown",
   "id": "ed74cee0-8321-4d08-a7ae-c2c116a2ca42",
   "metadata": {},
   "source": [
    "## Estimate vegetation traits \n",
    "\n",
    "### Separation of grapevine and cover crop LAI\n",
    "3SEB has very similar data requirements to TSEB but a key distinction is the need to separate biophsyical properties for the two vegetation sources, in this case the grapevine and cover crop. There is no general formula to separate or unmix LAI from the different vegetation sources, there are potentially many differnt methods that can be used. \n",
    "\n",
    "In this exercise, we will exploit the fact the grapevines and cover crops have different phenological dynamics and we will use this to separate the total LAI values into each component as described in [](https://doi.org/10.1007/s00271-022-00787-x)\n",
    "\n",
    "The daily ecosystem LAI were acquired over each tower footprint at 30 m resolution by merging satellite data from the Harmonized Landsat and Sentinel-2 (HLS) surface reflectance and MODIS LAI data product together with in situ LAI measurements {cite:p}`https://doi.org/10.1007/s00271-022-00798-8`. The LAI over each tower footprint was extracted from 3 × 3 30 m pixels, thus including vine and cover crop (CC) contributions. \n",
    "\n",
    "The CC normally has a growing phase during early spring and then is mowed in early summer becoming senescent stubble during the main grapevine growing period between May and August. Therefore, the CC LAI ($LAI_{cc}$) was assumed to contribute completely to the total ecosystem LAI ($LAI_{eco}$) before the vine bud-break (~spring) and after vine leaf-off during the fall. The $LAI_{cc}$ was simulated to exponentially decay from spring until the peak summer period and then exponentially re-grow during the fall period after the vine leaf-off from [](#lai-timeseries). \n",
    "\n",
    ":::{figure} ./input/figures/lai_partitioning.png\n",
    ":alt: LAI time series\n",
    ":name: lai-timeseries\n",
    "\n",
    "Time series of ecosystem LAI (LAIeco) from satellite imagery (Kang et al., 2022) from block 3 of 2019 decomposed into vine (LAIvine) and cover crop (LAIcc) LAI based on seasonal dynamics. Source: [](https://doi.org/10.1007/s00271-022-00787-x)\n",
    ":::\n",
    "\n",
    "Seasonal transitions dates were corroborated with in situ phenocam data. Subsequently, LAIcc was subtracted from the ecosystem LAI to obtain vine LAI (LAIvine)\n",
    "\n",
    ":::{math}\n",
    "LAI_{vine} = LAI_{eco} - LAI_{cc}\n",
    ":::"
   ]
  },
  {
   "cell_type": "code",
   "execution_count": null,
   "id": "f977b774-e252-4194-b076-bca87a0d651f",
   "metadata": {},
   "outputs": [],
   "source": [
    "# Set key seasonal transitions (DOY)\n",
    "bud_break = 97\n",
    "spring_start = 121\n",
    "summer_end = 330\n",
    "# set a minimum of cover crop LAI \n",
    "lai_cc_min = 0.2  # do not set to 0 or very low values. This will make model unstable due to equations that use LAI in denominator i.e. Rx\n",
    "\n",
    "# get day of year array\n",
    "doy = ec['TIMESTAMP'].dt.dayofyear\n",
    "\n",
    "mid_summer = int((spring_start + summer_end) / 2)\n",
    "cc_senescence = int((spring_start + mid_summer) / 2)\n",
    "cc_regrowth = int((mid_summer + summer_end) / 2)\n",
    "\n",
    "# =======================================\n",
    "# 2.1.3 simulate growth/decay of cover crop\n",
    "# =======================================\n",
    "\n",
    "#initialize LAI/fg vine and LAI/fg CC\n",
    "lai_cc = np.full_like(ec['LAI'].values, lai_cc_min)\n",
    "fg_cc = np.ones_like(ec['LAI'].values)\n",
    "\n",
    "# --- before vine bud-break\n",
    "# before bud-break all LAI is atributed to cover crop (CC)\n",
    "lai_cc[doy <= bud_break] = ec['LAI'].values[doy <= bud_break]\n",
    "\n",
    "# --- cover crop decay\n",
    "# When vine bud breaks, exponential decay until mid summer period\n",
    "# mid summer period cover crop is as minimum\n",
    "\n",
    "### get doy array associated with cover crop decay\n",
    "doy_decay = doy[np.logical_and(doy > bud_break, doy < mid_summer)]\n",
    "## simulate exponetnial decay during senescence\n",
    "lai_cc_decay = np.logspace(np.log(lai_cc[doy == bud_break][0]), np.log(lai_cc_min),doy_decay.size, base=np.exp(1))\n",
    "lai_cc[doy_decay] = lai_cc_decay\n",
    "\n",
    "# do same for green fraction \n",
    "fg_cc_decay = np.logspace(np.log(1), np.log(0.01), doy_decay.size, base=np.exp(1))\n",
    "fg_cc[doy_decay] = fg_cc_decay\n",
    "\n",
    "# --- autumn regrowth\n",
    "\n",
    "#autumn regrowth (and vine leaf off)\n",
    "doy_regrow = doy[np.logical_and(doy > cc_regrowth, doy <= summer_end)]\n",
    "# simulate exponential growth during autumn regrowth\n",
    "lai_cc_regrow = np.logspace(np.log(lai_cc[doy == cc_regrowth][0]), np.log(ec['LAI'].values[doy==summer_end][0]),doy_regrow.size, base=np.exp(1))\n",
    "lai_cc[doy_regrow] = lai_cc_regrow\n",
    "\n",
    "# same for green fraction \n",
    "fg_cc_regrow = np.logspace(np.log(0.01), np.log(1), doy_regrow.size, base=np.exp(1))\n",
    "fg_cc[np.logical_and(doy > cc_regrowth, doy <= summer_end)] = fg_cc_regrow\n",
    "fg_cc[np.logical_and(doy >= mid_summer, doy <= cc_regrowth)] = 0.01\n",
    "\n",
    "# ---post-autumn/winter\n",
    "\n",
    "# all LAI is CC after summer\n",
    "lai_cc[doy>summer_end] = ec['LAI'].values[doy>summer_end]\n",
    "\n",
    "# =======================================\n",
    "# 2.1.4 get grapevine LAI/fg\n",
    "# =======================================\n",
    "\n",
    "#get LAI vine but suctracting LAIcc from LAI\n",
    "lai_vine = ec['LAI'].values - lai_cc\n",
    "# set minimum of LAI to 0.4 (taking into account branches/trunk effect)\n",
    "lai_vine[lai_vine<0.4] = 0.4\n",
    "fg_vine = np.full_like(lai_vine, 1)\n",
    "print('Done!')"
   ]
  },
  {
   "cell_type": "markdown",
   "id": "13f3c1db-0f86-441c-89b2-b2ee4f68b038",
   "metadata": {},
   "source": [
    "#### Visualize LAI partitioning"
   ]
  },
  {
   "cell_type": "code",
   "execution_count": null,
   "id": "ca3ba4de-9be1-4e2a-ace9-e286d8bb60c6",
   "metadata": {},
   "outputs": [],
   "source": [
    "from plotly.subplots import make_subplots\n",
    "import plotly.graph_objects as go\n",
    "fig = make_subplots(specs=[[{\"secondary_y\": True}]])\n",
    "fig.add_trace(go.Scatter(x=ec[\"TIMESTAMP\"].values, y=ec['LAI'].values, \n",
    "                         name=\"Total LAI\", mode=\"lines\", line={\"color\": \"black\"}))\n",
    "\n",
    "fig.add_trace(go.Scatter(x=ec[\"TIMESTAMP\"].values, y=lai_cc, \n",
    "                         name=\"Cover crop LAI\", mode=\"lines\", line={\"color\": \"green\"}))\n",
    "fig.add_trace(go.Scatter(x=ec[\"TIMESTAMP\"].values, y=lai_vine, \n",
    "                         name=\"Grapevine LAI\", mode=\"lines\", line={\"color\": \"red\"}))\n",
    "fig.add_trace(go.Scatter(x=ec[\"TIMESTAMP\"].values, y=fg_cc, \n",
    "                         name=\"Cover crop green fraction\", mode=\"lines\", line={\"color\": \"green\", \"dash\": \"dot\"}),\n",
    "              secondary_y=True)\n",
    "fig.update_layout(title_text=f\"LAI partition at {w_site.label}\",\n",
    "                  xaxis_title=\"Date\", yaxis_title=\"LAI\")"
   ]
  },
  {
   "cell_type": "markdown",
   "id": "e36172d1-b27f-46d6-b811-a9ed81893ce3",
   "metadata": {},
   "source": [
    "## Estimate the structural variables based on Earth Observation LAI timeseries\n",
    "\n",
    "The structural traits for the vineyard, such as canopy height (hc) and fractional cover (fc), are estimated from empirical equations developed for this site as described in [](https://doi.org/10.1007/s00271-018-0611-y). For canopy height and fractional cover, we used the same empirical equations as in previous exercises. \n",
    "\n",
    ":::{figure} ./input/figures/vineyard_structural_functions.png\n",
    ":alt: Empirical structural functions\n",
    ":name: structural-functions\n",
    "Empirical models relating canopy height , canopy width and the bottom of the canopy with the fused STARFM LAI. Solid dots represent in situ measured values\n",
    ":::\n",
    "\n",
    ":::{note}\n",
    ":class: dropdown\n",
    "Structural traits could also be prescribed based on a land cover map or, even better with LiDAR/PhoDAR information\n",
    ":::\n"
   ]
  },
  {
   "cell_type": "code",
   "execution_count": null,
   "id": "20ca7c0e-daae-418e-8bd5-810b1e42cd8c",
   "metadata": {},
   "outputs": [],
   "source": [
    "################################################################################\n",
    "# Empirical equations to generate canopy structural parameters from LAI\n",
    "################################################################################\n",
    "def lai_2_hc(lai, hc_min):\n",
    "    slope = 0.42\n",
    "    hc = hc_min + slope * lai\n",
    "    return hc\n",
    "\n",
    "\n",
    "def lai_2_hbratio(lai, hc_min):\n",
    "    hb_ratio_mean = 0.4848388065\n",
    "    hb_ratio = np.zeros(lai.shape)\n",
    "\n",
    "    hb_ratio[lai < hc_min] = 1. + ((hb_ratio_mean - 1.) / hc_min) * lai[\n",
    "        lai < hc_min]\n",
    "    hb_ratio[lai >= hc_min] = hb_ratio_mean\n",
    "\n",
    "    return hb_ratio\n",
    "\n",
    "\n",
    "def lai_2_width(lai, wc_min, wc_max):\n",
    "    beta = 6.96560056\n",
    "    offset = 1.70825736\n",
    "\n",
    "    width = wc_min + (wc_max - wc_min) / (1.0 + np.exp(-beta * (lai - offset)))\n",
    "\n",
    "    return width\n",
    "\n",
    "\n",
    "def lai_2_fcover(lai, fc_min, fc_max):\n",
    "    beta = 7.0\n",
    "    offset = 1.70\n",
    "\n",
    "    fcover = fc_min + (fc_max - fc_min) / (1.0 + np.exp(-beta * (lai - offset)))\n",
    "\n",
    "    return fcover\n",
    "\n",
    "\n",
    "def lai_2_canopy(lai, hc_min, fc_min, fc_max):\n",
    "    hc = lai_2_hc(lai, hc_min)\n",
    "    hb_ratio = lai_2_hbratio(lai, hc_min)\n",
    "    fcover = lai_2_fcover(lai, fc_min, fc_max)\n",
    "\n",
    "    return hc, hb_ratio, fcover\n",
    "\n",
    "\n",
    "# Grapevine height\n",
    "h_c_vine, hb_ratio_vine, f_c_vine = lai_2_canopy(lai_vine, hc_min, wc_min / interrow, wc_max / interrow)\n",
    "# clip to maximum and minimum possible\n",
    "h_c_vine = np.clip(h_c_vine, hc_min, hc_max)\n",
    "f_c_vine = np.clip(f_c_vine, 0, 1)"
   ]
  },
  {
   "cell_type": "markdown",
   "id": "bc018c8d-0620-459a-9c28-55077b8d29c3",
   "metadata": {},
   "source": [
    "and for the herbaceous cover crop we assume a constant canopy heigh and full coverage"
   ]
  },
  {
   "cell_type": "code",
   "execution_count": null,
   "id": "bd216db8-aec1-49b8-85e3-ab8284d00942",
   "metadata": {},
   "outputs": [],
   "source": [
    "# Crop height\n",
    "h_c_cc = 0.35\n",
    "h_c_cc = np.full_like(h_c_vine, h_c_cc)\n",
    "# Crop coverage\n",
    "f_c_cc = np.ones_like(h_c_vine)\n",
    "# Crop width to height ratio\n",
    "w_c_cc = np.ones_like(h_c_vine)\n",
    "w_c_ratio_cc = np.ones_like(h_c_vine)"
   ]
  },
  {
   "cell_type": "markdown",
   "id": "46059722-7a5f-49c8-bc36-937a683112f2",
   "metadata": {
    "editable": true,
    "slideshow": {
     "slide_type": ""
    },
    "tags": []
   },
   "source": [
    "## Estimate vegetation clumping index\n",
    "\n",
    "Since grapevine canopies are highly clumped and have unique row structures, we will take into account row structure and orientation to calculate the clumping index, which is important when modelling the radiation transmission through the canopy. "
   ]
  },
  {
   "cell_type": "code",
   "execution_count": null,
   "id": "a72e275b-e77c-4eb6-aaf8-41db97fbdccb",
   "metadata": {
    "editable": true,
    "slideshow": {
     "slide_type": ""
    },
    "tags": []
   },
   "outputs": [],
   "source": [
    "# =======================================\n",
    "# Grapevine width\n",
    "w_c_vine = f_c_vine * interrow\n",
    "# Grapevine width to height ratio\n",
    "w_c_ratio_vine = w_c_vine / (h_c_vine - hb_ratio_vine * h_c_vine)\n",
    "# Grapevine Local LAI\n",
    "F_vine = lai_vine / f_c_vine\n",
    "\n",
    "# The time zone is PST, which corresponds to -120 deg, time longitude\n",
    "stdlon = -120\n",
    "# Call calc_sun_angles based on site coordinates and timestamp\n",
    "sza, saa = TSEB.met.calc_sun_angles(\n",
    "    np.full_like(ec['LAI'].values, lat),\n",
    "    np.full_like(ec[\"LAI\"].values, lon),\n",
    "    np.full_like(ec[\"LAI\"].values, stdlon),\n",
    "    ec['TIMESTAMP'].dt.dayofyear.values,\n",
    "    ec['TIMESTAMP'].dt.hour.values + ec['TIMESTAMP'].dt.minute.values / 60.)\n",
    "\n",
    "# Compute the relative sun-row azimuth angle\n",
    "psi = row_direction - saa\n",
    "# Compute the clumping index for row crops\n",
    "omega_vine = TSEB.CI.calc_omega_rows(lai_vine, f_c_vine, theta=sza, psi=psi, w_c=w_c_ratio_vine, x_lad=1)\n",
    "# effective lai\n",
    "lai_eff_vine = F_vine * omega_vine"
   ]
  },
  {
   "cell_type": "markdown",
   "id": "d4a3e89a-e23e-435d-8e32-f4ab33004d5f",
   "metadata": {},
   "source": [
    "On the other hand, for the cover crop we can assume that it is horizontally homogeneous and non-clumped"
   ]
  },
  {
   "cell_type": "markdown",
   "id": "95be0f35-a383-4b88-a5a3-08910367587c",
   "metadata": {},
   "source": [
    "## Estimate net radiation transfer through the three sources\n",
    "\n",
    "We use a beer-lambert (-type) modeling scheme to simulate the radiation transmission through the multiple vegetation canopies adapted from the model described in [**Chapter 15 of Campbell and Norman (1998)**](https://doi.org/10.1007/978-1-4612-1626-1_15). \n",
    "\n",
    ":::{seealso}\n",
    "The full description of the radiation model can be found in [**Campbell and Norman, 1998, Chapter 15**](https://doi.org/10.1007/978-1-4612-1626-1_15) and the deatils regarding the adaption to three sources is found in the supplementary information in [**Burchard-Levine et al. 2022**](https://doi.org/10.1111/gcb.16002)\n",
    ":::"
   ]
  },
  {
   "cell_type": "code",
   "execution_count": 1,
   "id": "98c53654-4cc9-413d-a385-eacc64df1464",
   "metadata": {
    "editable": true,
    "slideshow": {
     "slide_type": ""
    },
    "tags": []
   },
   "outputs": [
    {
     "ename": "NameError",
     "evalue": "name 'TSEB' is not defined",
     "output_type": "error",
     "traceback": [
      "\u001b[31m---------------------------------------------------------------------------\u001b[39m",
      "\u001b[31mNameError\u001b[39m                                 Traceback (most recent call last)",
      "\u001b[36mCell\u001b[39m\u001b[36m \u001b[39m\u001b[32mIn[1]\u001b[39m\u001b[32m, line 21\u001b[39m\n\u001b[32m     18\u001b[39m e_s = \u001b[32m0.94\u001b[39m  \u001b[38;5;66;03m# Soil emissivity\u001b[39;00m\n\u001b[32m     20\u001b[39m \u001b[38;5;66;03m# Estimates the direct and diffuse solar radiation\u001b[39;00m\n\u001b[32m---> \u001b[39m\u001b[32m21\u001b[39m difvis, difnir, fvis, fnir = \u001b[43mTSEB\u001b[49m.rad.calc_difuse_ratio(ec[\u001b[33m\"\u001b[39m\u001b[33mSW_IN\u001b[39m\u001b[33m\"\u001b[39m].values,\n\u001b[32m     22\u001b[39m                                                         sza,\n\u001b[32m     23\u001b[39m                                                         press=np.full_like(sza, \u001b[32m1013.15\u001b[39m))\n\u001b[32m     24\u001b[39m par_dir = fvis * (\u001b[32m1.\u001b[39m - difvis) * ec[\u001b[33m\"\u001b[39m\u001b[33mSW_IN\u001b[39m\u001b[33m\"\u001b[39m].values\n\u001b[32m     25\u001b[39m nir_dir = fnir * (\u001b[32m1.\u001b[39m - difnir) * ec[\u001b[33m\"\u001b[39m\u001b[33mSW_IN\u001b[39m\u001b[33m\"\u001b[39m].values\n",
      "\u001b[31mNameError\u001b[39m: name 'TSEB' is not defined"
     ]
    }
   ],
   "source": [
    "from py3seb import py3seb\n",
    "\n",
    "# We need to define the leaf spectral properties for grapevine and cover crop. For simplicity we can just replicate the same values for both\n",
    "rho_leaf_vis_vine = 0.054\n",
    "rho_leaf_vis_cc = 0.054\n",
    "rho_leaf_nir_vine = 0.262\n",
    "rho_leaf_nir_cc = 0.262\n",
    "tau_leaf_vis_vine = 0.038\n",
    "tau_leaf_vis_cc = 0.038\n",
    "tau_leaf_nir_vine = 0.333\n",
    "tau_leaf_nir_cc = 0.333\n",
    "rho_soil_vis = 0.07\n",
    "rho_soil_nir = 0.32\n",
    "\n",
    "# Thermal spectra\n",
    "e_vine = 0.99  # Leaf emissivity\n",
    "e_cc = 0.99  # Leaf emissivity\n",
    "e_s = 0.94  # Soil emissivity\n",
    "\n",
    "# Estimates the direct and diffuse solar radiation\n",
    "difvis, difnir, fvis, fnir = TSEB.rad.calc_difuse_ratio(ec[\"SW_IN\"].values,\n",
    "                                                        sza,\n",
    "                                                        press=np.full_like(sza, 1013.15))\n",
    "par_dir = fvis * (1. - difvis) * ec[\"SW_IN\"].values\n",
    "nir_dir = fnir * (1. - difnir) * ec[\"SW_IN\"].values\n",
    "par_dif = fvis * difvis * ec[\"SW_IN\"].values\n",
    "nir_dif = fnir * difnir * ec[\"SW_IN\"].values\n",
    "\n",
    "# net radiation transmission through the three sources\n",
    "sn_vine_3seb, sn_s_3seb, sn_cc_3seb = py3seb.calc_Sn_Campbell(lai_vine, \n",
    "                                                              lai_cc, \n",
    "                                                              sza, \n",
    "                                                              par_dir + nir_dir, \n",
    "                                                              par_dif + nir_dif, \n",
    "                                                              fvis, \n",
    "                                                              fnir,\n",
    "                                                              np.full_like(lai_vine, rho_leaf_vis_vine),\n",
    "                                                              np.full_like(lai_cc, rho_leaf_vis_cc),\n",
    "                                                              np.full_like(lai_vine, tau_leaf_vis_vine),\n",
    "                                                              np.full_like(lai_cc, tau_leaf_vis_cc),\n",
    "                                                              np.full_like(lai_vine, rho_leaf_nir_vine),\n",
    "                                                              np.full_like(lai_cc, rho_leaf_nir_cc),\n",
    "                                                              np.full_like(lai_vine, tau_leaf_nir_vine),\n",
    "                                                              np.full_like(lai_vine, tau_leaf_nir_cc),\n",
    "                                                              np.full_like(lai_vine, rho_soil_vis),\n",
    "                                                              np.full_like(lai_vine, rho_soil_nir), \n",
    "                                                              h_c_vine, \n",
    "                                                              h_c_vine * hb_ratio_vine, \n",
    "                                                              w_c_vine, \n",
    "                                                              f_c_vine,\n",
    "                                                              x_LAD=1, \n",
    "                                                              x_LAD_sub=1, \n",
    "                                                              LAI_eff=lai_eff_vine,\n",
    "                                                              LAI_eff_sub=lai_cc)\n",
    "\n",
    "sn_vine_3seb[~np.isfinite(sn_vine_3seb)] = 0\n",
    "sn_s_3seb[~np.isfinite(sn_s_3seb)] = 0\n",
    "sn_cc_3seb[~np.isfinite(sn_cc_3seb)] = 0\n",
    "print('Done!')"
   ]
  },
  {
   "cell_type": "markdown",
   "id": "7b9e1e40-1bf6-4f50-9927-e380e5f3eb62",
   "metadata": {},
   "source": [
    "### Evaluate net shortwave radiation"
   ]
  },
  {
   "cell_type": "code",
   "execution_count": null,
   "id": "d77b5045-6dcb-4014-b6de-30f5bd1cdf4c",
   "metadata": {},
   "outputs": [],
   "source": [
    "from model_evaluation import double_collocation as dc\n",
    "daytime = ec[\"SW_IN\"] > 100\n",
    "\n",
    "sn_3seb = sn_vine_3seb + sn_s_3seb + sn_cc_3seb\n",
    "sn_obs = ec[\"SW_IN\"].values - ec[\"SW_OUT\"].values\n",
    "\n",
    "fig = go.Figure()\n",
    "fig.add_trace(go.Scattergl(x=sn_3seb[daytime], y=sn_obs[daytime], \n",
    "                         name=\"Sn for row crops\", mode=\"markers\"))\n",
    "fig.add_trace(go.Scatter(x=[0, 1000], y=[0, 1000], mode=\"lines\", name=\"1:1 line\", line={\"color\": \"black\", \"dash\": \"dash\"}))\n",
    "fig.update_layout(title_text=f\"Observed vs. Estimated below net radiation at {w_site.label}\",\n",
    "                  yaxis_range=[0, 1000], xaxis_range=[0, 1000],\n",
    "                  xaxis_title=\"Estimated (W m-2)\", yaxis_title=\"Observed (W m-2)\")"
   ]
  },
  {
   "cell_type": "markdown",
   "id": "89c01c1f-20cd-4c97-9029-8ddb15e78e0a",
   "metadata": {
    "editable": true,
    "slideshow": {
     "slide_type": ""
    },
    "tags": []
   },
   "source": [
    "## Estimate surface roughness \n",
    "\n",
    "We estimate surface roughness using the same frameworks as implemented in TSEB (see ./103-TSEB_introduction.ipynb). \n",
    "\n",
    "For tall and woody canopies, in which leaf density and coverage can play a more importan role, pyTSEB can adopt the formulation of Schaudt and Dickinson (2000), which at the same time it relies on the model by [Raupach (1994))(https://doi.org/10.1007/BF00709229)\n",
    "\n",
    "Since vineyards can be considered as open shrublands or short decidous broadleaved canopies, we will compute roughness based on Schaudt and Dickinson (2000). As inputs we need not only the canopy height, but also the LAI, the fractional cover and the width-to-height canopy ratio \n",
    "\n",
    "In the case of 3SEB, we need to estimate the roughness for the overstory vegetation (i.e. grapevine) and the understory vegetation (i.e. cover crop). For the cover crop, we assume herbecaous conditions so we simple use canophy height ratio approach. "
   ]
  },
  {
   "cell_type": "code",
   "execution_count": null,
   "id": "0b056072-aa37-4ceb-8901-c8f7d7927e26",
   "metadata": {
    "editable": true,
    "slideshow": {
     "slide_type": ""
    },
    "tags": []
   },
   "outputs": [],
   "source": [
    "# Roughness for bare soil\n",
    "z0_soil = 0.15\n",
    "\n",
    "# grapevine\n",
    "# =========\n",
    "z_0m_vine, d_0_vine = TSEB.res.calc_roughness(lai_vine, h_c_vine, w_c_ratio_vine,\n",
    "                                              np.ones(lai_vine.shape) * TSEB.res.BROADLEAVED_D,\n",
    "                                              f_c=f_c_vine)\n",
    "# Ensure realistic values\n",
    "d_0_vine[d_0_vine < 0] = 0\n",
    "z_0m_vine[np.isnan(z_0m_vine)] = z0_soil\n",
    "z_0m_vine[z_0m_vine < z0_soil] = z0_soil\n",
    "\n",
    "# cover crop\n",
    "# ==========\n",
    "z_0m_cc, d_0_cc = TSEB.res.calc_roughness(lai_cc, h_c_cc, w_c_ratio_cc,\n",
    "                                          np.ones(lai_cc.shape) * TSEB.res.GRASS,\n",
    "                                          f_c=f_c_cc)\n",
    "\n",
    "# Ensure realistic values\n",
    "d_0_cc[d_0_cc < 0] = 0\n",
    "z_0m_cc[np.isnan(z_0m_cc)] = z0_soil\n",
    "z_0m_cc[z_0m_cc < z0_soil] = z0_soil\n",
    "print('Done!')"
   ]
  },
  {
   "cell_type": "markdown",
   "id": "8c7f5af5-2183-47ae-8675-c79906f0ba52",
   "metadata": {},
   "source": [
    "## TSEB/3SEB processing options and model parameters\n",
    "In this section, we set-up some processing options related to how we want to run 3SEB, including assigning some values to constant ancillary parameters. These are the same as those set-up to run pyTSEB but again we need to specify the parameters for each vegetaion layer. "
   ]
  },
  {
   "cell_type": "code",
   "execution_count": 2,
   "id": "55f262c8-5c75-424f-9d16-c3357a9414b8",
   "metadata": {
    "editable": true,
    "slideshow": {
     "slide_type": ""
    },
    "tags": []
   },
   "outputs": [],
   "source": [
    "alpha_PT_0 = 1.26\n",
    "\n",
    "# Grapevine and cover crop leaf width (m)\n",
    "leaf_width_vine = 0.10\n",
    "leaf_width_cc = 0.01\n",
    "\n",
    "# Kustas and Norman boundary layer resistance parameters\n",
    "roil_resistance_c_param = 0.0038\n",
    "roil_resistance_b_param = 0.012\n",
    "roil_resistance_cprime_param = 90.\n",
    "\n",
    "# Thermal spectra\n",
    "e_v = 0.99  # Leaf vine emissivity\n",
    "e_cc = 0.99   # Leaf crop emissivity\n",
    "e_s = 0.94  # Soil emissivity"
   ]
  },
  {
   "cell_type": "markdown",
   "id": "13e74a0f-fe18-4bbd-b64f-1f94879f424c",
   "metadata": {
    "editable": true,
    "slideshow": {
     "slide_type": ""
    },
    "tags": []
   },
   "source": [
    "## We derive the half-hourly LST based on pyrgeomters on the EC tower"
   ]
  },
  {
   "cell_type": "code",
   "execution_count": null,
   "id": "a7dd0e8a-f5e2-46f8-9a7c-080358bef247",
   "metadata": {},
   "outputs": [],
   "source": [
    "# Surface emissivity\n",
    "e_surf = f_c_vine * e_v + (1. - f_c_vine) * e_s\n",
    "\n",
    "# LST from longwave radiometers\n",
    "lst = ((ec['LW_OUT'].values - (1. - e_surf) * ec['LW_IN'].values) / (\n",
    "        TSEB.rad.SB * e_surf)) ** 0.25\n",
    "\n",
    "# And it is assuming that the radiometer is looking at nadir\n",
    "vza = np.zeros_like(lst)"
   ]
  },
  {
   "cell_type": "markdown",
   "id": "31278ddf-0ff3-423e-80bd-142df1c84f42",
   "metadata": {},
   "source": [
    "# Computing Sensible heat flux with 3SEB\n",
    "\n",
    "The key distinction of 3SEB is that we need to separate sensible heat fluxes between vegetation overstory, understory and soil layers. All this, using the the radiometric land surface temperature (LST) derived from remote sensing as the key boundary condition. It is assumeed thatthe singular LST observation is the combination of signals stemming from all three sources such as :\n",
    "\n",
    ":::{math}\n",
    ":label:eq-3SEB_Trad\n",
    "LST =(f_{ov}\\left(\\theta\\right)T_{ov}^4+\\left[1-f_{ov}\\left(\\theta\\right)\\right]T_{sub}^4)^{1/4}\\\\\n",
    "\n",
    "\\\\T_{sub} =(f_{un}\\left(\\theta\\right)T_{un}^4+\\left[1-f_{un}\\left(\\theta\\right)\\right]T_{s}^4)^{1/4}\\\\\n",
    "\n",
    ":::\n",
    "where $f_c\\left(\\theta\\right)$ is the fraction of vegetation observed by the sensor (either for understory (un) and overstory (ov)). Since the above equationsn[](#eq-3SEB_Trad) consists of three unknowns and only two equations, an iterative process is conducted using to initial guesses of potential canopy transpiration for both vegetation sources, and under the assumption that during daytime hours condensation for the soil/substrate should not occur. The initial canopy latent and sensible heat fluxes are estimated based on the [Priestley and Taylor (1972)](https://doi.org/10.1175/1520-0493(1972)100<0081:OTAOSH>2.3.CO;2) formulation for potential transpiration (Eq. [](#eq-TSEB_PT)) and Eq. [](#eq-eb).\n",
    "\n",
    "\n",
    "In 3SEB, resistance framework is first treated as a parallel (i.e., uncoupled) tree-substrate system to obtain tree canopy sensible heat flux ($H_C$) and substrate (understory vegetation+soil) ($H_{sub}$) using the heat transport equations:\n",
    "\n",
    ":::{math}\n",
    ":label:ec-hc-hsub\n",
    "H_C &= \\rho C_p \\frac{T_C - T_{a}} {R_A}\\\\\n",
    "H_{sub} &= \\rho C_p \\frac{T_{sub} - T_{a}} {R_A+R_{sub}}\n",
    ":::\n",
    "\n",
    "\n",
    "Subsequently, the substrate fluxes and temperatures are further separated incorporating a series (i.e. coupled) approach:\n",
    "\n",
    ":::{math}\n",
    ":label:ec-hcsub-hs\n",
    "H_{C,sub} &= \\rho C_p \\frac{T_{C,sub} - T_{ac}} {R_X}\\\\\n",
    "H_s &= \\rho C_p \\frac{T_S - T_{ac}} {R_S}\n",
    ":::\n",
    "\n",
    "\n",
    "Since $T_C$, $T_{C,sub}$ and $T_S$ are unknown apriori, the original 3SEB formulation (3SEB-PT) implements a Priestley-Taylor (PT) formulation, as in [Norman et al. (1995)](https://doi.org/10.1016/0168-1923(95)02265-Y), to compute a first estimate of the canopy LE and H for both overstory and understory. \n"
   ]
  },
  {
   "cell_type": "markdown",
   "id": "53984ce5-481a-40e7-83bc-f0cfbf7d17b3",
   "metadata": {},
   "source": [
    "## Run 3SEB\n",
    "\n",
    "We are now finally ready to run 3SEB\n",
    "\n",
    ":::{seealso}\n",
    ":class:dropdown\n",
    "The full code for 3SEB model at the [**3SEB GitHub repository**](https://github.com/VicenteBurchard/py3SEB/blob/c89b70e0f95d21338b65efc9cbbf90aac70ba3a0/py3seb/py3seb.py#L58)\n",
    ":::"
   ]
  },
  {
   "cell_type": "code",
   "execution_count": null,
   "id": "a182d50f-f384-4cbd-bdfe-fe95c7f92432",
   "metadata": {
    "editable": true,
    "slideshow": {
     "slide_type": ""
    },
    "tags": []
   },
   "outputs": [],
   "source": [
    "resistance_flag = [0, {\"KN_c\": np.full_like(lst, roil_resistance_c_param),\n",
    "                       \"KN_b\": np.full_like(lst, roil_resistance_b_param),\n",
    "                       \"KN_C_dash\": np.full_like(lst, roil_resistance_cprime_param)}]\n",
    "\n",
    "# Run 3SEB\n",
    "[flag_3seb, t_s_3seb, t_vine_3seb, t_cc_3seb, t_ac_3seb, ln_sub_3seb, ln_vine_3seb, \n",
    " ln_cc_3seb, ln_s_3seb, le_vine_3seb, h_vine_3seb, le_cc_3seb, h_cc_3seb,\n",
    " le_s_3seb, h_s_3seb, g_3seb, r_s_3seb, r_sub_3seb, r_x_3seb, r_a_3seb, u_friction_3seb, \n",
    " l_mo_3seb, n_iterations_3seb] = py3seb.ThreeSEB_PT(lst,\n",
    "                                                    vza,\n",
    "                                                    ec[\"TA\"].values,\n",
    "                                                    ec[\"WS\"].values,\n",
    "                                                    ec[\"EA\"].values,\n",
    "                                                    ec[\"PA\"].values,\n",
    "                                                    sn_vine_3seb,\n",
    "                                                    sn_s_3seb,\n",
    "                                                    sn_cc_3seb,\n",
    "                                                    ec[\"LW_IN\"].values,\n",
    "                                                    lai_vine,\n",
    "                                                    lai_cc,\n",
    "                                                    h_c_vine,\n",
    "                                                    h_c_cc,\n",
    "                                                    e_vine,\n",
    "                                                    e_cc,\n",
    "                                                    e_s,\n",
    "                                                    z_0m_vine,\n",
    "                                                    z_0m_cc,\n",
    "                                                    d_0_vine,\n",
    "                                                    d_0_cc,\n",
    "                                                    zm,\n",
    "                                                    zh,\n",
    "                                                    leaf_width=leaf_width_vine,\n",
    "                                                    leaf_width_sub=leaf_width_cc,\n",
    "                                                    f_c=f_c_vine,\n",
    "                                                    f_c_sub=f_c_cc,\n",
    "                                                    f_g=fg_vine,\n",
    "                                                    f_g_sub=fg_cc,\n",
    "                                                    calcG_params=[[1], 0.35],\n",
    "                                                    resistance_form=resistance_flag)\n",
    "\n",
    "# ... and finally we compute the bulk fluxes\n",
    "le_3seb = le_vine_3seb + le_cc_3seb + le_s_3seb\n",
    "h_3seb = h_vine_3seb + h_cc_3seb + h_s_3seb\n",
    "netrad_3seb = sn_vine_3seb + sn_cc_3seb + sn_s_3seb + ln_vine_3seb + ln_cc_3seb + ln_s_3seb"
   ]
  },
  {
   "cell_type": "markdown",
   "id": "13433394-9ab3-443e-b068-70ac6827ab27",
   "metadata": {},
   "source": [
    "# Run TSEB-PT for comparison\n",
    "\n",
    "Let us also run TSEB-PT for comparison purposes. "
   ]
  },
  {
   "cell_type": "code",
   "execution_count": null,
   "id": "a0c11ebc-af46-4719-b532-15035a6662f5",
   "metadata": {
    "editable": true,
    "slideshow": {
     "slide_type": ""
    },
    "tags": []
   },
   "outputs": [],
   "source": [
    "# Compute the canopy and soil net radiation using Cambpell RTM\n",
    "sn_c, sn_s = TSEB.rad.calc_Sn_Campbell(ec[\"LAI\"].values,\n",
    "                                       sza,\n",
    "                                       par_dir + nir_dir,\n",
    "                                       par_dif + nir_dif,\n",
    "                                       fvis,\n",
    "                                       fnir,\n",
    "                                       np.full_like(sza, rho_leaf_vis_vine),\n",
    "                                       np.full_like(sza, tau_leaf_vis_vine),\n",
    "                                       np.full_like(sza, rho_leaf_nir_vine),\n",
    "                                       np.full_like(sza, tau_leaf_nir_vine),\n",
    "                                       np.full_like(sza, rho_soil_vis),\n",
    "                                       np.full_like(sza, rho_soil_nir),\n",
    "                                       x_LAD=1,\n",
    "                                       LAI_eff=lai_eff_vine)\n",
    "\n",
    "sn_c[~np.isfinite(sn_c)] = 0\n",
    "sn_s[~np.isfinite(sn_s)] = 0\n",
    "\n",
    "# TSEB-PT\n",
    "[flag_pt, ts_pt, tc_pt, t_ac_pt, ln_s_pt, ln_c_pt, le_c_pt, h_c_pt, le_s_pt, h_s_pt, g_pt,\n",
    " r_s_pt, r_x_pt, r_a_pt, u_friction_pt, lmo_pt, n_iterations_pt] = TSEB.TSEB_PT(                                                     \n",
    "     lst,\n",
    "     vza,\n",
    "     ec[\"TA\"].values,\n",
    "     ec[\"WS\"].values,\n",
    "     ec[\"EA\"].values,\n",
    "     ec[\"PA\"].values,\n",
    "     sn_c,\n",
    "     sn_s,\n",
    "     ec[\"LW_IN\"].values,\n",
    "     ec[\"LAI\"].values,\n",
    "     h_c_vine,\n",
    "     e_vine,\n",
    "     e_s,\n",
    "     z_0m_vine,\n",
    "     d_0_vine,\n",
    "     zm,\n",
    "     zh,\n",
    "     x_LAD=np.ones_like(lst),\n",
    "     f_c=f_c_vine,\n",
    "     f_g=fg_vine,\n",
    "     w_C=w_c_ratio_vine,\n",
    "     leaf_width=leaf_width_vine,\n",
    "     z0_soil=z0_soil,\n",
    "     alpha_PT=alpha_PT_0,\n",
    "     resistance_form=resistance_flag,\n",
    "     calcG_params=[[1], 0.35])\n",
    "\n",
    "# ... and we compute the bulk fluxes\n",
    "le_pt = le_c_pt + le_s_pt\n",
    "h_pt = h_c_pt + h_s_pt\n",
    "netrad_pt = sn_c + sn_s + ln_c_pt + ln_s_pt"
   ]
  },
  {
   "cell_type": "markdown",
   "id": "ed57b51f-bced-427f-9faf-3f5f177a8f78",
   "metadata": {
    "editable": true,
    "slideshow": {
     "slide_type": ""
    },
    "tags": []
   },
   "source": [
    "# Model evaluation and visualization\n",
    "\n",
    "## Evaluate model fluxes at half-hourly scale \n",
    "\n",
    "Here, we will first create a scatter plot to evaluate how the modelled fluxes (LE, H, Rn, and G) compare to those measured by the EC tower. We will assess daytime fluxes (i.e. shortwave irradiance > 100 W/m2).\n",
    "\n",
    "Select which method of EB correction you want to apply during the validation and which year you want to evaluate (considering that cover crop might not be present in all years):"
   ]
  },
  {
   "cell_type": "code",
   "execution_count": null,
   "id": "a6ccac19-9ed0-4af5-9258-b5d67c8762b0",
   "metadata": {
    "editable": true,
    "slideshow": {
     "slide_type": ""
    },
    "tags": []
   },
   "outputs": [],
   "source": [
    "w_ebc = widgets.Dropdown(\n",
    "    options=[('No EB correction', (\"LE\", \"H\")), \n",
    "             ('Residual to LE', (\"LE_RES\", \"H\")), \n",
    "             ('Residual to H', (\"LE_RES\", \"H\")), \n",
    "             ('Bowen Ratio', (\"LE_BR\", \"H_BR\")),\n",
    "             ('Ensemble correction', (\"LE_ENS\", \"H_ENS\"))],\n",
    "    value=(\"LE_ENS\", \"H_ENS\"),\n",
    "    description='EBC method:',\n",
    ")\n",
    "\n",
    "years = np.unique(ec[\"TIMESTAMP\"].dt.year)\n",
    "w_year = widgets.Dropdown(\n",
    "    options=years,\n",
    "    value=2019,\n",
    "    description='Select year:',\n",
    ")\n",
    "\n",
    "display(w_ebc, w_year)"
   ]
  },
  {
   "cell_type": "code",
   "execution_count": null,
   "id": "a431f693-cda7-4efe-9d27-86d4d8a3e999",
   "metadata": {
    "editable": true,
    "slideshow": {
     "slide_type": ""
    },
    "tags": []
   },
   "outputs": [],
   "source": [
    "from tabulate import tabulate\n",
    "\n",
    "LE_OBS, H_OBS = w_ebc.value\n",
    "print(f\"Using {LE_OBS} and {H_OBS} fields for validating respectively  LE and H\")\n",
    "\n",
    "daytime = ec[\"SW_IN\"] > 100\n",
    "valid_3seb = np.logical_and(flag_3seb < 5, daytime, ec[\"TIMESTAMP\"].dt.year == w_year.value)\n",
    "valid_pt = np.logical_and(flag_pt < 5, daytime)\n",
    "\n",
    "le_marker = {\"color\": \"blue\", \"size\": 3}\n",
    "h_marker = {\"color\": \"red\", \"size\": 3}\n",
    "g_marker = {\"color\": \"green\", \"size\": 3}\n",
    "rn_marker = {\"color\": \"black\", \"size\": 3}\n",
    "\n",
    "fig = make_subplots(rows=1, cols=2,\n",
    "                    shared_yaxes=True,\n",
    "                    horizontal_spacing=0.01,\n",
    "                    subplot_titles=[\"3SEB\", \"TSEB-PT\"])\n",
    "\n",
    "fig.add_trace(go.Scattergl(x=netrad_3seb[valid_3seb], y=ec.loc[valid_3seb, \"NETRAD\"], \n",
    "                         name=\"Rn 3SEB\", mode=\"markers\", marker=rn_marker),\n",
    "             row=1, col=1)\n",
    "\n",
    "fig.add_trace(go.Scattergl(x=netrad_pt[valid_pt], y=ec.loc[valid_pt, \"NETRAD\"], \n",
    "                         name=\"Rn TSEB-PT\", mode=\"markers\", marker=rn_marker),\n",
    "             row=1, col=2)\n",
    "\n",
    "fig.add_trace(go.Scattergl(x=g_3seb[valid_3seb], y=ec.loc[valid_3seb, \"G\"], \n",
    "                         name=\"G 3SEB\", mode=\"markers\", marker=g_marker),\n",
    "             row=1, col=1)\n",
    "\n",
    "fig.add_trace(go.Scattergl(x=g_pt[valid_pt], y=ec.loc[valid_pt, \"G\"], \n",
    "                         name=\"G TSEB-PT\", mode=\"markers\", marker=g_marker),\n",
    "             row=1, col=2)\n",
    "\n",
    "fig.add_trace(go.Scattergl(x=le_3seb[valid_3seb], y=ec.loc[valid_3seb, LE_OBS], \n",
    "                         name=\"LE 3SEB\", mode=\"markers\", marker=le_marker),\n",
    "             row=1, col=1)\n",
    "\n",
    "fig.add_trace(go.Scattergl(x=le_pt[valid_pt], y=ec.loc[valid_pt, LE_OBS], \n",
    "                         name=\"LE TSEB-PT\", mode=\"markers\", marker=le_marker),\n",
    "             row=1, col=2)\n",
    "\n",
    "fig.add_trace(go.Scattergl(x=h_3seb[valid_3seb], y=ec.loc[valid_3seb, H_OBS], \n",
    "                         name=\"H 3SEB\", mode=\"markers\", marker=h_marker),\n",
    "             row=1, col=1)\n",
    "\n",
    "fig.add_trace(go.Scattergl(x=h_pt[valid_pt], y=ec.loc[valid_pt, H_OBS], \n",
    "                         name=\"H TSEB-PT\", mode=\"markers\", marker=h_marker),\n",
    "             row=1, col=2)\n",
    "\n",
    "fig.add_trace(go.Scatter(x=[-200, 800], y=[-200, 800], mode=\"lines\", name=\"1:1 line\", line={\"color\": \"black\", \"dash\": \"dash\"}),\n",
    "             row=1, col=1)\n",
    "fig.add_trace(go.Scatter(x=[-200, 800], y=[-200, 800], mode=\"lines\", name=\"1:1 line\", line={\"color\": \"black\", \"dash\": \"dash\"}),\n",
    "             row=1, col=2)\n",
    "\n",
    "\n",
    "fig.update_layout(title_text=f\"Observed vs. Estimated hourly turbulent fluxes at {w_site.label}\",\n",
    "                  yaxis_range=[-200, 800], xaxis_range=[-200, 800], \n",
    "                  xaxis_title=\"Estimated (W m-2)\", yaxis_title=\"Observed (W m-2)\")\n",
    "fig.update_xaxes(title_text=\"Estimated (W m-2)\", row=1, col=2)"
   ]
  },
  {
   "cell_type": "markdown",
   "id": "a918d7f3-2b16-4ceb-856a-29c2a943cf42",
   "metadata": {
    "editable": true,
    "slideshow": {
     "slide_type": ""
    },
    "tags": []
   },
   "source": [
    "## LE partitioning evaluation\n",
    "We will now compare the partitioning of LE from vegetation sources (i.e. transpiration) derived from 3SEB (i.e. LEvine + LEcc) compared to the those measured from the EC flux towers using the ensemble of CEC, REA and FVS approaches {cite:p}`https://doi.org/10.1016/j.agrformet.2021.108790`. "
   ]
  },
  {
   "cell_type": "code",
   "execution_count": null,
   "id": "8388c13c-fd88-4e5e-8804-e6662ced681f",
   "metadata": {},
   "outputs": [],
   "source": [
    "ec[\"LE_C\"] = np.nanmean(ec[[\"LE_C_ECC\", \"LE_C_REA\", \"LE_C_FVS\"]], axis=1)\n",
    "\n",
    "le_c_3seb = le_vine_3seb + le_cc_3seb\n",
    "\n",
    "fig = make_subplots(rows=1, cols=2,\n",
    "                    shared_yaxes=True,\n",
    "                    horizontal_spacing=0.01,\n",
    "                   subplot_titles=(\"3SEB\", \"TSEB-PT\"))\n",
    "\n",
    "fig.add_trace(go.Scattergl(x=le_c_3seb[valid_3seb], y=ec.loc[valid_3seb, \"LE_C\"], \n",
    "                         name=\"LE_C 3SEB\", mode=\"markers\", marker=le_marker),\n",
    "             row=1, col=1)\n",
    "\n",
    "fig.add_trace(go.Scattergl(x=le_c_pt[valid_pt], y=ec.loc[valid_pt, \"LE_C\"], \n",
    "                         name=\"LE TSEB-PT\", mode=\"markers\", marker=le_marker),\n",
    "             row=1, col=2)\n",
    "\n",
    "fig.add_trace(go.Scatter(x=[-200, 800], y=[-200, 800], mode=\"lines\", name=\"1:1 line\", line={\"color\": \"black\", \"dash\": \"dash\"}),\n",
    "             row=1, col=1)\n",
    "fig.add_trace(go.Scatter(x=[-200, 800], y=[-200, 800], mode=\"lines\", name=\"1:1 line\", line={\"color\": \"black\", \"dash\": \"dash\"}),\n",
    "             row=1, col=2)\n",
    "\n",
    "\n",
    "fig.update_layout(title_text=f\"Observed vs. Estimated hourly canopy latent heat flux {w_site.label}\",\n",
    "                  yaxis_range=[-200, 800], xaxis_range=[-200, 800], \n",
    "                  xaxis_title=\"Estimated (W m-2)\", yaxis_title=\"Observed (W m-2)\")\n",
    "\n",
    "fig.update_xaxes(title_text=\"Estimated (W m-2)\", row=1, col=2)"
   ]
  },
  {
   "cell_type": "markdown",
   "id": "d56e9bbc-2696-4404-b528-45fc05a32004",
   "metadata": {},
   "source": [
    "## Save outputs to an ASCII table"
   ]
  },
  {
   "cell_type": "code",
   "execution_count": null,
   "id": "c5b5f5b8-9b10-42ba-b7bc-cd61a8c7720f",
   "metadata": {},
   "outputs": [],
   "source": [
    "# Define the output filename\n",
    "out_dir = Path().absolute() / \"output\"\n",
    "outfile = out_dir / f\"FLX_US-{w_site.value}_FLUXNET2015_3SEB-ROWS_HR.csv\"\n",
    "\n",
    "# Create the output folder in case it does not exist\n",
    "if not out_dir.exists():\n",
    "    out_dir.mkdir(parents=True)\n",
    "\n",
    "le_3seb = le_vine_3seb + le_cc_3seb + le_s_3seb\n",
    "h_3seb = h_vine_3seb + h_cc_3seb + h_s_3seb\n",
    "netrad_3seb = sn_vine_3seb + sn_cc_3seb + sn_s_3seb + ln_vine_3seb + ln_cc_3seb + ln_s_3seb\n",
    "# Convert the outputs to a Python dictionary\n",
    "outdict = {\"TIMESTAMP\": ec[\"TIMESTAMP\"].dt.strftime(\"%Y%m%d%H%M\"),\n",
    "           \"FLAG_3SEB\": flag_3seb, \"LE_3SEB\": le_3seb, \"H_3SEB\": h_3seb, \"NETRAD_3SEB\": netrad_3seb, \"G_3SEB\": g_3seb, \n",
    "           \"T_S_3SEB\": t_s_3seb, \"T_CC_3SEB\": t_cc_3seb, \"T_VINE_3SEB\": t_vine_3seb, \"T_AC_3SEB\": t_ac_3seb, \n",
    "           \"LN_S_3SEB\": ln_s_3seb, \"LN_CC_3SEB\": ln_cc_3seb, \"LN_VINE_3SEB\": ln_vine_3seb, \"LE_CC_3SEB\": le_cc_3seb, \"H_CC_3SEB\": h_cc_3seb, \n",
    "           \"LE_S_3SEB\": le_s_3seb, \"H_S_3SEB\": h_s_3seb, \"LE_VINE_3SEB\": le_vine_3seb, \"H_VINE_3SEB\": h_vine_3seb, \n",
    "           \"R_S_3SEB\": r_s_3seb, \"R_SUB_3SEB\": r_sub_3seb, \"R_X_3SEB\": r_x_3seb, \"R_A_3SEB\": r_a_3seb, \"USTAR_3SEB\": u_friction_3seb, \n",
    "           \"L_MO_3SEB\":l_mo_3seb, \"ITERATIONS_3SEB\": n_iterations_3seb}\n",
    "\n",
    "# Crete the output dataframe and save it to csv\n",
    "pd.DataFrame(outdict).to_csv(outfile, sep=\";\", na_rep=-9999, index=False)\n",
    "print(f\"Saved to {outfile}\")\n",
    "\n",
    "outfile = out_dir / f\"FLX_US-{w_site.value}_FLUXNET2015_TSEB-PT-ROWS_HR.csv\"\n",
    "\n",
    "# Convert the outputs to a Python dictionary\n",
    "outdict = {\"TIMESTAMP\": ec[\"TIMESTAMP\"].dt.strftime(\"%Y%m%d%H%M\"),\n",
    "           \"FLAG_TSEBPT\": flag_pt, \"LE_TSEBPT\": le_pt, \"H_TSEBPT\": h_pt, \"NETRAD_TSEBPT\": netrad_pt, \"G_TSEBPT\": g_pt, \n",
    "           \"T_S_TSEBPT\": ts_pt, \"T_C_TSEBPT\": tc_pt, \"T_AC_TSEBPT\": t_ac_pt, \"LN_S_TSEBPT\": ln_s_pt, \"LN_C_TSEBPT\": ln_c_pt, \n",
    "           \"LE_C_TSEBPT\": le_c_pt, \"H_C_TSEBPT\": h_c_pt, \"LE_S_TSEBPT\": le_s_pt, \"H_S_TSEBPT\": h_s_pt, \"R_S_TSEBPT\": r_s_pt, \n",
    "           \"R_X_TSEBPT\": r_x_pt, \"R_A_TSEBPT\": r_a_pt, \"USTAR_TSEBPT\": u_friction_pt, \"L_MO_TSEBPT\":lmo_pt, \n",
    "           \"ITERATIONS_TSEBPT\": n_iterations_pt}\n",
    "\n",
    "# Crete the output dataframe and save it to csv\n",
    "pd.DataFrame(outdict).to_csv(outfile, sep=\";\", na_rep=-9999, index=False)\n",
    "print(f\"Saved to {outfile}\")\n"
   ]
  },
  {
   "cell_type": "markdown",
   "id": "c412441c-2c0e-41a3-80a6-3875190253bf",
   "metadata": {},
   "source": [
    "# Annual ET accounting\n",
    "One of the advantages of the 3SEB model is the ability to separate the flux contributions of the different vegetation (+soil) sources. In this section, we will check how much each source (vine, cover crop and soil) contribute to the total ET and account for their annual water use. "
   ]
  },
  {
   "cell_type": "markdown",
   "id": "537c4905-0d3a-42b6-b089-e086a5c5750a",
   "metadata": {},
   "source": [
    "## Instantaneous to daily\n",
    "We will first convert the instantaneous fluxes to daily, instead of aggregating all hourly 3SEB estimates we will upscale a single estimate (assuming it was obtained by a satellite overpass to daily).\n",
    "\n",
    "We will use the solar irradiance upscaling method, that assumes that the $\\lambda E/ S^\\downarrow$ ratio is preserved. Therefore, the daily latent heat fluxes are obtained as:\n",
    "\n",
    ":::{math}\n",
    ":label: daily_et\n",
    "\\lambda E_{daily} = S^\\downarrow_{daily} \\frac{\\lambda E_{inst.}}{S^\\downarrow_{inst.}}\n",
    ":::"
   ]
  },
  {
   "cell_type": "code",
   "execution_count": null,
   "id": "7b88ea02-5389-434a-97f1-6bf73dc434bb",
   "metadata": {},
   "outputs": [],
   "source": [
    "# Set the local time of satellie overpass in decimal hours\n",
    "overpass = 10.5\n",
    "\n",
    "\n",
    "# Aggregate hourly irradiance and temporature to daily means\n",
    "ec_daily = ec.groupby(ec[\"TIMESTAMP\"].dt.date)\n",
    "ec_daily = ec_daily[[\"SW_IN\", \"TA\"]].mean().reset_index()\n",
    "# Select only the year of interest\n",
    "ec_daily[\"TIMESTAMP\"] = pd.to_datetime(ec_daily[\"TIMESTAMP\"])\n",
    "ec_daily = ec_daily.loc[ec_daily[\"TIMESTAMP\"].dt.year == w_year.value]\n",
    "\n",
    "# Select only the year of interest and overpass time for instantaneous estimates\n",
    "valid = np.logical_and(ec[\"TIMESTAMP\"].dt.hour + ec[\"TIMESTAMP\"].dt.minute / 60 == overpass,\n",
    "                       ec[\"TIMESTAMP\"].dt.year == w_year.value)\n",
    "\n",
    "le_ratio = le_3seb[valid] / ec.loc[valid, \"SW_IN\"].values\n",
    "le_daily = le_ratio * ec_daily[\"SW_IN\"].values\n",
    "\n",
    "le_vine_ratio = le_vine_3seb[valid] / ec.loc[valid, \"SW_IN\"].values\n",
    "le_vine_daily = le_vine_ratio * ec_daily[\"SW_IN\"].values\n",
    "\n",
    "le_cc_ratio = le_cc_3seb[valid] / ec.loc[valid, \"SW_IN\"].values\n",
    "le_cc_daily = le_cc_ratio * ec_daily[\"SW_IN\"].values\n",
    "\n",
    "le_s_ratio = le_s_3seb[valid] / ec.loc[valid, \"SW_IN\"].values\n",
    "le_s_daily = le_s_ratio * ec_daily[\"SW_IN\"].values\n",
    "\n",
    "# convert to mm/day\n",
    "et_daily = TSEB.met.flux_2_evaporation(le_daily, time_domain=24, t_k=ec_daily[\"TA\"].values)\n",
    "et_vine_daily = TSEB.met.flux_2_evaporation(le_vine_daily, time_domain=24, t_k=ec_daily[\"TA\"].values)\n",
    "et_cc_daily = TSEB.met.flux_2_evaporation(le_cc_daily, time_domain=24, t_k=ec_daily[\"TA\"].values)\n",
    "et_s_daily = TSEB.met.flux_2_evaporation(le_s_daily, time_domain=24, t_k=ec_daily[\"TA\"].values)\n",
    "\n",
    "# get annual sums \n",
    "et_annual = np.nansum(et_daily)\n",
    "et_vine_annual = np.nansum(et_vine_daily)\n",
    "et_cc_annual = np.nansum(et_cc_daily)\n",
    "et_soil_annual = np.nansum(et_s_daily)\n",
    "\n",
    "%matplotlib inline\n",
    "from matplotlib import pyplot as plt\n",
    "# plot annual bar and pie chart for water accounting of each ET source \n",
    "fig, (ax1, ax2) = plt.subplots(nrows=1, ncols=2, figsize=(14, 6), dpi=300)\n",
    "# labels\n",
    "et_sources = ['$ET_{total}$', '$T_{vine}$', '$T_{cc}$', '$E_{soil}$']\n",
    "# values\n",
    "et_values = [et_annual, et_vine_annual, et_cc_annual, et_soil_annual]\n",
    "# relative contribution for pie chart\n",
    "ratios = [et_vine_annual/et_annual, et_cc_annual/et_annual, et_soil_annual/et_annual]\n",
    "# colors for each source\n",
    "colors = ['black', 'seagreen', 'steelblue', 'peru']\n",
    "# bar chart\n",
    "ax1.bar(et_sources, et_values, color=colors)\n",
    "ax1.set_ylabel('ET (mm/day)', fontsize=20)\n",
    "ax1.set_title('Annual water use (mm/year)', fontsize=22)\n",
    "# pie chart\n",
    "ax2.pie(ratios, labels=et_sources[1:], colors = colors[1:], autopct='%1.1f%%')\n",
    "ax2.set_title('Relative water use (%)', fontsize=22)\n",
    "\n",
    "plt.show()"
   ]
  },
  {
   "cell_type": "markdown",
   "id": "099f4919-d72d-4b3b-8802-04ec77d877ed",
   "metadata": {},
   "source": [
    "# Conclusions\n",
    "\n",
    "* 3SEB presents the advantage of partitioning fluxes from two distict coexisting canopies, one sparse overstory and another rather horizontally homogenous understory.\n",
    "* As compared to TSEB, it requires basically the same inputs plus an estimate of LAI separation between the overstory and the understory. With some knowledge of phenology of both layers, it is doable to make such separation\n",
    "* The improvement of 3SEB over TSEB is only evident when both layers are coexisting and actively transpiring. Otherwise TSEB could be used instead due to its greater simplicity.\n",
    "* [...]\n",
    "\n",
    ":::{note}\n",
    "Please feel free comment any thoughts. This is work in progress!!!\n",
    ":::"
   ]
  }
 ],
 "metadata": {
  "kernelspec": {
   "display_name": "Python 3 (ipykernel)",
   "language": "python",
   "name": "python3"
  },
  "language_info": {
   "codemirror_mode": {
    "name": "ipython",
    "version": 3
   },
   "file_extension": ".py",
   "mimetype": "text/x-python",
   "name": "python",
   "nbconvert_exporter": "python",
   "pygments_lexer": "ipython3",
   "version": "3.13.5"
  },
  "toc": {
   "base_numbering": 0
  }
 },
 "nbformat": 4,
 "nbformat_minor": 5
}
